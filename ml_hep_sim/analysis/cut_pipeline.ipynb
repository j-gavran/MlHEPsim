{
 "cells": [
  {
   "cell_type": "code",
   "execution_count": null,
   "id": "824cecb8-4001-4dbd-87e6-65249cf16424",
   "metadata": {},
   "outputs": [],
   "source": [
    "%cd ../../"
   ]
  },
  {
   "attachments": {},
   "cell_type": "markdown",
   "id": "0a6e2e9d-c5d0-4666-9017-ffda801ee1eb",
   "metadata": {},
   "source": [
    "# Get generator pipeline + classification"
   ]
  },
  {
   "cell_type": "code",
   "execution_count": null,
   "id": "37803b76-5bd6-445d-b973-38fe13beb259",
   "metadata": {},
   "outputs": [],
   "source": [
    "from ml_hep_sim.analysis.generator_pipeline import get_generator_pipeline"
   ]
  },
  {
   "cell_type": "code",
   "execution_count": null,
   "id": "adde851c-5435-43ef-a367-8e4c94b27080",
   "metadata": {},
   "outputs": [],
   "source": [
    "class_pipeline = get_generator_pipeline(use_classifier=True)"
   ]
  },
  {
   "attachments": {},
   "cell_type": "markdown",
   "id": "c1effb8a-0a1e-428a-9286-c39116b72f90",
   "metadata": {},
   "source": [
    "# Use cut on classifier"
   ]
  },
  {
   "cell_type": "code",
   "execution_count": null,
   "id": "39576685-4ed3-4ad9-ac21-48cd6e4a7bf1",
   "metadata": {},
   "outputs": [],
   "source": [
    "from ml_hep_sim.pipeline.blocks import CutBlock, CutByIndexBlock\n",
    "from ml_hep_sim.pipeline.pipes import Pipeline"
   ]
  },
  {
   "cell_type": "code",
   "execution_count": null,
   "id": "ef54bea7-0332-490d-8f24-d563f3cf3759",
   "metadata": {},
   "outputs": [],
   "source": [
    "b_sig_gen_class = class_pipeline.pipes[-4]\n",
    "b_bkg_gen_class = class_pipeline.pipes[-3]\n",
    "\n",
    "b_sig_mc_class = class_pipeline.pipes[-2]\n",
    "b_bkg_mc_class = class_pipeline.pipes[-1]"
   ]
  },
  {
   "cell_type": "code",
   "execution_count": null,
   "id": "dbca14e9-eb19-45bc-b770-2735b15d705d",
   "metadata": {},
   "outputs": [],
   "source": [
    "cut_value = 0.5\n",
    "\n",
    "b_sig_gen_class_cut = CutBlock(cut_value)(b_sig_gen_class)\n",
    "b_bkg_gen_class_cut = CutBlock(cut_value)(b_bkg_gen_class)\n",
    "\n",
    "b_sig_mc_class_cut = CutBlock(cut_value)(b_sig_mc_class)\n",
    "b_bkg_mc_class_cut = CutBlock(cut_value)(b_bkg_mc_class)"
   ]
  },
  {
   "attachments": {},
   "cell_type": "markdown",
   "id": "37c7a93d-0ea2-40e5-931f-d62320a7c638",
   "metadata": {},
   "source": [
    "# Cut all events"
   ]
  },
  {
   "cell_type": "code",
   "execution_count": null,
   "id": "72ed3f24-ae3c-44bc-b624-865b014adafe",
   "metadata": {},
   "outputs": [],
   "source": [
    "from ml_hep_sim.pipeline.blocks import CutByIndexBlock"
   ]
  },
  {
   "cell_type": "code",
   "execution_count": null,
   "id": "0e4c111a-6d92-4459-94d1-661f910eeb75",
   "metadata": {},
   "outputs": [],
   "source": [
    "b_sig_gen_data = class_pipeline.pipes[-8]\n",
    "b_bkg_gen_data = class_pipeline.pipes[-5]\n",
    "\n",
    "b_sig_mc_data = class_pipeline.pipes[1]\n",
    "b_bkg_mc_data = class_pipeline.pipes[3]"
   ]
  },
  {
   "cell_type": "code",
   "execution_count": null,
   "id": "8a8addf1-470c-489c-b46c-5c8c2e03c2f7",
   "metadata": {},
   "outputs": [],
   "source": [
    "b_sig_gen_data_cut = CutByIndexBlock()(b_sig_gen_class_cut, b_sig_gen_data)\n",
    "b_bkg_gen_data_cut = CutByIndexBlock()(b_bkg_gen_class_cut, b_bkg_gen_data)\n",
    "\n",
    "b_sig_mc_data_cut = CutByIndexBlock()(b_sig_mc_class_cut, b_sig_mc_data)\n",
    "b_bkg_mc_data_cut = CutByIndexBlock()(b_bkg_mc_class_cut, b_bkg_mc_data)"
   ]
  },
  {
   "attachments": {},
   "cell_type": "markdown",
   "id": "26b0785f-b953-42d6-b779-bb20b9e2e486",
   "metadata": {},
   "source": [
    "# Rescale back to original"
   ]
  },
  {
   "cell_type": "code",
   "execution_count": null,
   "id": "2424d81c-f11e-4e92-a5cf-b06d96337876",
   "metadata": {},
   "outputs": [],
   "source": [
    "from ml_hep_sim.pipeline.blocks import RedoRescaleDataBlock"
   ]
  },
  {
   "cell_type": "code",
   "execution_count": null,
   "id": "a0156ba4-c150-46e3-adde-9c83e082c31d",
   "metadata": {},
   "outputs": [],
   "source": [
    "b_sig_gen_data_cut_rescale = RedoRescaleDataBlock(scaler_idx=0)(class_pipeline.pipes[7], b_sig_gen_data_cut)\n",
    "b_bkg_gen_data_cut_rescale = RedoRescaleDataBlock(scaler_idx=0)(class_pipeline.pipes[10], b_bkg_gen_data_cut)\n",
    "\n",
    "b_sig_mc_data_cut_rescale = RedoRescaleDataBlock(scaler_idx=-1)(class_pipeline.pipes[1], b_sig_mc_data_cut)\n",
    "b_bkg_mc_data_cut_rescale = RedoRescaleDataBlock(scaler_idx=-1)(class_pipeline.pipes[3], b_bkg_mc_data_cut)"
   ]
  },
  {
   "attachments": {},
   "cell_type": "markdown",
   "id": "6964e47f-9974-4171-847a-d9eecde548b8",
   "metadata": {},
   "source": [
    "# Do fit"
   ]
  },
  {
   "cell_type": "code",
   "execution_count": null,
   "id": "d6061ee1-d030-42ea-bb85-26c557ff4532",
   "metadata": {},
   "outputs": [],
   "source": [
    "pipe = Pipeline()\n",
    "pipe.compose(\n",
    "    class_pipeline,\n",
    "    b_sig_gen_class_cut,\n",
    "    b_bkg_gen_class_cut,\n",
    "    b_sig_mc_class_cut,\n",
    "    b_bkg_mc_class_cut,\n",
    "    b_sig_gen_data_cut,\n",
    "    b_bkg_gen_data_cut,\n",
    "    b_sig_mc_data_cut,\n",
    "    b_bkg_mc_data_cut,\n",
    "    b_sig_gen_data_cut_rescale,\n",
    "    b_bkg_gen_data_cut_rescale,\n",
    "    b_sig_mc_data_cut_rescale,\n",
    "    b_bkg_mc_data_cut_rescale,\n",
    ")\n",
    "pipe.fit()"
   ]
  },
  {
   "cell_type": "code",
   "execution_count": null,
   "id": "436d2bb5-4437-465b-a5fb-633252b06edf",
   "metadata": {},
   "outputs": [],
   "source": [
    "pipe.draw_pipeline_tree(to_graphviz_file=\"pipeline_gen_cut\", block_idx=-4)"
   ]
  },
  {
   "attachments": {},
   "cell_type": "markdown",
   "id": "47bf8f7a-7e32-43cf-968f-864a7513be9d",
   "metadata": {},
   "source": [
    "# Plot classifier cut"
   ]
  },
  {
   "cell_type": "code",
   "execution_count": null,
   "id": "922f52a6-2941-4783-85f9-ed40adc7a505",
   "metadata": {},
   "outputs": [],
   "source": [
    "import matplotlib.pyplot as plt\n",
    "from ml_hep_sim.plotting.style import style_setup, set_size\n",
    "from ml_hep_sim.stats.stat_plots import N_sample_plot\n",
    "from ml_hep_sim.data_utils.higgs.process_higgs_dataset import LATEX_COLNAMES\n",
    "\n",
    "set_size()\n",
    "style_setup(seaborn_pallete=True)"
   ]
  },
  {
   "cell_type": "code",
   "execution_count": null,
   "id": "30a3f2c4-8634-43f8-b262-18a0bdf688fc",
   "metadata": {},
   "outputs": [],
   "source": [
    "sig_gen = pipe.pipes[-4-8].results\n",
    "bkg_gen = pipe.pipes[-3-8].results\n",
    "sig_mc = pipe.pipes[-2-8].results[: len(sig_gen)]\n",
    "bkg_mc = pipe.pipes[-1-8].results[: len(sig_gen)]"
   ]
  },
  {
   "cell_type": "code",
   "execution_count": null,
   "id": "769df85f-42d2-451b-8f70-3e79b8f9ed04",
   "metadata": {},
   "outputs": [],
   "source": [
    "plt.hist(sig_gen, histtype=\"step\", range=(-0.5, 1.25), bins=40, lw=2)\n",
    "plt.hist(bkg_gen, histtype=\"step\", range=(-0.5, 1.25), bins=40, lw=2)\n",
    "plt.hist(sig_mc, histtype=\"step\", range=(-0.5, 1.25), bins=40, lw=2)\n",
    "plt.hist(bkg_mc, histtype=\"step\", range=(-0.5, 1.25), bins=40, lw=2)\n",
    "plt.legend([\"sig gen\", \"bkg gen\", \"sig mc\", \"bkg mc\"], loc=\"upper left\")\n",
    "plt.tight_layout()"
   ]
  },
  {
   "cell_type": "code",
   "execution_count": null,
   "id": "01f4839d-d868-4326-8170-d0ead94639d9",
   "metadata": {},
   "outputs": [],
   "source": [
    "sig_mc = pipe.pipes[-2].reference_data\n",
    "bkg_mc = pipe.pipes[-1].reference_data\n",
    "sig_gen = pipe.pipes[-4].generated_data\n",
    "bkg_gen = pipe.pipes[-3].generated_data"
   ]
  },
  {
   "cell_type": "code",
   "execution_count": null,
   "id": "ad5c9edd-9c70-4cb4-a0db-72b711d8780d",
   "metadata": {},
   "outputs": [],
   "source": [
    "BIN_RANGES = [\n",
    "    [0, 4],\n",
    "    [-3, 3],\n",
    "    [-0.1, 4],\n",
    "    [0, 5],\n",
    "    [-4, 4],\n",
    "    [0, 4],\n",
    "    [-5, 5],\n",
    "    [0, 5],\n",
    "    [-4, 4],\n",
    "    [0, 5],\n",
    "    [-3, 3],\n",
    "    [0, 3],\n",
    "    [0, 3],\n",
    "    [0.9, 1.5],\n",
    "    [0, 3],\n",
    "    [0, 2.5],\n",
    "    [0, 2.5],\n",
    "    [0, 2],\n",
    "]"
   ]
  },
  {
   "cell_type": "code",
   "execution_count": null,
   "id": "5a9d4379-8ae5-46f1-b481-a289d061a1c0",
   "metadata": {},
   "outputs": [],
   "source": [
    "fig, axs = plt.subplots(6, 3, figsize=(13, 19))\n",
    "axs = axs.flatten()\n",
    "\n",
    "res = [sig_gen, bkg_gen, sig_mc, bkg_mc]\n",
    "\n",
    "N_sample_plot(res, axs, n_bins=40, log_scale=False, \n",
    "              labels=LATEX_COLNAMES, lw=2, alpha=1, \n",
    "              label=[\"sig gen\", \"bkg gen\", \"sig mc\", \"bkg mc\"],\n",
    "              xlim=BIN_RANGES, bin_range=BIN_RANGES)\n",
    "plt.tight_layout()\n",
    "plt.savefig(\"gen_mc_cut_dists.pdf\")"
   ]
  },
  {
   "cell_type": "code",
   "execution_count": null,
   "id": "1b4b9b48-a3ce-4f4f-9161-07dcc92ea339",
   "metadata": {},
   "outputs": [],
   "source": []
  }
 ],
 "metadata": {
  "kernelspec": {
   "display_name": "Python 3 (ipykernel)",
   "language": "python",
   "name": "python3"
  },
  "language_info": {
   "codemirror_mode": {
    "name": "ipython",
    "version": 3
   },
   "file_extension": ".py",
   "mimetype": "text/x-python",
   "name": "python",
   "nbconvert_exporter": "python",
   "pygments_lexer": "ipython3",
   "version": "3.11.3"
  }
 },
 "nbformat": 4,
 "nbformat_minor": 5
}
