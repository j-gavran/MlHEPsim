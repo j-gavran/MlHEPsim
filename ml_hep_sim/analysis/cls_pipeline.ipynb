{
 "cells": [
  {
   "cell_type": "code",
   "execution_count": null,
   "id": "d6166cd0-1ed7-4ba1-9401-fdeb244d61d6",
   "metadata": {},
   "outputs": [],
   "source": [
    "%cd ../../"
   ]
  },
  {
   "cell_type": "code",
   "execution_count": null,
   "id": "ea1d7fe0-1009-46a0-8f97-3cde755e3fc2",
   "metadata": {},
   "outputs": [],
   "source": [
    "saved = \"ml_hep_sim/analysis/results/cls/\""
   ]
  },
  {
   "cell_type": "markdown",
   "id": "4c7d063b-5f35-411e-90f4-02befc94c118",
   "metadata": {},
   "source": [
    "$q_0$ is used to test $\\mu=0$ in a class of model where we assume $\\mu \\geq 0$. Rejecting $\\mu=0$ hypothesis leads to the discovery of a new signal."
   ]
  },
  {
   "cell_type": "markdown",
   "id": "8a661af2-3704-4738-8e41-4beff81c749d",
   "metadata": {},
   "source": [
    "# Get CLs pipeline and fit"
   ]
  },
  {
   "cell_type": "code",
   "execution_count": null,
   "id": "15711720-53c0-48fc-89ba-f7974d6dfcad",
   "metadata": {},
   "outputs": [],
   "source": [
    "from ml_hep_sim.analysis.cls_pipeline import get_cls_pipeline\n",
    "\n",
    "import matplotlib.pyplot as plt\n",
    "from ml_hep_sim.plotting.style import style_setup, set_size\n",
    "\n",
    "import numpy as np\n",
    "\n",
    "from ml_hep_sim.pipeline.pipeline_loggers import setup_logger\n",
    "\n",
    "logger = setup_logger(log_name=\"cls\", log_path=\"ml_pipeline/\")\n",
    "\n",
    "set_size()\n",
    "style_setup(seaborn_pallete=True)"
   ]
  },
  {
   "cell_type": "code",
   "execution_count": null,
   "id": "ab332505-c640-4c08-bfb5-43d37e3942e5",
   "metadata": {},
   "outputs": [],
   "source": [
    "use_class = False\n",
    "\n",
    "pts = 40\n",
    "\n",
    "cls_pipeline = get_cls_pipeline(pts=pts, lumi=100, use_classifier=use_class, \n",
    "                                bin_range=(0.5, 1.1) if use_class else (0.01, 3.0),\n",
    "                                N_gen=10**6, logger=logger, scale_by_alpha=False)"
   ]
  },
  {
   "cell_type": "code",
   "execution_count": null,
   "id": "f80ca369-cfc3-4976-bb98-fd5aa6bd962d",
   "metadata": {},
   "outputs": [],
   "source": [
    "if use_class:\n",
    "    saved += \"class_\"\n",
    "else:\n",
    "    saved += \"mbb_\""
   ]
  },
  {
   "cell_type": "code",
   "execution_count": null,
   "id": "e0b4fde9-8860-4872-8a91-d981289220a2",
   "metadata": {},
   "outputs": [],
   "source": [
    "saved"
   ]
  },
  {
   "cell_type": "code",
   "execution_count": null,
   "id": "1f2c50ed-0dcb-4926-b7bb-387183b81f2e",
   "metadata": {
    "tags": []
   },
   "outputs": [],
   "source": [
    "res = cls_pipeline.fit()"
   ]
  },
  {
   "cell_type": "code",
   "execution_count": null,
   "id": "eba53f40-6cf7-42f0-8ab0-e899281259da",
   "metadata": {},
   "outputs": [],
   "source": [
    "parsed_res = res.pipes[-1].parsed_results\n",
    "mc_res = parsed_res[\"mc_res\"]\n",
    "ml_res = parsed_res[\"ml_res\"]"
   ]
  },
  {
   "cell_type": "code",
   "execution_count": null,
   "id": "d9028185-922f-47ea-a1d1-d321464b21ba",
   "metadata": {},
   "outputs": [],
   "source": [
    "ml_res"
   ]
  },
  {
   "cell_type": "code",
   "execution_count": null,
   "id": "0bba9442-1a76-4406-8d01-f068f01a65c9",
   "metadata": {},
   "outputs": [],
   "source": [
    "x = np.array([float(i) * 100 for i in ml_res[\"sig_frac\"].values])\n",
    "y = np.array([float(i) * 100 for i in ml_res[\"bkg_err\"].values])\n",
    "z = np.array([float(i) for i in ml_res[\"p_sb\"].values])\n",
    "\n",
    "plt.xlabel(\"signal fraction \\%\")\n",
    "plt.ylabel(\"sys. error \\%\")\n",
    "\n",
    "plt.hexbin(x, y, z, gridsize=29)\n",
    "plt.colorbar(label=\"$p$-value\")\n",
    "plt.tight_layout()\n",
    "\n",
    "plt.savefig(saved + \"hexbin_clsb_ml.pdf\")"
   ]
  },
  {
   "cell_type": "code",
   "execution_count": null,
   "id": "829201fb-ab5f-4076-a06f-12da93bfeaf1",
   "metadata": {},
   "outputs": [],
   "source": [
    "x = np.array([float(i) * 100 for i in ml_res[\"sig_frac\"].values])\n",
    "y = np.array([float(i) * 100 for i in ml_res[\"bkg_err\"].values])\n",
    "z = np.array([float(i) for i in ml_res[\"p_s\"].values])\n",
    "\n",
    "plt.xlabel(\"signal fraction \\%\")\n",
    "plt.ylabel(\"sys. error \\%\")\n",
    "\n",
    "plt.hexbin(x, y, z, gridsize=29)\n",
    "plt.colorbar(label=\"$p$-value\")\n",
    "plt.tight_layout()\n",
    "\n",
    "plt.savefig(saved + \"hexbin_cls_ml.pdf\")"
   ]
  },
  {
   "cell_type": "code",
   "execution_count": null,
   "id": "3b41c5ba-458a-4771-aca6-9ab4fd5ccc0f",
   "metadata": {},
   "outputs": [],
   "source": [
    "x = np.array([float(i) * 100 for i in ml_res[\"sig_frac\"].values])\n",
    "y = np.array([float(i) * 100 for i in ml_res[\"bkg_err\"].values])\n",
    "z = np.array([float(i) for i in mc_res[\"p_sb\"].values])\n",
    "\n",
    "plt.xlabel(\"signal fraction \\%\")\n",
    "plt.ylabel(\"sys. error \\%\")\n",
    "\n",
    "plt.hexbin(x, y, z, gridsize=29)\n",
    "plt.colorbar(label=\"$p$-value\")\n",
    "plt.tight_layout()\n",
    "\n",
    "plt.savefig(saved + \"hexbin_clsb_mc.pdf\")"
   ]
  },
  {
   "cell_type": "code",
   "execution_count": null,
   "id": "14eb55e1-4ff0-4cc6-95ef-fb1b3f7144c9",
   "metadata": {},
   "outputs": [],
   "source": [
    "x = np.array([float(i) * 100 for i in ml_res[\"sig_frac\"].values])\n",
    "y = np.array([float(i) * 100 for i in ml_res[\"bkg_err\"].values])\n",
    "z = np.array([float(i) for i in mc_res[\"p_s\"].values])\n",
    "\n",
    "plt.xlabel(\"signal fraction \\%\")\n",
    "plt.ylabel(\"sys. error \\%\")\n",
    "\n",
    "plt.hexbin(x, y, z, gridsize=29)\n",
    "plt.colorbar(label=\"$p$-value\")\n",
    "plt.tight_layout()\n",
    "\n",
    "plt.savefig(saved + \"hexbin_cls_mc.pdf\")"
   ]
  },
  {
   "cell_type": "code",
   "execution_count": null,
   "id": "208772a0-021c-4354-a66f-8fa6fbdb7829",
   "metadata": {},
   "outputs": [],
   "source": [
    "x = np.array([float(i) * 100 for i in ml_res[\"sig_frac\"].values])\n",
    "y = np.array([float(i) * 100 for i in ml_res[\"bkg_err\"].values])\n",
    "z = np.array([float(i) for i in ml_res[\"teststat\"].values])\n",
    "\n",
    "plt.xlabel(\"signal fraction \\%\")\n",
    "plt.ylabel(\"sys. error \\%\")\n",
    "\n",
    "plt.hexbin(x, y, z, gridsize=29)\n",
    "plt.colorbar(label=\"$q_0$\")\n",
    "plt.tight_layout()\n",
    "\n",
    "plt.savefig(saved + \"hexbin_q0_ml.pdf\")"
   ]
  },
  {
   "cell_type": "markdown",
   "id": "e85ff687-6b10-443e-900a-ae862fd56d92",
   "metadata": {},
   "source": [
    "# Constant signal fraction"
   ]
  },
  {
   "cell_type": "code",
   "execution_count": null,
   "id": "d587c2e2-6f33-46e1-bc1c-41f91e7aa1ca",
   "metadata": {},
   "outputs": [],
   "source": [
    "sig_fracs = np.linspace(0.01, 0.1, pts)\n",
    "bkg_errs = np.linspace(0.01, 0.1, pts)"
   ]
  },
  {
   "cell_type": "code",
   "execution_count": null,
   "id": "4a202ff7-ff68-4cc4-a213-1a757b5dcde6",
   "metadata": {},
   "outputs": [],
   "source": [
    "sig_fracs, bkg_errs"
   ]
  },
  {
   "cell_type": "code",
   "execution_count": null,
   "id": "bbaf7464-bf8b-4b55-9fdc-17643c905571",
   "metadata": {},
   "outputs": [],
   "source": [
    "for e in [bkg_errs[0], bkg_errs[18], bkg_errs[-1]]:\n",
    "    ml_ = ml_res[ml_res[\"bkg_err\"] == e]\n",
    "    plt.scatter(sig_fracs, ml_[\"teststat\"], label='$\\sigma_\\mathrm{sys}=$' + f\"{100*e:.1f}\\%\")\n",
    "\n",
    "plt.xlabel(r\"$\\alpha$\")\n",
    "plt.ylabel(\"$q_0$ ML\")\n",
    "plt.legend()\n",
    "plt.tight_layout()\n",
    "\n",
    "plt.savefig(saved + \"q0_vs_sigfrac.pdf\")"
   ]
  },
  {
   "cell_type": "code",
   "execution_count": null,
   "id": "22dbdea5-543d-46a8-ac93-bb6bef9568cd",
   "metadata": {},
   "outputs": [],
   "source": [
    "for sf in [*sig_fracs[:10]]:\n",
    "    ml_ = ml_res[ml_res[\"sig_frac\"] == sf]\n",
    "    plt.plot(bkg_errs, ml_[\"teststat\"], label=r'$\\alpha=$' + f'{100*sf:.1f}\\%', lw=3)\n",
    "\n",
    "plt.legend(ncol=1, loc='upper left')\n",
    "plt.xlim([0, 0.105])\n",
    "plt.xlabel(r\"sys. error\")\n",
    "plt.ylabel(\"$q_0$ ML\")\n",
    "plt.tight_layout()\n",
    "\n",
    "plt.savefig(saved + \"q0_vs_syserr.pdf\")"
   ]
  },
  {
   "cell_type": "code",
   "execution_count": null,
   "id": "303d2576-bf89-4bd5-b2b2-c0129d193dee",
   "metadata": {},
   "outputs": [],
   "source": [
    "for i, f in enumerate(sig_fracs):\n",
    "    ml_ = ml_res[ml_res[\"sig_frac\"] == f]\n",
    "    mc_ = mc_res[mc_res[\"sig_frac\"] == f]\n",
    "\n",
    "    plt.plot(ml_[\"bkg_err\"] * 100, ml_[\"p_sb\"], c=\"C0\", lw=3)\n",
    "    plt.plot(ml_[\"bkg_err\"] * 100, ml_[\"p_b\"], c=\"C1\", lw=3)\n",
    "    plt.plot(ml_[\"bkg_err\"] * 100, ml_[\"p_s\"], c=\"C2\", lw=3)\n",
    "\n",
    "    plt.plot(mc_[\"bkg_err\"] * 100, mc_[\"p_sb\"], ls='--', c='C0', lw=3)\n",
    "    plt.plot(mc_[\"bkg_err\"] * 100, mc_[\"p_b\"], ls='--', c='C1', lw=3)\n",
    "    plt.plot(mc_[\"bkg_err\"] * 100, mc_[\"p_s\"], ls='--', c='C2', lw=3)\n",
    "\n",
    "    plt.legend([\"CLsb\", \"CLb\", \"CLs\", \"CLsb MC\", \"CLb MC\", \"CLs MC\"], ncol=2)\n",
    "\n",
    "    plt.xlabel(\"sys. error \\% (signal fraction {:.3f}\\%)\".format(f), fontsize=22)\n",
    "    plt.ylabel(\"$p$-value\", fontsize=22)\n",
    "    plt.tight_layout()\n",
    "\n",
    "    plt.savefig(saved + f\"CLs_q0_mu0_bkg_errs_{i}.pdf\")\n",
    "    plt.show()"
   ]
  },
  {
   "cell_type": "code",
   "execution_count": null,
   "id": "8ad10a0d-9eb3-4cb3-ad50-87487f006bcc",
   "metadata": {},
   "outputs": [],
   "source": [
    "# plt.plot(mc_[\"bkg_err\"] * 100, mc_[\"p_sb\"] - ml_[\"p_sb\"], ls='-', c='C0', lw=3)\n",
    "# plt.plot(mc_[\"bkg_err\"] * 100, mc_[\"p_b\"] - ml_[\"p_b\"], ls='-', c='C1', lw=3)\n",
    "# plt.plot(mc_[\"bkg_err\"] * 100, mc_[\"p_s\"] - ml_[\"p_s\"], ls='-', c='C2', lw=3)\n",
    "\n",
    "# plt.legend([\"CLsb MC - CLsb\", \"CLb MC - CLb\", \"CLs MC - CLs\"])\n",
    "\n",
    "# plt.xlabel(\"sys. error \\% (signal fraction {:.2f}\\%)\".format(f), fontsize=22)\n",
    "# plt.ylabel(\"$p$-value difference\", fontsize=22)\n",
    "# plt.tight_layout()\n",
    "\n",
    "# plt.savefig(saved + \"CLs_q0_mu0_bkg_errs_diff.pdf\")"
   ]
  },
  {
   "cell_type": "markdown",
   "id": "faba9132-a067-42df-b11b-a3647e9a4c3b",
   "metadata": {},
   "source": [
    "# Constant background error"
   ]
  },
  {
   "cell_type": "code",
   "execution_count": null,
   "id": "47a8332a-0473-4fe7-9d37-cc26b69d693a",
   "metadata": {
    "tags": []
   },
   "outputs": [],
   "source": [
    "for i, f in enumerate(bkg_errs):\n",
    "    ml_ = ml_res[ml_res[\"bkg_err\"] == f]\n",
    "    mc_ = mc_res[mc_res[\"bkg_err\"] == f]\n",
    "    \n",
    "    plt.plot(ml_[\"sig_frac\"] * 100, ml_[\"p_sb\"], c=\"C0\", lw=3)\n",
    "    plt.plot(ml_[\"sig_frac\"] * 100, ml_[\"p_b\"], c=\"C1\", lw=3)\n",
    "    plt.plot(ml_[\"sig_frac\"] * 100, ml_[\"p_s\"], c=\"C2\", lw=3)\n",
    "\n",
    "    plt.plot(mc_[\"sig_frac\"] * 100, mc_[\"p_sb\"], ls='--', c='C0', lw=3)\n",
    "    plt.plot(mc_[\"sig_frac\"] * 100, mc_[\"p_b\"], ls='--', c='C1', lw=3)\n",
    "    plt.plot(mc_[\"sig_frac\"] * 100, mc_[\"p_s\"], ls='--', c='C2', lw=3)\n",
    "\n",
    "    plt.legend([\"CLsb\", \"CLb\", \"CLs\", \"CLsb MC\", \"CLb MC\", \"CLs MC\"], ncol=2)\n",
    "\n",
    "    plt.xlabel(f\"signal fraction \\% (sys.error {100*f:.1f}\\%)\", fontsize=22)\n",
    "    plt.ylabel(\"$p$-value\", fontsize=22)\n",
    "    plt.tight_layout()\n",
    "\n",
    "    plt.savefig(saved + f\"CLs_q0_mu0_sig_fracs_{i}.pdf\")\n",
    "    plt.show()"
   ]
  },
  {
   "cell_type": "code",
   "execution_count": null,
   "id": "40c45bf2-4aba-4497-93fe-de7418b9abff",
   "metadata": {},
   "outputs": [],
   "source": []
  },
  {
   "cell_type": "code",
   "execution_count": null,
   "id": "aa8a4e25-01b2-4245-879e-323ffc19e4c9",
   "metadata": {},
   "outputs": [],
   "source": []
  }
 ],
 "metadata": {
  "kernelspec": {
   "display_name": "Python 3 (ipykernel)",
   "language": "python",
   "name": "python3"
  },
  "language_info": {
   "codemirror_mode": {
    "name": "ipython",
    "version": 3
   },
   "file_extension": ".py",
   "mimetype": "text/x-python",
   "name": "python",
   "nbconvert_exporter": "python",
   "pygments_lexer": "ipython3",
   "version": "3.11.3"
  }
 },
 "nbformat": 4,
 "nbformat_minor": 5
}
