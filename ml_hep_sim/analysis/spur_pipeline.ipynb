{
 "cells": [
  {
   "cell_type": "code",
   "execution_count": null,
   "id": "31dfcafd-4404-4018-9195-80854916a6bc",
   "metadata": {},
   "outputs": [],
   "source": [
    "%cd ../../"
   ]
  },
  {
   "cell_type": "code",
   "execution_count": null,
   "id": "92f8c06d-8bf4-47bc-bce8-c22029c5cfcc",
   "metadata": {},
   "outputs": [],
   "source": [
    "saved = \"ml_hep_sim/analysis/results/spur/\""
   ]
  },
  {
   "cell_type": "markdown",
   "id": "4d6a56e5-72dd-479a-a114-a98be9552bfc",
   "metadata": {},
   "source": [
    "# Get pipeline"
   ]
  },
  {
   "cell_type": "code",
   "execution_count": null,
   "id": "3c172303-2765-49eb-b6b7-299a64df8e16",
   "metadata": {},
   "outputs": [],
   "source": [
    "import numpy as np\n",
    "from ml_hep_sim.analysis.spur_pipeline import get_spur_pipeline"
   ]
  },
  {
   "cell_type": "code",
   "execution_count": null,
   "id": "b0e07ce9-9262-4a28-8aa7-18fb40249fb7",
   "metadata": {
    "tags": []
   },
   "outputs": [],
   "source": [
    "bonly = False\n",
    "mc_test = False\n",
    "use_class = True\n",
    "\n",
    "nu_bs = np.linspace(10 ** 3, 10 ** 5, 40)\n",
    "alphas = np.linspace(0.01, 0.1, 10)\n",
    "\n",
    "pipe = get_spur_pipeline(\n",
    "    nu_bs,\n",
    "    alphas,\n",
    "    bin_range=(0.5, 1.1) if use_class else (0.01, 3.0),\n",
    "    use_classifier=use_class,\n",
    "    bonly=bonly,\n",
    "    mc_test=mc_test,\n",
    "    scale_by_alpha=True,\n",
    ")\n",
    "\n",
    "pipe.fit()\n",
    "\n",
    "res = pipe.pipes[-1]"
   ]
  },
  {
   "cell_type": "code",
   "execution_count": null,
   "id": "159bc6af-3f54-4837-9ff8-93f99dbc487d",
   "metadata": {},
   "outputs": [],
   "source": [
    "if use_class and not mc_test:\n",
    "    saved += \"class_\"\n",
    "elif use_class and mc_test:\n",
    "    saved += \"class_mc_\"\n",
    "elif mc_test:\n",
    "    saved += \"mbb_mc_\"\n",
    "else:\n",
    "    saved += \"mbb_\"\n",
    "    \n",
    "if bonly:\n",
    "    saved += \"bonly_\""
   ]
  },
  {
   "cell_type": "code",
   "execution_count": null,
   "id": "11092e65-c273-4da3-b501-a8deeab0f5e5",
   "metadata": {},
   "outputs": [],
   "source": [
    "saved"
   ]
  },
  {
   "cell_type": "markdown",
   "id": "0fc22ec5-94aa-46c9-a010-6b3f667b00d1",
   "metadata": {},
   "source": [
    "# Spurious signal"
   ]
  },
  {
   "cell_type": "code",
   "execution_count": null,
   "id": "1cf5f720-764a-4235-924a-dfa4c776f716",
   "metadata": {},
   "outputs": [],
   "source": [
    "import matplotlib.pyplot as plt\n",
    "from ml_hep_sim.plotting.style import style_setup, set_size\n",
    "\n",
    "set_size()\n",
    "style_setup(seaborn_pallete=True)"
   ]
  },
  {
   "cell_type": "code",
   "execution_count": null,
   "id": "f8638fb3-a25c-450f-9425-3f95a16f7f14",
   "metadata": {
    "tags": []
   },
   "outputs": [],
   "source": [
    "df = res.parsed_results"
   ]
  },
  {
   "cell_type": "code",
   "execution_count": null,
   "id": "97688ec9-6ab3-46dc-b0b7-613e85a0b3dd",
   "metadata": {},
   "outputs": [],
   "source": [
    "df.head()"
   ]
  },
  {
   "cell_type": "code",
   "execution_count": null,
   "id": "1d7abe8e-aba7-4319-95a6-fd8516a19776",
   "metadata": {},
   "outputs": [],
   "source": [
    "df[\"total_B\"] = np.repeat(nu_bs, len(alphas))\n",
    "df[\"alpha\"] = np.tile(alphas, len(nu_bs))"
   ]
  },
  {
   "cell_type": "code",
   "execution_count": null,
   "id": "8405bc08-341d-4672-939f-aac894e9e992",
   "metadata": {},
   "outputs": [],
   "source": [
    "df.head()"
   ]
  },
  {
   "cell_type": "code",
   "execution_count": null,
   "id": "fd3769a2-7705-4dc2-a313-bfbe83f4a310",
   "metadata": {},
   "outputs": [],
   "source": [
    "sig_fracs = alphas\n",
    "lumis = nu_bs"
   ]
  },
  {
   "cell_type": "code",
   "execution_count": null,
   "id": "344c601d-a39c-4ebd-8598-b761b8a4ed99",
   "metadata": {},
   "outputs": [],
   "source": [
    "df[\"spur\"] = df[\"mu\"] * df[\"total_B\"] - df[\"alpha\"] * df[\"total_B\"]\n",
    "df[\"spur_ratio\"] = np.abs(df[\"spur\"] / df[\"total_B\"])"
   ]
  },
  {
   "cell_type": "code",
   "execution_count": null,
   "id": "5f58c608-144b-4e7a-ad5b-41f755a24f12",
   "metadata": {
    "tags": []
   },
   "outputs": [],
   "source": [
    "idx = -1\n",
    "\n",
    "df[df[\"alpha\"] == sig_fracs[idx]]"
   ]
  },
  {
   "cell_type": "code",
   "execution_count": null,
   "id": "3ed6cd82-cedb-438d-9f8a-833f9e37ebac",
   "metadata": {},
   "outputs": [],
   "source": [
    "if not bonly:\n",
    "    plt.scatter(lumis, df[df[\"alpha\"] == sig_fracs[idx]][\"mu\"].to_numpy())\n",
    "    plt.errorbar(lumis, df[df[\"alpha\"] == sig_fracs[idx]][\"mu\"].to_numpy(), df[df[\"alpha\"] == sig_fracs[-1]][\"mu_err\"], capsize=4)\n",
    "else:\n",
    "    plt.scatter(lumis, df[df[\"alpha\"] == sig_fracs[idx]][\"mu\"].to_numpy())\n",
    "\n",
    "plt.axhline(sig_fracs[idx], c='r', ls='--')\n",
    "#plt.xlim(-2000, 1.1e5)\n",
    "\n",
    "plt.tight_layout()"
   ]
  },
  {
   "cell_type": "code",
   "execution_count": null,
   "id": "45f30123-2d7c-433a-8a7e-e2df2c90c62c",
   "metadata": {
    "tags": []
   },
   "outputs": [],
   "source": [
    "use_std = True\n",
    "\n",
    "r = df[df[\"alpha\"] == sig_fracs[idx]].groupby(\"total_B\")[\"spur\"].mean(numeric_only=True).to_numpy()\n",
    "\n",
    "if use_std:\n",
    "    r_std = df[df[\"alpha\"] == sig_fracs[idx]].groupby(\"total_B\")[\"spur\"].std(numeric_only=True).to_numpy()\n",
    "else:\n",
    "    r_std = df[df[\"alpha\"] == sig_fracs[idx]].groupby(\"total_B\")[\"spur\"].apply(lambda x: np.sqrt(np.sum(x**2) / len(x))).to_numpy()"
   ]
  },
  {
   "cell_type": "code",
   "execution_count": null,
   "id": "618c58bc-fcb9-4ade-a696-1de250901b2c",
   "metadata": {},
   "outputs": [],
   "source": [
    "r"
   ]
  },
  {
   "cell_type": "code",
   "execution_count": null,
   "id": "efefbd41-5efb-4727-8e20-5601ae6d7212",
   "metadata": {
    "tags": []
   },
   "outputs": [],
   "source": [
    "plt.scatter(lumis, r)\n",
    "# plt.errorbar(lumis, r, r_std, ls=\"none\", capsize=4)\n",
    "\n",
    "# plt.yscale(\"log\")\n",
    "\n",
    "plt.xlabel(\"L\")\n",
    "plt.ylabel(\"spur\")"
   ]
  },
  {
   "cell_type": "code",
   "execution_count": null,
   "id": "b9a06719-2adf-4879-bab4-405527cf1c28",
   "metadata": {},
   "outputs": [],
   "source": [
    "for idx, sf in enumerate(sig_fracs[::3]):\n",
    "    r = df[df[\"alpha\"] == sf].groupby(\"total_B\")[\"mu\"].mean(numeric_only=True).to_numpy()\n",
    "    \n",
    "    if use_std:\n",
    "        r_std = df[df[\"alpha\"] == sf].groupby(\"total_B\")[\"mu\"].std(numeric_only=True).to_numpy()\n",
    "    else:\n",
    "        r_std = df[df[\"alpha\"] == sf].groupby(\"total_B\")[\"mu\"].apply(lambda x: np.sqrt(np.sum(x**2) / len(x))).to_numpy()\n",
    "\n",
    "    plt.scatter(lumis, r, label=\"sf={:.2f}\".format(sf), edgecolor='k')\n",
    "    # plt.errorbar(lumis, r, r_std, ls=\"none\", capsize=4)\n",
    "    plt.axhline(sf, c=f\"C{idx}\", ls='--', zorder=10)\n",
    "\n",
    "if bonly:\n",
    "    plt.yscale(\"log\")\n",
    "\n",
    "plt.xlabel(r\"$\\nu_B=L\\cdot\\sigma$\", loc=\"center\")\n",
    "plt.ylabel(\"$\\mu$\")\n",
    "plt.legend(ncol=3)\n",
    "plt.ylim(-0.02, 0.13)\n",
    "\n",
    "plt.tight_layout()\n",
    "plt.savefig(saved + \"mu_vs_L.pdf\")\n",
    "plt.show()"
   ]
  },
  {
   "cell_type": "code",
   "execution_count": null,
   "id": "f4c83373-4aad-46cc-b950-a9fd725ddd6b",
   "metadata": {},
   "outputs": [],
   "source": [
    "for idx, sf in enumerate(sig_fracs):\n",
    "    r = df[df[\"alpha\"] == sig_fracs[idx]].groupby(\"total_B\")[\"spur\"].mean(numeric_only=True).to_numpy()\n",
    "    \n",
    "    if use_std:\n",
    "        r_std = df[df[\"alpha\"] == sig_fracs[idx]].groupby(\"total_B\")[\"spur\"].std(numeric_only=True).to_numpy()\n",
    "    else:\n",
    "        r_std = df[df[\"alpha\"] == sig_fracs[idx]].groupby(\"total_B\")[\"spur\"].apply(lambda x: np.sqrt(np.sum(x**2) / len(x))).to_numpy()\n",
    "    \n",
    "    plt.scatter(lumis, r, label=\"sf={:.2f}\".format(sf))\n",
    "    # plt.plot(lumis, r, label=\"sf={:.2f}\".format(sf))\n",
    "    \n",
    "    # plt.errorbar(lumis, r, r_std, ls=\"none\", capsize=4)\n",
    "\n",
    "#plt.yscale(\"symlog\")\n",
    "plt.xlabel(r\"$\\nu_B=L\\cdot\\sigma$\", loc=\"center\")\n",
    "plt.ylabel(r\"$S_{\\text{spur}}$\")\n",
    "plt.legend(ncol=3)\n",
    "\n",
    "plt.tight_layout()\n",
    "plt.savefig(saved + \"spur_vs_L_scenario.pdf\")"
   ]
  },
  {
   "cell_type": "code",
   "execution_count": null,
   "id": "51f7cc44-24a2-4c6d-9f35-394e39f5312c",
   "metadata": {},
   "outputs": [],
   "source": [
    "for idx, sf in enumerate(sig_fracs):\n",
    "    r = df[df[\"alpha\"] == sig_fracs[idx]].groupby(\"total_B\").mean(numeric_only=True)[\"spur_ratio\"].to_numpy()\n",
    "    plt.scatter(lumis, r, label=\"sf={:.2f}\".format(sf))\n",
    "\n",
    "plt.yscale(\"log\")\n",
    "plt.xlabel(r\"$\\nu_B=L\\cdot\\sigma$\", loc=\"center\")\n",
    "plt.ylabel(r\"$S_{\\text{spur}} / S$\")\n",
    "plt.legend(ncol=3)\n",
    "\n",
    "plt.tight_layout()\n",
    "plt.savefig(saved + \"ratio_vs_L.pdf\")"
   ]
  },
  {
   "cell_type": "code",
   "execution_count": null,
   "id": "c3897682-8aec-42f3-8d6e-75a6fd0a1cfa",
   "metadata": {},
   "outputs": [],
   "source": [
    "for idx, l in enumerate(lumis[::8]):\n",
    "    r = df[df[\"total_B\"] == lumis[idx]].groupby(\"alpha\").mean(numeric_only=True)[\"mu\"].to_numpy()\n",
    "    \n",
    "    if use_std:\n",
    "        r_std = df[df[\"total_B\"] == lumis[idx]].groupby(\"alpha\")[\"mu\"].std(numeric_only=True).to_numpy()\n",
    "    else:\n",
    "        r_std = df[df[\"total_B\"] == lumis[idx]].groupby(\"alpha\")[\"mu\"].apply(lambda x: np.sqrt(np.sum(x**2) / len(x))).to_numpy()\n",
    "    \n",
    "    plt.scatter(sig_fracs, r, label=r\"$\\nu_B=$\" + \"{}\".format(int(l)))\n",
    "    # plt.errorbar(sig_fracs, r, r_std, ls=\"none\", capsize=4)\n",
    "    \n",
    "    # plt.title(r\"L$=${}\".format(lumis[idx]))\n",
    "\n",
    "plt.xlabel(r\"$S/B$\")\n",
    "plt.ylabel(\"$\\mu$\")\n",
    "\n",
    "plt.yscale(\"log\")\n",
    "plt.legend()\n",
    "\n",
    "plt.tight_layout()\n",
    "plt.savefig(saved + \"mu_vs_sig_frac.pdf\")"
   ]
  },
  {
   "cell_type": "code",
   "execution_count": null,
   "id": "90237c0b-9d54-420e-a9fb-a85e1541e035",
   "metadata": {},
   "outputs": [],
   "source": [
    "for idx, l in enumerate(lumis[::8]):\n",
    "    r = df[df[\"total_B\"] == lumis[idx]].groupby(\"alpha\")[\"spur\"].mean(numeric_only=True).to_numpy()\n",
    "    \n",
    "    if use_std:\n",
    "        r_std = df[df[\"total_B\"] == lumis[idx]].groupby(\"alpha\")[\"spur\"].std(numeric_only=True).to_numpy()\n",
    "    else:\n",
    "        r_std = df[df[\"total_B\"] == lumis[idx]].groupby(\"alpha\")[\"spur\"].apply(lambda x: np.sqrt(np.sum(x**2) / len(x))).to_numpy()\n",
    "    \n",
    "    plt.scatter(sig_fracs, r, label=\"L={:.1f}\".format(l))\n",
    "    plt.plot(sig_fracs, r)\n",
    "    # plt.errorbar(sig_fracs, r, r_std, ls=\"none\", capsize=4)\n",
    "    \n",
    "    # plt.title(r\"L$=${}\".format(lumis[idx]))\n",
    "\n",
    "plt.xlabel(r\"$S/B$\")\n",
    "plt.ylabel(r\"$S_{\\text{spur}}$\")\n",
    "\n",
    "# plt.yscale(\"log\")\n",
    "plt.legend()\n",
    "\n",
    "plt.tight_layout()\n",
    "plt.savefig(saved + \"spur_vs_sig_frac.pdf\")"
   ]
  },
  {
   "cell_type": "code",
   "execution_count": null,
   "id": "e23bef31-a767-4f99-ae3e-6990099ab4bb",
   "metadata": {},
   "outputs": [],
   "source": [
    "if not bonly:\n",
    "    for idx, l in enumerate(lumis[::8]):\n",
    "        r = df[df[\"total_B\"] == lumis[idx]].groupby(\"alpha\")[\"spur_ratio\"].mean(numeric_only=True).to_numpy()\n",
    "\n",
    "        if use_std:\n",
    "            r_std = df[df[\"total_B\"] == lumis[idx]].groupby(\"alpha\")[\"spur_ratio\"].std(numeric_only=True).to_numpy()\n",
    "        else:\n",
    "            r_std = df[df[\"total_B\"] == lumis[idx]].groupby(\"alpha\")[\"spur_ratio\"].apply(lambda x: np.sqrt(np.sum(x**2) / len(x))).to_numpy()\n",
    "\n",
    "        plt.scatter(sig_fracs, r, label=\"L={:.1f}\".format(l))\n",
    "        plt.plot(sig_fracs, r)\n",
    "        # plt.errorbar(sig_fracs, r, r_std, ls=\"none\", capsize=4)\n",
    "\n",
    "        # plt.title(r\"L$=${}\".format(lumis[idx]))\n",
    "\n",
    "    plt.xlabel(r\"$S/B$\")\n",
    "    plt.ylabel(r\"$S_{\\text{spur}}/S$\")\n",
    "\n",
    "    # plt.yscale(\"log\")\n",
    "    plt.legend()\n",
    "\n",
    "    plt.tight_layout()\n",
    "    plt.savefig(saved + \"spur_vs_sig_frac_ratio.pdf\")"
   ]
  },
  {
   "cell_type": "code",
   "execution_count": null,
   "id": "ea106a8d-2be4-481a-ae42-0a63cb4dcce5",
   "metadata": {},
   "outputs": [],
   "source": [
    "y = np.array([float(i) * 100 for i in df[\"alpha\"].values])\n",
    "x = np.array([float(i) for i in df[\"total_B\"].values])\n",
    "z = np.array([float(i) for i in df[\"mu\"].values])\n",
    "\n",
    "plt.ylabel(\"$S/B$\")\n",
    "plt.xlabel(r\"$\\nu_B=L\\cdot\\sigma$\", loc=\"center\")\n",
    "\n",
    "plt.hexbin(x, y, z, gridsize=6)\n",
    "plt.colorbar(label=\"$\\mu$\")\n",
    "plt.tight_layout()\n",
    "\n",
    "plt.savefig(saved + \"hexbin_sig_frac_L_mu.pdf\")"
   ]
  },
  {
   "cell_type": "code",
   "execution_count": null,
   "id": "28eb6ad0-fac0-4207-87a8-8d10c20d5038",
   "metadata": {},
   "outputs": [],
   "source": [
    "y = np.array([float(i) * 100 for i in df[\"alpha\"].values])\n",
    "x = np.array([float(i) for i in df[\"total_B\"].values])\n",
    "z = np.array([float(i) for i in df[\"spur\"].values])\n",
    "\n",
    "plt.ylabel(\"$S/B$\")\n",
    "plt.xlabel(r\"$\\nu_B=L\\cdot\\sigma$\", loc=\"center\")\n",
    "\n",
    "plt.hexbin(x, y, z, gridsize=6)\n",
    "plt.colorbar(label=r\"$S_{\\text{spur}}$\")\n",
    "plt.tight_layout()\n",
    "\n",
    "plt.savefig(saved + \"hexbin_sig_frac_L_spur.pdf\")"
   ]
  },
  {
   "cell_type": "code",
   "execution_count": null,
   "id": "2bdb2ea5-581a-4f81-9f11-7b89506364de",
   "metadata": {},
   "outputs": [],
   "source": [
    "if not bonly:\n",
    "    y = np.array([float(i) * 100 for i in df[\"alpha\"].values])\n",
    "    x = np.array([float(i) for i in df[\"total_B\"].values])\n",
    "    z = np.array([float(i) * 100 for i in df[\"spur_ratio\"].values])\n",
    "\n",
    "    plt.ylabel(\"$S/B$\")\n",
    "    plt.xlabel(r\"$\\nu_B=L\\cdot\\sigma$\", loc=\"center\")\n",
    "\n",
    "    plt.hexbin(x, y, z, gridsize=6)\n",
    "    plt.colorbar(label=r\"$S_{\\text{spur}}/S$ [\\%]\")\n",
    "    plt.tight_layout()\n",
    "\n",
    "    plt.savefig(saved + \"hexbin_sig_frac_L_spur_ratio.pdf\")"
   ]
  },
  {
   "cell_type": "code",
   "execution_count": null,
   "id": "a6bfc555-ce92-437c-b903-f571265dd56c",
   "metadata": {},
   "outputs": [],
   "source": []
  },
  {
   "cell_type": "code",
   "execution_count": null,
   "id": "0df03e6d-78ad-463b-8e93-beccc67744e9",
   "metadata": {},
   "outputs": [],
   "source": []
  },
  {
   "cell_type": "code",
   "execution_count": null,
   "id": "9c095cf5-324b-4514-9b5a-f21fc26cbede",
   "metadata": {},
   "outputs": [],
   "source": []
  }
 ],
 "metadata": {
  "kernelspec": {
   "display_name": "Python 3 (ipykernel)",
   "language": "python",
   "name": "python3"
  },
  "language_info": {
   "codemirror_mode": {
    "name": "ipython",
    "version": 3
   },
   "file_extension": ".py",
   "mimetype": "text/x-python",
   "name": "python",
   "nbconvert_exporter": "python",
   "pygments_lexer": "ipython3",
   "version": "3.11.3"
  }
 },
 "nbformat": 4,
 "nbformat_minor": 5
}
