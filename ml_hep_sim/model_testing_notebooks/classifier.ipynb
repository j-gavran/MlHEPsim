{
 "cells": [
  {
   "cell_type": "code",
   "execution_count": null,
   "id": "327da70f-eda0-4024-8cfb-8666ee9d7c0a",
   "metadata": {},
   "outputs": [],
   "source": [
    "%cd ../../../"
   ]
  },
  {
   "cell_type": "code",
   "execution_count": null,
   "id": "3e1ebad6-84f4-4135-a613-cdc9370743c8",
   "metadata": {},
   "outputs": [],
   "source": [
    "saved = \"ml_hep_sim/notebooks/article_notebooks/saved/\""
   ]
  },
  {
   "cell_type": "code",
   "execution_count": null,
   "id": "442ed245-80cf-4f4f-b82d-a1a318940925",
   "metadata": {},
   "outputs": [],
   "source": [
    "from ml_hep_sim.pipeline.pipelines.classifier_pipeline import *\n",
    "from ml_hep_sim.plotting.style import style_setup\n",
    "\n",
    "import matplotlib.pyplot as plt\n",
    "\n",
    "style_setup(seaborn_pallete=True)"
   ]
  },
  {
   "cell_type": "markdown",
   "id": "167fe5ae-8583-45ca-a241-fb0c64d2e14e",
   "metadata": {},
   "source": [
    "## Trained classifiers\n",
    "All trained on background.  \n",
    "\n",
    "Saved run names are:\n",
    "- Higgs_resnet_classifier\n",
    "- Higgs_linear_classifier"
   ]
  },
  {
   "cell_type": "code",
   "execution_count": null,
   "id": "424407fa-5959-46c5-bcc2-a4cdfc7f7fed",
   "metadata": {},
   "outputs": [],
   "source": [
    "# run_name = \"Higgs_resnet_classifier\"\n",
    "run_name = \"Higgs_resnet_classifier_no_rescale\"\n",
    "test_dataset= \"higgs_sig\"\n",
    "run = True\n",
    "\n",
    "pipelines = classifier_pipeline(\n",
    "    run_name=run_name,\n",
    "    override={\n",
    "        \"model_config\": {\"learning_rate\": 3e-4, \"resnet\": False, \"hidden_layers\": [128, 128, 128, 1]},\n",
    "        \"datasets\": {\"data_name\": \"higgs\", \"subset_n\": [10 ** 6, 10 ** 5, 10 ** 5]},\n",
    "        \"logger_config\": {\"run_name\": run_name},\n",
    "        \"trainer_config\": {\"gpus\": 1, \"max_epochs\": 50},\n",
    "    },\n",
    "    train=False,\n",
    "    run=run,\n",
    "    test_dataset=test_dataset,\n",
    ")"
   ]
  },
  {
   "cell_type": "code",
   "execution_count": null,
   "id": "53804fcf-7755-48ab-8a00-957c35df54b0",
   "metadata": {},
   "outputs": [],
   "source": [
    "res = pipelines[1].pipes[-1].results"
   ]
  },
  {
   "cell_type": "markdown",
   "id": "2ffcdeb5-247c-4283-a57d-595a9fe38fea",
   "metadata": {},
   "source": [
    "## Classifier results\n",
    "- Higgs_resnet_classifier_higgs_bkg.p\n",
    "- Higgs_resnet_classifier_higgs_sig.p\n",
    "- Higgs_linear_classifier_higgs_bkg.p\n",
    "- Higgs_linear_classifier_higgs_sig.p"
   ]
  },
  {
   "cell_type": "code",
   "execution_count": null,
   "id": "414bb84f-081a-489e-aa3f-525aa11dd7af",
   "metadata": {},
   "outputs": [],
   "source": [
    "if run:\n",
    "    res = pipelines[1].pipes[-1].results\n",
    "    pickle_save(saved, run_name + f\"_{test_dataset}.p\", res)"
   ]
  },
  {
   "cell_type": "code",
   "execution_count": null,
   "id": "3b8db0d4-0bf3-4072-93e5-5a294eb8d410",
   "metadata": {},
   "outputs": [],
   "source": [
    "save = [\"Higgs_resnet_classifier_higgs_bkg.p\",\n",
    "        \"Higgs_resnet_classifier_higgs_sig.p\",\n",
    "        \"Higgs_linear_classifier_higgs_bkg.p\",\n",
    "        \"Higgs_linear_classifier_higgs_sig.p\"]"
   ]
  },
  {
   "cell_type": "code",
   "execution_count": null,
   "id": "adac137b-bd69-49e3-ad95-29d6d65118f5",
   "metadata": {},
   "outputs": [],
   "source": [
    "save_res = []\n",
    "\n",
    "for s in save:\n",
    "    save_res.append(pickle_load(saved, s))"
   ]
  },
  {
   "cell_type": "markdown",
   "id": "3767fdf1-3adb-4709-8b55-953935acfb8f",
   "metadata": {},
   "source": [
    "## ResNet"
   ]
  },
  {
   "cell_type": "code",
   "execution_count": null,
   "id": "bccbfd99-3c55-4456-9d6e-706069b990ad",
   "metadata": {},
   "outputs": [],
   "source": [
    "for s in save_res[:2]:\n",
    "    plt.hist(s, bins=30, histtype=\"step\", lw=2, density=True, range=[-0.5, 1.2])\n",
    "\n",
    "plt.legend([\"bkg\", \"sig\"])\n",
    "plt.axvline(0.5, c='k', ls='--')\n",
    "plt.xlabel(\"classifier output\")\n",
    "plt.ylabel(\"PDF\")\n",
    "plt.tight_layout()\n",
    "plt.savefig(saved + \"resnet_class_pdf.pdf\")"
   ]
  },
  {
   "cell_type": "markdown",
   "id": "3c9dcbc0-fabc-4b08-be95-5d3f5c758e07",
   "metadata": {},
   "source": [
    "# Linear"
   ]
  },
  {
   "cell_type": "code",
   "execution_count": null,
   "id": "5ba7837e-27cd-48ec-a08d-aaa3bae7a6e9",
   "metadata": {},
   "outputs": [],
   "source": [
    "for s in save_res[2:]:\n",
    "    plt.hist(s, bins=30, histtype=\"step\", lw=2, density=True, range=[-0.5, 1.2])\n",
    "\n",
    "plt.legend([\"bkg\", \"sig\"])\n",
    "plt.axvline(0.5, c='k', ls='--')\n",
    "plt.xlabel(\"classifier output\")\n",
    "plt.ylabel(\"PDF\")\n",
    "plt.tight_layout()\n",
    "plt.savefig(saved + \"linear_class_pdf.pdf\")"
   ]
  },
  {
   "cell_type": "code",
   "execution_count": null,
   "id": "9c21d4b8-5992-472b-940a-f9cfe1cd3fce",
   "metadata": {},
   "outputs": [],
   "source": []
  }
 ],
 "metadata": {
  "kernelspec": {
   "display_name": "Python 3 (ipykernel)",
   "language": "python",
   "name": "python3"
  },
  "language_info": {
   "codemirror_mode": {
    "name": "ipython",
    "version": 3
   },
   "file_extension": ".py",
   "mimetype": "text/x-python",
   "name": "python",
   "nbconvert_exporter": "python",
   "pygments_lexer": "ipython3",
   "version": "3.8.7"
  }
 },
 "nbformat": 4,
 "nbformat_minor": 5
}
