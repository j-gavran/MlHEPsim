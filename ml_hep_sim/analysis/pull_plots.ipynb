{
 "cells": [
  {
   "cell_type": "code",
   "execution_count": null,
   "metadata": {},
   "outputs": [],
   "source": [
    "%cd ../.."
   ]
  },
  {
   "cell_type": "markdown",
   "metadata": {},
   "source": [
    "# Get hists pipeline"
   ]
  },
  {
   "cell_type": "code",
   "execution_count": null,
   "metadata": {},
   "outputs": [],
   "source": [
    "saved = \"ml_hep_sim/analysis/results/pulls/\""
   ]
  },
  {
   "cell_type": "code",
   "execution_count": null,
   "metadata": {},
   "outputs": [],
   "source": [
    "from ml_hep_sim.analysis.hists_pipeline import get_hists_pipeline\n",
    "from ml_hep_sim.analysis.hists_pipeline import MakeHistsFromSamples"
   ]
  },
  {
   "cell_type": "code",
   "execution_count": null,
   "metadata": {},
   "outputs": [],
   "source": [
    "use_class = True\n",
    "mc_test = False\n",
    "\n",
    "if use_class and not mc_test:\n",
    "    saved += \"class_\"\n",
    "elif use_class and mc_test:\n",
    "    saved += \"class_mc_\"\n",
    "elif mc_test:\n",
    "    saved += \"mbb_mc_\"\n",
    "else:\n",
    "    saved += \"mbb_\"\n",
    "\n",
    "hists_pipeline = get_hists_pipeline(use_classifier=use_class, N_gen=10**6)\n",
    "hists_pipeline.pipes = hists_pipeline.pipes[:-1] # this one only makes 1 hist"
   ]
  },
  {
   "cell_type": "code",
   "execution_count": null,
   "metadata": {},
   "outputs": [],
   "source": [
    "saved"
   ]
  },
  {
   "cell_type": "code",
   "execution_count": null,
   "metadata": {},
   "outputs": [],
   "source": [
    "b_sig_bkg = hists_pipeline.pipes[-1]"
   ]
  },
  {
   "cell_type": "markdown",
   "metadata": {},
   "source": [
    "# Do a scan for different N values"
   ]
  },
  {
   "cell_type": "code",
   "execution_count": null,
   "metadata": {},
   "outputs": [],
   "source": [
    "import numpy as np\n",
    "\n",
    "from ml_hep_sim.analysis.ul_pipeline import PullBlock\n",
    "from ml_hep_sim.pipeline.pipes import Pipeline\n",
    "\n",
    "from ml_hep_sim.analysis.ul_pipeline import pull_plot"
   ]
  },
  {
   "cell_type": "code",
   "execution_count": null,
   "metadata": {},
   "outputs": [],
   "source": [
    "Ns = np.linspace(10**3, 10**5, 40).astype(int)"
   ]
  },
  {
   "cell_type": "code",
   "execution_count": null,
   "metadata": {},
   "outputs": [],
   "source": [
    "pull_pipelines = []\n",
    "\n",
    "bonly = False\n",
    "bins = 22\n",
    "\n",
    "sys_err = 0.1\n",
    "\n",
    "for N in Ns:\n",
    "    if use_class:\n",
    "        bin_range = (0.5, 1.1)\n",
    "        b_hists = MakeHistsFromSamples(bin_range=bin_range, bins=bins, N_sig=N / 10, N_bkg=N, \n",
    "                                       N_gen=10**6, bonly=bonly)(b_sig_bkg)\n",
    "    else:\n",
    "        bin_range = (0.01, 3.0)\n",
    "        b_hists = MakeHistsFromSamples(bin_range=bin_range, bins=bins, N_sig=N / 10, N_bkg=N, \n",
    "                                       N_gen=10**6, bonly=bonly)(b_sig_bkg)\n",
    "    \n",
    "    b_pull = PullBlock(bkg_err=sys_err, mc_test=mc_test)(b_hists)\n",
    "    pipe = Pipeline()\n",
    "    pipe.compose(hists_pipeline, b_hists, b_pull)\n",
    "    \n",
    "    pull_pipelines.append(pipe)"
   ]
  },
  {
   "cell_type": "code",
   "execution_count": null,
   "metadata": {
    "tags": []
   },
   "outputs": [],
   "source": [
    "for pull_pipeline in pull_pipelines:\n",
    "    pull_pipeline.fit()"
   ]
  },
  {
   "cell_type": "code",
   "execution_count": null,
   "metadata": {},
   "outputs": [],
   "source": [
    "pull_pipelines[-1].draw_pipeline_tree(to_graphviz_file=\"ml_hep_sim/analysis/results/pulls/pull_pipe\", block_idx=-1)"
   ]
  },
  {
   "cell_type": "code",
   "execution_count": null,
   "metadata": {
    "tags": []
   },
   "outputs": [],
   "source": [
    "pulls_lst, pullerr_lst, mus, mus_err, twice_nlls = [], [], [], [], []\n",
    "\n",
    "for i, N in enumerate(Ns):\n",
    "    print(N)\n",
    "    p = pull_pipelines[i].pipes[-1]\n",
    "    pulls, pullerr, errors, labels = p.results\n",
    "    \n",
    "    pull_plot(pulls, pullerr, errors, labels) #, save=saved + f\"pull_{N}.pdf\")\n",
    "    # pull_plot(pulls, pullerr, errors, labels)\n",
    "    \n",
    "    pulls_lst.append(pulls)\n",
    "    pullerr_lst.append(pullerr)\n",
    "    mus.append(p.bestfit[0][0])\n",
    "    mus_err.append(errors[0])\n",
    "    twice_nlls.append(p.bestfit[1])"
   ]
  },
  {
   "cell_type": "markdown",
   "metadata": {},
   "source": [
    "# Mu"
   ]
  },
  {
   "cell_type": "code",
   "execution_count": null,
   "metadata": {},
   "outputs": [],
   "source": [
    "from uncertainties import unumpy, ufloat\n",
    "\n",
    "import matplotlib.pyplot as plt\n",
    "from ml_hep_sim.plotting.style import style_setup, set_size\n",
    "\n",
    "set_size()\n",
    "style_setup(seaborn_pallete=True)"
   ]
  },
  {
   "cell_type": "code",
   "execution_count": null,
   "metadata": {},
   "outputs": [],
   "source": [
    "eff_s_mc, eff_b_mc, eff_s_ml, eff_b_ml = pull_pipelines[0].pipes[-2].histograms[\"eff\"]"
   ]
  },
  {
   "cell_type": "code",
   "execution_count": null,
   "metadata": {},
   "outputs": [],
   "source": [
    "plt.errorbar(Ns, mus, mus_err, capsize=5)\n",
    "plt.scatter(Ns, mus)\n",
    "plt.xlabel(r\"$\\nu_B$\", loc=\"center\")\n",
    "plt.ylabel(r\"$\\mu$\")\n",
    "plt.tight_layout()\n",
    "plt.axhline(0.1, c='r', ls='--')\n",
    "# plt.savefig(saved + \"mus.pdf\")"
   ]
  },
  {
   "cell_type": "code",
   "execution_count": null,
   "metadata": {},
   "outputs": [],
   "source": [
    "unumpy.uarray(mus, mus_err)"
   ]
  },
  {
   "cell_type": "markdown",
   "metadata": {},
   "source": [
    "# Gamma means and stds"
   ]
  },
  {
   "cell_type": "code",
   "execution_count": null,
   "metadata": {},
   "outputs": [],
   "source": [
    "gammas = [] # list of gamma and error for each N\n",
    "\n",
    "for g_val, g_err in zip(pulls_lst, pullerr_lst):\n",
    "    lst = []\n",
    "    for v, err in zip(g_val, g_err):\n",
    "        lst.append(ufloat(v, err))\n",
    "    \n",
    "    gammas.append(np.array(lst))"
   ]
  },
  {
   "cell_type": "code",
   "execution_count": null,
   "metadata": {},
   "outputs": [],
   "source": [
    "g_res = []\n",
    "\n",
    "for g in gammas:\n",
    "    g_res.append(np.sum(g**2)**0.5)"
   ]
  },
  {
   "cell_type": "code",
   "execution_count": null,
   "metadata": {},
   "outputs": [],
   "source": [
    "g_nom, g_err = [], [] # split to nominal and std\n",
    "\n",
    "for g in g_res:\n",
    "    g_nom.append(g.nominal_value)\n",
    "    g_err.append(g.std_dev)"
   ]
  },
  {
   "cell_type": "code",
   "execution_count": null,
   "metadata": {},
   "outputs": [],
   "source": [
    "plt.scatter(Ns, g_nom)\n",
    "plt.errorbar(Ns, g_nom, g_err, capsize=5)\n",
    "plt.xlabel(r\"$\\nu_B$\", loc='center')\n",
    "plt.ylabel(r\"$\\gamma$\")\n",
    "plt.tight_layout()\n",
    "# plt.savefig(saved + \"gamma_N.pdf\")"
   ]
  },
  {
   "cell_type": "code",
   "execution_count": null,
   "metadata": {},
   "outputs": [],
   "source": [
    "fig, axs = plt.subplots(1, 2, figsize=(14, 5))\n",
    "axs = axs.flatten()\n",
    "\n",
    "axs[0].plot(Ns, g_nom, lw=3)\n",
    "axs[1].plot(Ns, g_err, lw=3)\n",
    "\n",
    "axs[0].set_ylabel(r\"$\\sum_b \\gamma_b^2$\")\n",
    "axs[1].set_ylabel(r\"$\\sum_b \\gamma_b^2$ errors\")\n",
    "\n",
    "axs[0].set_xlabel(r\"$\\nu_B$\", loc='center')\n",
    "axs[1].set_xlabel(r\"$\\nu_B$\", loc='center')\n",
    "plt.tight_layout()\n",
    "# plt.savefig(saved + \"gamma_N_err_class.pdf\")"
   ]
  },
  {
   "cell_type": "markdown",
   "metadata": {},
   "source": [
    "# Hists"
   ]
  },
  {
   "cell_type": "code",
   "execution_count": null,
   "metadata": {},
   "outputs": [],
   "source": [
    "if mc_test is True:\n",
    "    raise ValueError"
   ]
  },
  {
   "cell_type": "code",
   "execution_count": null,
   "metadata": {},
   "outputs": [],
   "source": [
    "idx = 0\n",
    "N_idx = Ns[idx]\n",
    "\n",
    "pull_pipe = pull_pipelines[idx].pipes[-1] # idx depends on N\n",
    "\n",
    "hists = pull_pipe.histograms\n",
    "mu = pull_pipe.bestfit[0][0]\n",
    "gamma = pull_pipe.bestfit[0][1:]\n",
    "mu_err, gamma_err = pull_pipe.results[-2][0], pull_pipe.results[-2][1:]\n",
    "\n",
    "hist_pipe = pull_pipelines[idx].pipes[-2]\n",
    "bkg_gen = hist_pipe.bkg_generated_data"
   ]
  },
  {
   "cell_type": "code",
   "execution_count": null,
   "metadata": {},
   "outputs": [],
   "source": [
    "alpha = hist_pipe.alpha"
   ]
  },
  {
   "cell_type": "markdown",
   "metadata": {
    "tags": []
   },
   "source": [
    "# Errors"
   ]
  },
  {
   "cell_type": "code",
   "execution_count": null,
   "metadata": {},
   "outputs": [],
   "source": [
    "from ml_hep_sim.plotting.hep_plots import StackPlot"
   ]
  },
  {
   "cell_type": "code",
   "execution_count": null,
   "metadata": {},
   "outputs": [],
   "source": [
    "errors = pull_pipe.errors\n",
    "\n",
    "data_err = errors[\"data_mc\"]\n",
    "bkg_err = np.sqrt(errors[\"nu_b_ml\"] ** 2 + (hists[\"bkg_gen\"] * sys_err)**2)"
   ]
  },
  {
   "cell_type": "markdown",
   "metadata": {},
   "source": [
    "# Prefit"
   ]
  },
  {
   "cell_type": "code",
   "execution_count": null,
   "metadata": {},
   "outputs": [],
   "source": [
    "x = np.arange(0, bins, 1)\n",
    "\n",
    "sp = StackPlot(\n",
    "    x,\n",
    "    hists_lst=[alpha * hists[\"sig_mc\"], hists[\"bkg_gen\"], alpha * hists[\"sig_mc\"] + hists[\"bkg_gen\"]],\n",
    "    data_hist=alpha * hists[\"sig_mc\"] + hists[\"bkg_gen\"] + hists[\"data_mc\"],\n",
    ")\n",
    "\n",
    "sp.plot_stack(labels=[\"MC sig\", \"ML bkg\", \"MC sig + ML bkg\"])\n",
    "\n",
    "sp.plot_data(label=\"MC data\", err=data_err, fmt='.', capsize=1, lw=1)\n",
    "\n",
    "sp.plot_mc_errors(bkg_err)\n",
    "\n",
    "counts_num, counts_den = hists[\"data_mc\"], alpha* hists[\"sig_mc\"] + hists[\"bkg_gen\"]\n",
    "\n",
    "counts_num_err = data_err\n",
    "counts_den_err = bkg_err\n",
    "\n",
    "sp.plot_lower_panel(counts_num, counts_den, counts_num_err, counts_den_err, ylabel=\"data$/$ML\",\n",
    "                    label_x_start=bin_range[0],\n",
    "                    label_x_end=bin_range[1])\n",
    "\n",
    "ax = sp.ax\n",
    "ax_lower = sp.ax_lower\n",
    "\n",
    "if use_class:\n",
    "    ax_lower.set_xlabel(\"class. output\")\n",
    "else:\n",
    "    ax_lower.set_xlabel(\"$m_{bb}$\")\n",
    "\n",
    "ax.set_ylabel(\"$N$\")\n",
    "\n",
    "# ax.set_ylim(0, 250)\n",
    "ax_lower.set_ylim(0.7, 1.3)\n",
    "\n",
    "plt.legend(loc='upper right')\n",
    "plt.tight_layout()\n",
    "\n",
    "# plt.savefig(saved + f\"stacked_prefit_{N_idx}.pdf\")"
   ]
  },
  {
   "cell_type": "markdown",
   "metadata": {},
   "source": [
    "# Postfit"
   ]
  },
  {
   "cell_type": "code",
   "execution_count": null,
   "metadata": {},
   "outputs": [],
   "source": [
    "gammas = unumpy.uarray(gamma, gamma_err)\n",
    "bkg = hists[\"bkg_gen\"] # unumpy.uarray(hists[\"bkg_gen\"], bkg_err)\n",
    "\n",
    "bkg_postfit = bkg * gammas\n",
    "sig_postfit = ufloat(mu, mu_err) * hists[\"sig_mc\"]\n",
    "\n",
    "bkg_postfit_err = np.sqrt(unumpy.std_devs(bkg_postfit) ** 2 + (bkg * sys_err) ** 2) # unumpy.std_devs(bkg_postfit)\n",
    "sig_postfit_err = unumpy.std_devs(sig_postfit)\n",
    "\n",
    "bkg_postfit_val = unumpy.nominal_values(bkg_postfit)\n",
    "sig_postfit_val = unumpy.nominal_values(sig_postfit)"
   ]
  },
  {
   "cell_type": "code",
   "execution_count": null,
   "metadata": {},
   "outputs": [],
   "source": [
    "sp = StackPlot(\n",
    "    x,\n",
    "    hists_lst=[sig_postfit_val, bkg_postfit_val, sig_postfit_val + bkg_postfit_val],\n",
    "    data_hist=sig_postfit_val + bkg_postfit_val + hists[\"data_mc\"],\n",
    ")\n",
    "\n",
    "sp.plot_stack(labels=[\"MC sig\", \"ML bkg\", \"MC sig + ML bkg\"])\n",
    "\n",
    "sp.plot_data(label=\"MC data\", err=data_err, fmt='.', capsize=1, lw=1)\n",
    "\n",
    "sp.plot_mc_errors(bkg_postfit_err)\n",
    "\n",
    "counts_num, counts_den = hists[\"data_mc\"], sig_postfit_val + bkg_postfit_val\n",
    "\n",
    "counts_num_err = data_err\n",
    "counts_den_err = bkg_postfit_err\n",
    "\n",
    "sp.plot_lower_panel(counts_num, counts_den, counts_num_err, counts_den_err, ylabel=\"data$/$ML\",\n",
    "                    label_x_start=bin_range[0],\n",
    "                    label_x_end=bin_range[1])\n",
    "\n",
    "ax = sp.ax\n",
    "ax_lower = sp.ax_lower\n",
    "\n",
    "if use_class:\n",
    "    ax_lower.set_xlabel(\"class. output\")\n",
    "else:\n",
    "    ax_lower.set_xlabel(\"$m_{bb}$\")\n",
    "\n",
    "ax.set_ylabel(\"$N$\")\n",
    "\n",
    "# ax.set_ylim(0, 250)\n",
    "ax_lower.set_ylim(0.7, 1.3)\n",
    "\n",
    "plt.legend(loc='upper right')\n",
    "plt.tight_layout()\n",
    "\n",
    "# plt.savefig(saved + f\"stacked_postfit_{N_idx}.pdf\")"
   ]
  },
  {
   "cell_type": "markdown",
   "metadata": {},
   "source": [
    "# Ratio"
   ]
  },
  {
   "cell_type": "code",
   "execution_count": null,
   "metadata": {},
   "outputs": [],
   "source": [
    "plt.step(x, hists[\"bkg_gen\"], where=\"mid\", label=\"bkg gen\")\n",
    "plt.step(x, hists[\"sig_mc\"], where=\"mid\", label=\"sig mc\") # scale by mu from pyhf\n",
    "plt.step(x, hists[\"data_mc\"], where=\"mid\", label=\"data mc\")\n",
    "plt.step(x, hists[\"sig_mc\"] + hists[\"bkg_gen\"], where=\"mid\", label=\"sig mc + bkg gen\")\n",
    "plt.legend()"
   ]
  },
  {
   "cell_type": "code",
   "execution_count": null,
   "metadata": {},
   "outputs": [],
   "source": [
    "plt.step(x, hists[\"bkg_gen\"], where=\"mid\", label=\"bkg gen\")\n",
    "plt.step(x, mu * hists[\"sig_mc\"], where=\"mid\", label=\"sig mc\") # scale by mu from pyhf\n",
    "plt.step(x, hists[\"data_mc\"], where=\"mid\", label=\"data mc\")\n",
    "plt.step(x, mu * hists[\"sig_mc\"] + hists[\"bkg_gen\"], where=\"mid\", label=\"sig mc + bkg gen\")\n",
    "plt.legend()"
   ]
  },
  {
   "cell_type": "code",
   "execution_count": null,
   "metadata": {},
   "outputs": [],
   "source": [
    "plt.scatter(x, (alpha * hists[\"sig_mc\"] + hists[\"bkg_gen\"]) / hists[\"data_mc\"], label=\"prefit\")\n",
    "plt.scatter(x, (mu * hists[\"sig_mc\"] + gamma * hists[\"bkg_gen\"]) / hists[\"data_mc\"], label=\"postfit\")\n",
    "plt.xticks(x[::3], x[::3])\n",
    "plt.ylabel(\"(MC sig + ML bkg) $/$ MC data\")\n",
    "plt.xlabel(\"bins\")\n",
    "plt.axhline(1, c='k')\n",
    "plt.legend()\n",
    "plt.tight_layout()\n",
    "# plt.savefig(saved + f\"ratio_pre_post_{N_idx}.pdf\")"
   ]
  },
  {
   "cell_type": "code",
   "execution_count": null,
   "metadata": {},
   "outputs": [],
   "source": [
    "fig, axs = plt.subplots(1, 2, figsize=(14, 5))\n",
    "axs = axs.flatten()\n",
    "\n",
    "q = unumpy.uarray(mus, mus_err)\n",
    "\n",
    "spur = q * Ns - alpha * Ns\n",
    "y = unumpy.nominal_values(spur)\n",
    "yerr = unumpy.std_devs(spur)\n",
    "\n",
    "axs[0].scatter(Ns, y)\n",
    "# axs[0].errorbar(Ns, y, yerr, capsize=5)\n",
    "\n",
    "spur_ratio = (q * Ns - alpha * Ns) / Ns\n",
    "y_ratio = unumpy.nominal_values(spur_ratio)\n",
    "yerr_ratio = unumpy.std_devs(spur_ratio)\n",
    "\n",
    "axs[1].scatter(Ns, y_ratio)\n",
    "# axs[1].errorbar(Ns, y_ratio, yerr_ratio, capsize=5)\n",
    "\n",
    "axs[0].set_ylabel(r\"$S_\\text{spur}=(\\mu-\\alpha)\\nu_B$\")\n",
    "axs[1].set_ylabel(r\"$\\mu - \\alpha = \\frac{S_\\text{spur}}{\\nu_B}$\")\n",
    "\n",
    "axs[0].set_xlabel(r\"$\\nu_B$\", loc='center')\n",
    "axs[1].set_xlabel(r\"$\\nu_B$\", loc='center')\n",
    "\n",
    "plt.tight_layout()\n",
    "# plt.savefig(saved + f\"spur_expected.pdf\")"
   ]
  },
  {
   "cell_type": "code",
   "execution_count": null,
   "metadata": {},
   "outputs": [],
   "source": []
  },
  {
   "cell_type": "code",
   "execution_count": null,
   "metadata": {},
   "outputs": [],
   "source": []
  },
  {
   "cell_type": "code",
   "execution_count": null,
   "metadata": {},
   "outputs": [],
   "source": []
  }
 ],
 "metadata": {
  "kernelspec": {
   "display_name": "Python 3 (ipykernel)",
   "language": "python",
   "name": "python3"
  },
  "language_info": {
   "codemirror_mode": {
    "name": "ipython",
    "version": 3
   },
   "file_extension": ".py",
   "mimetype": "text/x-python",
   "name": "python",
   "nbconvert_exporter": "python",
   "pygments_lexer": "ipython3",
   "version": "3.11.3"
  }
 },
 "nbformat": 4,
 "nbformat_minor": 4
}
