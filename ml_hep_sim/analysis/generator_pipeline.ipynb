{
 "cells": [
  {
   "cell_type": "code",
   "execution_count": null,
   "id": "0395a5c1-d888-41c9-b2cb-7eb554751d58",
   "metadata": {},
   "outputs": [],
   "source": [
    "%cd ../../"
   ]
  },
  {
   "cell_type": "markdown",
   "id": "5e36c1c2-2330-4117-9e69-7fcbadbe82bb",
   "metadata": {
    "tags": []
   },
   "source": [
    "# Train sig generator"
   ]
  },
  {
   "cell_type": "code",
   "execution_count": null,
   "id": "eebce781-f5a1-42cf-bdcf-93f605c42925",
   "metadata": {},
   "outputs": [],
   "source": [
    "from ml_hep_sim.pipeline.prebuilt.flow_pipeline import FlowPipeline"
   ]
  },
  {
   "cell_type": "code",
   "execution_count": null,
   "id": "b3892d35-999e-41c6-83c6-e0c1a2dabe3f",
   "metadata": {},
   "outputs": [],
   "source": [
    "sig_override = {\n",
    "    \"datasets\": {\n",
    "        \"data_name\": \"higgs_sig\",\n",
    "        \"data_params\": {\n",
    "            \"subset_n\": [10 ** 6, 10 ** 5, 10 ** 5],\n",
    "            \"rescale\": \"logit_normal\",\n",
    "            \"to_gpu\": True,\n",
    "        },\n",
    "    },\n",
    "    \"logger_config\": {\"run_name\": \"Higgs_glow\", \"experiment_name\": \"analysis\"},\n",
    "    \"trainer_config\": {\"gpus\": 1, \"max_epochs\": 51},\n",
    "    \"model_config\": {\"num_flows\": 10},\n",
    "}\n",
    "\n",
    "FP_sig = FlowPipeline(\n",
    "    run_name=\"Higgs_Glow_sig\",\n",
    "    model_name=\"Glow\",\n",
    "    override=sig_override,\n",
    "    pipeline_path=\"ml_pipeline/analysis/Higgs_glow/\",\n",
    ")\n",
    "\n",
    "FP_sig.build_train_pipeline()\n",
    "FP_sig.fit()"
   ]
  },
  {
   "cell_type": "markdown",
   "id": "e9b896a6-fc1b-4c10-b309-1cd10ab64e1f",
   "metadata": {},
   "source": [
    "# Train bkg generator"
   ]
  },
  {
   "cell_type": "code",
   "execution_count": null,
   "id": "e8c41c48-9c57-4377-9be2-d4ee65f8d5ef",
   "metadata": {},
   "outputs": [],
   "source": [
    "import copy"
   ]
  },
  {
   "cell_type": "code",
   "execution_count": null,
   "id": "729f72d8-5114-42a6-824d-1c95b057f5a8",
   "metadata": {},
   "outputs": [],
   "source": [
    "bkg_override = copy.deepcopy(sig_override)\n",
    "bkg_override[\"datasets\"][\"data_name\"] = \"higgs_bkg\"\n",
    "\n",
    "FP_bkg = FlowPipeline(\n",
    "    run_name=\"Higgs_Glow_bkg\",\n",
    "    model_name=\"Glow\",\n",
    "    override=bkg_override,\n",
    "    pipeline_path=\"ml_pipeline/analysis/Higgs_glow/\",\n",
    ")\n",
    "\n",
    "FP_bkg.build_train_pipeline()\n",
    "FP_bkg.fit()"
   ]
  },
  {
   "cell_type": "markdown",
   "id": "d4386a52-40bf-4c4b-96ad-ec609a1a4f54",
   "metadata": {},
   "source": [
    "# Build sig and bkg generators using inference pipelines"
   ]
  },
  {
   "cell_type": "code",
   "execution_count": null,
   "id": "9780d982-af0f-4791-a0f4-e76539b41f36",
   "metadata": {},
   "outputs": [],
   "source": [
    "N_gen = 10 ** 6\n",
    "\n",
    "FP_sig.build_inference_pipeline(N_gen, rescale_data=False, device=\"cuda\")\n",
    "FP_bkg.build_inference_pipeline(N_gen, rescale_data=False, device=\"cuda\")\n",
    "\n",
    "sig_infer_pipeline = FP_sig.pipeline[\"inference_pipeline\"]\n",
    "bkg_infer_pipeline = FP_bkg.pipeline[\"inference_pipeline\"]"
   ]
  },
  {
   "cell_type": "markdown",
   "id": "e8948a91-e3c2-4f4d-91a8-4ee5f207fc92",
   "metadata": {},
   "source": [
    "# Get MC sig data block"
   ]
  },
  {
   "cell_type": "code",
   "execution_count": null,
   "id": "7c33f6d0-d1f9-4980-80bb-9a034b861021",
   "metadata": {},
   "outputs": [],
   "source": [
    "from ml_hep_sim.pipeline.blocks import DatasetBuilderBlock, ReferenceDataLoaderBlock"
   ]
  },
  {
   "cell_type": "code",
   "execution_count": null,
   "id": "5655f324-1101-480c-91c6-b3be9db7990d",
   "metadata": {},
   "outputs": [],
   "source": [
    "mc_sig_config = copy.deepcopy(FP_sig.pipeline[\"train_pipeline\"].pipes[0]) # same config as before\n",
    "mc_sig_config.config[\"datasets\"][\"data_params\"][\"subset_n\"] = [0, 0, N_gen]\n",
    "mc_sig_config.config[\"datasets\"][\"data_params\"][\"rescale\"] = \"none\"\n",
    "\n",
    "b_mc_sig_dataset = DatasetBuilderBlock()(mc_sig_config)\n",
    "b_mc_sig_data = ReferenceDataLoaderBlock(rescale_reference=\"logit_normal\", device=\"cpu\")(b_mc_sig_dataset)"
   ]
  },
  {
   "cell_type": "markdown",
   "id": "633daff6-2d7a-4295-bb48-1cd2c473ab8b",
   "metadata": {},
   "source": [
    "# Get MC bkg data block"
   ]
  },
  {
   "cell_type": "code",
   "execution_count": null,
   "id": "e1f61fd1-1d8c-4748-b036-9e77a523bd7f",
   "metadata": {},
   "outputs": [],
   "source": [
    "mc_bkg_config = copy.deepcopy(FP_bkg.pipeline[\"train_pipeline\"].pipes[0])\n",
    "mc_bkg_config.config[\"datasets\"][\"data_params\"][\"subset_n\"] = [0, 0, N_gen]\n",
    "mc_bkg_config.config[\"datasets\"][\"data_params\"][\"rescale\"] = \"none\"\n",
    "\n",
    "b_mc_bkg_dataset = DatasetBuilderBlock()(mc_bkg_config)\n",
    "b_mc_bkg_data = ReferenceDataLoaderBlock(rescale_reference=\"logit_normal\", device=\"cpu\")(b_mc_bkg_dataset)"
   ]
  },
  {
   "cell_type": "markdown",
   "id": "78c96826-d292-4f54-bf7d-1642a38068a5",
   "metadata": {},
   "source": [
    "# Train binary classifier"
   ]
  },
  {
   "cell_type": "code",
   "execution_count": null,
   "id": "8a141da4-cf56-4d0a-a434-7c77891d9974",
   "metadata": {},
   "outputs": [],
   "source": [
    "from ml_hep_sim.pipeline.prebuilt.classifier_pipeline import ClassifierPipeline"
   ]
  },
  {
   "cell_type": "code",
   "execution_count": null,
   "id": "a40b6a80-696d-4f52-9d65-1b25df796736",
   "metadata": {},
   "outputs": [],
   "source": [
    "override = {\n",
    "    \"datasets\": {\n",
    "        \"data_name\": \"higgs\",\n",
    "        \"data_params\": {\n",
    "            \"subset_n\": [10 ** 6, 10 ** 5, 10 ** 5],\n",
    "            \"rescale\": \"logit_normal\",\n",
    "            \"to_gpu\": True,\n",
    "        },\n",
    "    },\n",
    "    \"logger_config\": {\"run_name\": \"Higgs_classifier\", \"experiment_name\": \"analysis\"},\n",
    "    \"trainer_config\": {\"gpus\": 1, \"max_epochs\": 101},\n",
    "    \"model_config\": {\n",
    "        \"resnet\": False,\n",
    "        \"hidden_layers\": [256, 128, 64, 1],\n",
    "    },\n",
    "}\n",
    "\n",
    "CP = ClassifierPipeline(\n",
    "    \"Higgs_classifier\", override=override, pipeline_path=\"ml_pipeline/analysis/classifiers/\"\n",
    ")\n",
    "\n",
    "CP.build_train_pipeline()\n",
    "CP.fit(force=False)"
   ]
  },
  {
   "cell_type": "markdown",
   "id": "fa1f8176-a629-421f-a979-0582f64bde71",
   "metadata": {},
   "source": [
    "# Load trained classifier"
   ]
  },
  {
   "cell_type": "code",
   "execution_count": null,
   "id": "46dbe8bd-da8e-49ea-84fd-e662dde92668",
   "metadata": {},
   "outputs": [],
   "source": [
    "from ml_hep_sim.pipeline.blocks import ModelLoaderBlock"
   ]
  },
  {
   "cell_type": "code",
   "execution_count": null,
   "id": "4fe0c435-9412-4192-ab3e-d8c4db14b0a2",
   "metadata": {},
   "outputs": [],
   "source": [
    "class_train_pipeline = CP.pipeline[\"train_pipeline\"]\n",
    "\n",
    "config = class_train_pipeline.pipes[0] # classifier config block\n",
    "model = class_train_pipeline.pipes[3] # classifier model trainer block\n",
    "\n",
    "b_classifier_model = ModelLoaderBlock(device=\"cuda\")(config, model)"
   ]
  },
  {
   "cell_type": "markdown",
   "id": "67cc8c10-b9e6-47ec-9384-f86476bc809a",
   "metadata": {},
   "source": [
    "# Use classifier"
   ]
  },
  {
   "cell_type": "code",
   "execution_count": null,
   "id": "432d5591-894b-4fdd-9246-90ae0f17367e",
   "metadata": {},
   "outputs": [],
   "source": [
    "from ml_hep_sim.pipeline.blocks import ClassifierRunnerBlock"
   ]
  },
  {
   "cell_type": "code",
   "execution_count": null,
   "id": "47fc8ffb-f14c-47d4-9fea-6bca489e3b64",
   "metadata": {},
   "outputs": [],
   "source": [
    "b_flow_sig_generated = sig_infer_pipeline.pipes[-1]\n",
    "b_flow_bkg_generated = bkg_infer_pipeline.pipes[-1]\n",
    "\n",
    "b_sig_gen_class = ClassifierRunnerBlock(save_data=False, device=\"cuda\")(b_flow_sig_generated, b_classifier_model)  # sig gen\n",
    "b_bkg_gen_class = ClassifierRunnerBlock(save_data=False, device=\"cuda\")(b_flow_bkg_generated, b_classifier_model)  # bkg gen\n",
    "\n",
    "b_sig_mc_class = ClassifierRunnerBlock(save_data=False, device=\"cuda\")(b_mc_sig_data, b_classifier_model)  # MC sig\n",
    "b_bkg_mc_class = ClassifierRunnerBlock(save_data=False, device=\"cuda\")(b_mc_bkg_data, b_classifier_model)  # MC bkg"
   ]
  },
  {
   "cell_type": "markdown",
   "id": "ce1ecd15-c5dd-483a-94c3-a6db3567c936",
   "metadata": {},
   "source": [
    "# Use variable"
   ]
  },
  {
   "cell_type": "code",
   "execution_count": null,
   "id": "b577a770-f6af-49fb-89fd-fb074264a9fa",
   "metadata": {},
   "outputs": [],
   "source": [
    "from ml_hep_sim.pipeline.blocks import VariableExtractBlock\n",
    "from ml_hep_sim.analysis.utils import get_colnames_dict"
   ]
  },
  {
   "cell_type": "code",
   "execution_count": null,
   "id": "37fd83c7-b672-4abc-bf08-dfb9df3022e9",
   "metadata": {},
   "outputs": [],
   "source": [
    "var = \"m bb\"\n",
    "\n",
    "dct = get_colnames_dict()\n",
    "idx = dct[var]"
   ]
  },
  {
   "cell_type": "code",
   "execution_count": null,
   "id": "cfe41c0c-e450-49f2-a0cb-5fecdd281f87",
   "metadata": {},
   "outputs": [],
   "source": [
    "b_sig_gen_var = VariableExtractBlock(idx, save_data=False, device=\"cuda\")(b_flow_sig_generated) # sig gen var\n",
    "b_bkg_gen_var = VariableExtractBlock(idx, save_data=False, device=\"cuda\")(b_flow_bkg_generated) # bkg gen var\n",
    "\n",
    "b_sig_mc_var = VariableExtractBlock(idx, save_data=False, device=\"cuda\")(b_mc_sig_data) # MC sig var\n",
    "b_bkg_mc_var = VariableExtractBlock(idx, save_data=False, device=\"cuda\")(b_mc_bkg_data) # MC bkg var"
   ]
  },
  {
   "cell_type": "markdown",
   "id": "b3e54dbf-ab40-4615-95b7-d772d52c4fbc",
   "metadata": {},
   "source": [
    "# Build and fit "
   ]
  },
  {
   "cell_type": "code",
   "execution_count": null,
   "id": "33e4c285-5eef-4ba5-84ab-ed477ad40a20",
   "metadata": {},
   "outputs": [],
   "source": [
    "from ml_hep_sim.pipeline.pipes import Pipeline"
   ]
  },
  {
   "cell_type": "code",
   "execution_count": null,
   "id": "79360ff6-fe14-4012-8acf-d8fd5c1752bf",
   "metadata": {},
   "outputs": [],
   "source": [
    "pipe = Pipeline()\n",
    "pipe.compose(\n",
    "    b_mc_sig_dataset,\n",
    "    b_mc_sig_data,\n",
    "    b_mc_bkg_dataset,\n",
    "    b_mc_bkg_data,\n",
    "    b_classifier_model,\n",
    "    sig_infer_pipeline,\n",
    "    bkg_infer_pipeline,\n",
    "    b_sig_gen_var,\n",
    "    b_bkg_gen_var,\n",
    "    b_sig_mc_var,\n",
    "    b_bkg_mc_var,\n",
    "    b_sig_gen_class,\n",
    "    b_bkg_gen_class,\n",
    "    b_sig_mc_class,\n",
    "    b_bkg_mc_class,\n",
    ")\n",
    "pipe.fit()"
   ]
  },
  {
   "cell_type": "code",
   "execution_count": null,
   "id": "8e941c61-c30d-4ab3-a659-b65384bdc085",
   "metadata": {},
   "outputs": [],
   "source": [
    "pipe.pipes[6]#.trained_model.__class__.__name__"
   ]
  },
  {
   "cell_type": "code",
   "execution_count": null,
   "id": "dc47324a-9fee-4436-9db4-1b79765d0bac",
   "metadata": {},
   "outputs": [],
   "source": [
    "pipe.draw_pipeline_tree(to_graphviz_file=\"pipeline_mc\", block_idx=-1)\n",
    "pipe.draw_pipeline_tree(to_graphviz_file=\"pipeline_gen\", block_idx=-3)\n",
    "\n",
    "pipe.draw_pipeline_tree(to_graphviz_file=\"pipeline_gen_cut\", block_idx=-7)"
   ]
  },
  {
   "cell_type": "markdown",
   "id": "0a4e358e-5066-43f7-9626-b645f3bfa2a2",
   "metadata": {},
   "source": [
    "# Plot histograms - classifier"
   ]
  },
  {
   "cell_type": "code",
   "execution_count": null,
   "id": "72fa96c8-2ced-4af5-ac0f-dfa9bf7e3a7c",
   "metadata": {},
   "outputs": [],
   "source": [
    "import matplotlib.pyplot as plt\n",
    "from ml_hep_sim.plotting.style import style_setup, set_size\n",
    "\n",
    "set_size()\n",
    "style_setup(seaborn_pallete=True)"
   ]
  },
  {
   "cell_type": "code",
   "execution_count": null,
   "id": "07a3f013-d498-40c6-a6e5-59e81e8971d0",
   "metadata": {},
   "outputs": [],
   "source": [
    "sig_gen = pipe.pipes[-4].results\n",
    "bkg_gen = pipe.pipes[-3].results\n",
    "sig_mc = pipe.pipes[-2].results[: len(sig_gen)]\n",
    "bkg_mc = pipe.pipes[-1].results[: len(sig_gen)]"
   ]
  },
  {
   "cell_type": "code",
   "execution_count": null,
   "id": "75ca9513-01c6-44ec-ace5-c85597cab9b9",
   "metadata": {},
   "outputs": [],
   "source": [
    "plt.hist(sig_gen, histtype=\"step\", range=(-0.5, 1.25), bins=40, lw=2)\n",
    "plt.hist(bkg_gen, histtype=\"step\", range=(-0.5, 1.25), bins=40, lw=2)\n",
    "plt.hist(sig_mc, histtype=\"step\", range=(-0.5, 1.25), bins=40, lw=2)\n",
    "plt.hist(bkg_mc, histtype=\"step\", range=(-0.5, 1.25), bins=40, lw=2)\n",
    "plt.legend([\"sig gen\", \"bkg gen\", \"sig mc\", \"bkg mc\"], loc=\"upper left\")\n",
    "plt.show()"
   ]
  },
  {
   "cell_type": "markdown",
   "id": "e71fd14d-4c2d-4b45-9179-ac4864be8d92",
   "metadata": {},
   "source": [
    "# Plot histograms - variable"
   ]
  },
  {
   "cell_type": "code",
   "execution_count": null,
   "id": "216f9693-747b-46bf-9e79-8ff0b7b8c6a1",
   "metadata": {},
   "outputs": [],
   "source": [
    "sig_gen = pipe.pipes[-1-4].results\n",
    "bkg_gen = pipe.pipes[-2-4].results\n",
    "sig_mc = pipe.pipes[-3-4].results[: len(sig_gen)]\n",
    "bkg_mc = pipe.pipes[-4-4].results[: len(sig_gen)]"
   ]
  },
  {
   "cell_type": "code",
   "execution_count": null,
   "id": "a305c755-7f11-4eeb-8f78-df9c315ab495",
   "metadata": {},
   "outputs": [],
   "source": [
    "plt.hist(sig_gen, histtype=\"step\", range=(-5, 5), bins=40, lw=2)\n",
    "plt.hist(bkg_gen, histtype=\"step\", range=(-5, 5), bins=40, lw=2)\n",
    "plt.hist(sig_mc, histtype=\"step\", range=(-5, 5), bins=40, lw=2)\n",
    "plt.hist(bkg_mc, histtype=\"step\", range=(-5, 5), bins=40, lw=2)\n",
    "plt.legend([\"sig gen\", \"bkg gen\", \"sig mc\", \"bkg mc\"], loc=\"upper left\")\n",
    "plt.xlabel(\"$m_{bb}$ logit normal space\")\n",
    "plt.show()"
   ]
  },
  {
   "cell_type": "code",
   "execution_count": null,
   "id": "169e4a7e-0de9-454c-b8d5-98bacf9dded3",
   "metadata": {},
   "outputs": [],
   "source": [
    "break"
   ]
  },
  {
   "cell_type": "markdown",
   "id": "7c494772-b163-46ef-b80c-d74a39094e14",
   "metadata": {},
   "source": [
    "# Plot all distributions\n",
    "change rescale_data to False and use None rescaling instead of logit_normal for this"
   ]
  },
  {
   "cell_type": "code",
   "execution_count": null,
   "id": "00a0349b-a938-41ec-9649-6f4a08081a9c",
   "metadata": {},
   "outputs": [],
   "source": [
    "from ml_hep_sim.stats.stat_plots import N_sample_plot\n",
    "from ml_hep_sim.data_utils.higgs.process_higgs_dataset import LATEX_COLNAMES"
   ]
  },
  {
   "cell_type": "code",
   "execution_count": null,
   "id": "d907f2f9-50f7-4389-8d9f-a797b70e053f",
   "metadata": {},
   "outputs": [],
   "source": [
    "sig_gen = pipe.pipes[1].reference_data.cpu().numpy()\n",
    "bkg_gen = pipe.pipes[3].reference_data.cpu().numpy()\n",
    "sig_mc = pipe.pipes[7].generated_data[: len(sig_gen)].cpu().numpy()\n",
    "bkg_mc = pipe.pipes[10].generated_data[: len(sig_gen)].cpu().numpy()"
   ]
  },
  {
   "cell_type": "code",
   "execution_count": null,
   "id": "70504e51-3a64-4cde-a63d-992eb7a7b47f",
   "metadata": {},
   "outputs": [],
   "source": [
    "BIN_RANGES = [\n",
    "    [0, 4],\n",
    "    [-3, 3],\n",
    "    [-0.1, 4],\n",
    "    [0, 5],\n",
    "    [-4, 4],\n",
    "    [0, 4],\n",
    "    [-5, 5],\n",
    "    [0, 5],\n",
    "    [-4, 4],\n",
    "    [0, 5],\n",
    "    [-3, 3],\n",
    "    [0, 3],\n",
    "    [0, 3],\n",
    "    [0.75, 1.5],\n",
    "    [0, 3],\n",
    "    [0, 3],\n",
    "    [0, 3],\n",
    "    [0, 3],\n",
    "]"
   ]
  },
  {
   "cell_type": "code",
   "execution_count": null,
   "id": "33784336-6364-4ab5-b954-eb93cbc33430",
   "metadata": {},
   "outputs": [],
   "source": [
    "fig, axs = plt.subplots(6, 3, figsize=(13, 19))\n",
    "axs = axs.flatten()\n",
    "\n",
    "res = [sig_gen, bkg_gen, sig_mc, bkg_mc]\n",
    "\n",
    "N_sample_plot(res, axs, n_bins=40, log_scale=False, \n",
    "              labels=LATEX_COLNAMES, lw=2, alpha=1, \n",
    "              label=[\"sig gen\", \"bkg gen\", \"sig mc\", \"bkg mc\"],\n",
    "              xlim=BIN_RANGES, bin_range=BIN_RANGES)\n",
    "plt.tight_layout()"
   ]
  },
  {
   "cell_type": "code",
   "execution_count": null,
   "id": "e62c68a7-7b4c-4ca5-b2d1-93c486ca7531",
   "metadata": {},
   "outputs": [],
   "source": []
  }
 ],
 "metadata": {
  "kernelspec": {
   "display_name": "Python 3 (ipykernel)",
   "language": "python",
   "name": "python3"
  },
  "language_info": {
   "codemirror_mode": {
    "name": "ipython",
    "version": 3
   },
   "file_extension": ".py",
   "mimetype": "text/x-python",
   "name": "python",
   "nbconvert_exporter": "python",
   "pygments_lexer": "ipython3",
   "version": "3.11.3"
  }
 },
 "nbformat": 4,
 "nbformat_minor": 5
}
