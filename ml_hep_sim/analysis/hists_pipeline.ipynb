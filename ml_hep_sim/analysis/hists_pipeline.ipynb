{
 "cells": [
  {
   "cell_type": "code",
   "execution_count": null,
   "id": "70395d75-6a16-4137-84bf-5330569a906e",
   "metadata": {},
   "outputs": [],
   "source": [
    "%cd ../../"
   ]
  },
  {
   "cell_type": "markdown",
   "id": "ccb4b31b-480e-4a34-8558-871f612d2645",
   "metadata": {},
   "source": [
    "# Get cut pipeline"
   ]
  },
  {
   "cell_type": "code",
   "execution_count": null,
   "id": "313caa0c-bd20-4ba0-980c-614d6c939d0b",
   "metadata": {},
   "outputs": [],
   "source": [
    "from ml_hep_sim.analysis.cut_pipeline import get_cut_pipeline"
   ]
  },
  {
   "cell_type": "code",
   "execution_count": null,
   "id": "df3a6a0e-b9c1-47ad-b21c-bcf3410fa437",
   "metadata": {},
   "outputs": [],
   "source": [
    "N_gen = 10 ** 6"
   ]
  },
  {
   "cell_type": "code",
   "execution_count": null,
   "id": "8687d990-a564-4528-be55-1365b0b907c2",
   "metadata": {},
   "outputs": [],
   "source": [
    "cut_pipeline = get_cut_pipeline(cut_value=0.5, N_gen=N_gen, use_classifier=True) # this is different classifier..."
   ]
  },
  {
   "cell_type": "markdown",
   "id": "2b78885e-2995-4992-be3d-271668fa94b0",
   "metadata": {},
   "source": [
    "# Extract variable"
   ]
  },
  {
   "cell_type": "code",
   "execution_count": null,
   "id": "c2895229-feb4-4dd4-bc99-4572805c5aae",
   "metadata": {},
   "outputs": [],
   "source": [
    "from ml_hep_sim.pipeline.pipes import Pipeline\n",
    "from ml_hep_sim.pipeline.blocks import VariableExtractBlock\n",
    "from ml_hep_sim.analysis.utils import get_colnames_dict\n",
    "\n",
    "import numpy as np\n",
    "import matplotlib.pyplot as plt\n",
    "from matplotlib.patches import Rectangle\n",
    "\n",
    "from ml_hep_sim.plotting.style import style_setup, set_size\n",
    "\n",
    "set_size()\n",
    "style_setup(seaborn_pallete=True)"
   ]
  },
  {
   "cell_type": "code",
   "execution_count": null,
   "id": "06ef30c5-7b08-4fe8-8d2e-78f6cca62901",
   "metadata": {},
   "outputs": [],
   "source": [
    "saved = \"\" # \"ml_hep_sim/analysis/results/hists/\""
   ]
  },
  {
   "cell_type": "code",
   "execution_count": null,
   "id": "6baecf91-195d-4f46-896e-a8ca1b8ec09a",
   "metadata": {},
   "outputs": [],
   "source": [
    "var = \"m bb\"\n",
    "\n",
    "dct = get_colnames_dict()\n",
    "idx = dct[var]\n",
    "\n",
    "b_sig_gen_data_cut, b_bkg_gen_data_cut, b_sig_mc_data_cut, b_bkg_mc_data_cut = cut_pipeline.pipes[-4:]\n",
    "\n",
    "b_sig_gen_var = VariableExtractBlock(idx, save_data=False)(b_sig_gen_data_cut)\n",
    "b_bkg_gen_var = VariableExtractBlock(idx, save_data=False)(b_bkg_gen_data_cut)\n",
    "b_sig_mc_var = VariableExtractBlock(idx, save_data=False)(b_sig_mc_data_cut)\n",
    "b_bkg_mc_var = VariableExtractBlock(idx, save_data=False)(b_bkg_mc_data_cut)"
   ]
  },
  {
   "cell_type": "markdown",
   "id": "da8c7ed4-8281-48f2-8d95-7e3da8738067",
   "metadata": {},
   "source": [
    "# Make histograms"
   ]
  },
  {
   "cell_type": "code",
   "execution_count": null,
   "id": "2325e343-cd40-4403-b4ae-a38323d14727",
   "metadata": {},
   "outputs": [],
   "source": [
    "from ml_hep_sim.analysis.utils import SigBkgBlock\n",
    "from ml_hep_sim.analysis.hists_pipeline import  MakeHistsFromSamples"
   ]
  },
  {
   "cell_type": "code",
   "execution_count": null,
   "id": "b21f8ef7-3cf3-47c5-90bc-60d7485fbacd",
   "metadata": {},
   "outputs": [],
   "source": [
    "b_sig_bkg_gen_mc = SigBkgBlock(b_sig_gen_var, b_bkg_gen_var, b_sig_mc_var, b_bkg_mc_var)(b_sig_gen_var, b_bkg_gen_var, b_sig_mc_var, b_bkg_mc_var)"
   ]
  },
  {
   "cell_type": "code",
   "execution_count": null,
   "id": "5d19c53a-3f9c-4aa2-9d71-711c69613698",
   "metadata": {},
   "outputs": [],
   "source": [
    "bins = 30\n",
    "N_sig = 100\n",
    "N_bkg = 1000\n",
    "\n",
    "use_class = True"
   ]
  },
  {
   "cell_type": "code",
   "execution_count": null,
   "id": "25d7ce64-dc82-41b7-9f22-2e71930eeee7",
   "metadata": {},
   "outputs": [],
   "source": [
    "saved = \"\" #\"ml_hep_sim/analysis/results/hists/\""
   ]
  },
  {
   "cell_type": "code",
   "execution_count": null,
   "id": "281fcacd-7e8b-4719-b9a0-8020c5c84587",
   "metadata": {},
   "outputs": [],
   "source": [
    "if use_class:\n",
    "    saved += \"class_\"\n",
    "else:\n",
    "    saved += \"mbb_\""
   ]
  },
  {
   "cell_type": "code",
   "execution_count": null,
   "id": "17b71ac7-60fd-443c-b251-ee79e32ce500",
   "metadata": {},
   "outputs": [],
   "source": [
    "saved"
   ]
  },
  {
   "cell_type": "markdown",
   "id": "1aa51ff9-f0a1-4a9d-b973-4a4200c62d5b",
   "metadata": {},
   "source": [
    "# Build and fit pipeline"
   ]
  },
  {
   "cell_type": "code",
   "execution_count": null,
   "id": "133aef97-fb27-47e9-9948-adbacede9b10",
   "metadata": {},
   "outputs": [],
   "source": [
    "from ml_hep_sim.analysis.hists_pipeline import get_hists_pipeline # TODO: write same for var\n",
    "from ml_hep_sim.pipeline.pipeline_loggers import setup_logger\n",
    "\n",
    "logger = setup_logger(log_name=\"hists\", log_path=\"ml_pipeline/\")"
   ]
  },
  {
   "cell_type": "code",
   "execution_count": null,
   "id": "62fdbd88-4695-4eaa-9a20-a63aa0dbea69",
   "metadata": {
    "tags": []
   },
   "outputs": [],
   "source": [
    "if use_class:\n",
    "    bin_range = (0.5, 1.1)\n",
    "\n",
    "    pipe = get_hists_pipeline(var=\"\",\n",
    "                bin_range=bin_range,\n",
    "                bins=bins,\n",
    "                N_sig=N_sig,\n",
    "                N_bkg=N_bkg,\n",
    "                N_gen=N_gen,\n",
    "                logger=logger,\n",
    "                use_classifier=True)\n",
    "    pipe.fit()\n",
    "    \n",
    "else:\n",
    "    bin_range = (0.01, 3.0)\n",
    "    \n",
    "    b_hists = MakeHistsFromSamples(bin_range=bin_range, bins=bins, N_sig=N_sig, N_bkg=N_bkg, N_gen=N_gen)(b_sig_bkg_gen_mc)\n",
    "    \n",
    "    pipe = Pipeline()\n",
    "    pipe.compose(\n",
    "        cut_pipeline,\n",
    "        b_sig_gen_var,\n",
    "        b_bkg_gen_var,\n",
    "        b_sig_mc_var,\n",
    "        b_bkg_mc_var,\n",
    "        b_sig_bkg_gen_mc,\n",
    "        b_hists,\n",
    "    )\n",
    "    pipe.fit()"
   ]
  },
  {
   "cell_type": "code",
   "execution_count": null,
   "id": "1f044394-29a9-4923-9b93-10b2bace679c",
   "metadata": {},
   "outputs": [],
   "source": [
    "# pipe.draw_pipeline_tree(to_graphviz_file=\"pipeline_gen_cut\", block_idx=-1)"
   ]
  },
  {
   "cell_type": "code",
   "execution_count": null,
   "id": "63e307cb-3a48-4b3a-be18-91a127ce6170",
   "metadata": {},
   "outputs": [],
   "source": [
    "sig_gen = pipe.pipes[-4-2].results\n",
    "bkg_gen = pipe.pipes[-3-2].results\n",
    "sig_mc = pipe.pipes[-2-2].results\n",
    "bkg_mc = pipe.pipes[-1-2].results"
   ]
  },
  {
   "cell_type": "code",
   "execution_count": null,
   "id": "593de997-71b8-4f89-a69c-6e3a7d0b24d1",
   "metadata": {},
   "outputs": [],
   "source": [
    "sig_gen.shape"
   ]
  },
  {
   "cell_type": "code",
   "execution_count": null,
   "id": "cbd194d2-0e46-4cf8-b99a-e0085d30afb8",
   "metadata": {},
   "outputs": [],
   "source": [
    "plt.hist(sig_gen, range=bin_range, bins=bins, histtype=\"step\", lw=2)\n",
    "plt.hist(bkg_gen, range=bin_range, bins=bins, histtype=\"step\", lw=2)\n",
    "plt.hist(np.concatenate([sig_gen, bkg_gen]), range=bin_range, bins=bins, histtype=\"step\", lw=2)\n",
    "plt.hist(np.concatenate([sig_mc, bkg_mc]), range=bin_range, bins=bins, histtype=\"stepfilled\", color=\"C7\", alpha=0.5)\n",
    "plt.legend([\"ML sig\", \"ML bkg\", \"ML sig + bkg (data)\", \"MC sig + bkg (data)\"], fontsize=15)\n",
    "plt.ylabel(\"$N$\", fontsize=24)\n",
    "plt.xlabel(\"$m_{bb}$\" if not use_class else \"class. output\", fontsize=24)\n",
    "\n",
    "plt.tight_layout()\n",
    "plt.savefig(saved + \"post_cut_dists.pdf\")"
   ]
  },
  {
   "cell_type": "code",
   "execution_count": null,
   "id": "17fb0777-4296-4b45-a762-2c62f0ef0872",
   "metadata": {},
   "outputs": [],
   "source": [
    "p = pipe.pipes[-1]\n",
    "hists = p.histograms\n",
    "errors = p.errors\n",
    "alpha = p.alpha\n",
    "N = p.N_gen\n",
    "\n",
    "r = range(bins)"
   ]
  },
  {
   "cell_type": "markdown",
   "id": "ef4351b6-bf1a-4409-ab14-17835ae5a289",
   "metadata": {},
   "source": [
    "# Steps"
   ]
  },
  {
   "cell_type": "code",
   "execution_count": null,
   "id": "a4f1f383-b972-4ab4-87ae-e692afc00a45",
   "metadata": {},
   "outputs": [],
   "source": [
    "plt.step(r, alpha * hists[\"sig_gen\"], label=\"alpha x sig gen\")\n",
    "plt.step(r, hists[\"bkg_gen\"], label=\"bkg gen\")\n",
    "plt.step(r, hists[\"data_gen\"], label=\"data gen\")\n",
    "\n",
    "plt.step(r, alpha * hists[\"sig_mc\"], label=\"alpha x sig mc\")\n",
    "plt.step(r, hists[\"bkg_mc\"], label=\"bkg mc\")\n",
    "plt.step(r, hists[\"data_mc\"], label=\"data mc\")\n",
    "\n",
    "plt.xlabel(\"bins $m_{bb}$\")\n",
    "\n",
    "plt.legend()\n",
    "\n",
    "plt.ylabel(\"$N$\", fontsize=24)\n",
    "\n",
    "plt.tight_layout()"
   ]
  },
  {
   "cell_type": "code",
   "execution_count": null,
   "id": "046d4ee4-81a2-42dd-a536-c1af1287b83f",
   "metadata": {},
   "outputs": [],
   "source": [
    "sys_err = 0.1"
   ]
  },
  {
   "cell_type": "code",
   "execution_count": null,
   "id": "f8b35536-6129-44fb-b56e-0e521f4fa53f",
   "metadata": {},
   "outputs": [],
   "source": [
    "errors[\"nu_b_ml\"]"
   ]
  },
  {
   "cell_type": "code",
   "execution_count": null,
   "id": "66289299-a08e-4dbf-8f74-a345aa0f4498",
   "metadata": {},
   "outputs": [],
   "source": [
    "hists[\"bkg_gen\"] * sys_err"
   ]
  },
  {
   "cell_type": "code",
   "execution_count": null,
   "id": "1c268761-f365-497b-8177-32be7daa6b27",
   "metadata": {},
   "outputs": [],
   "source": [
    "data_err = errors[\"data_mc\"]\n",
    "bkg_err = np.sqrt(errors[\"nu_b_ml\"] ** 2 + (hists[\"bkg_gen\"] * sys_err) ** 2)"
   ]
  },
  {
   "cell_type": "code",
   "execution_count": null,
   "id": "5bfc92b2-ac20-480f-a997-511cfe9684b3",
   "metadata": {},
   "outputs": [],
   "source": [
    "from ml_hep_sim.plotting.hep_plots import StackPlot\n",
    "\n",
    "\n",
    "x = np.arange(0, bins, 1)\n",
    "\n",
    "sp = StackPlot(\n",
    "    x,\n",
    "    hists_lst=[alpha * hists[\"sig_mc\"], hists[\"bkg_gen\"], alpha * hists[\"sig_mc\"] + hists[\"bkg_gen\"]],\n",
    "    data_hist=alpha * hists[\"sig_mc\"] + hists[\"bkg_gen\"] + hists[\"data_mc\"],\n",
    ")\n",
    "\n",
    "sp.plot_stack(labels=[\"MC sig\", \"ML bkg\", \"MC sig + ML bkg\"])\n",
    "\n",
    "# data_err = np.sqrt(hists[\"sig_mc\"] + hists[\"bkg_mc\"])\n",
    "sp.plot_data(label=\"MC data\", err=data_err, fmt='.', capsize=1, lw=1)\n",
    "\n",
    "# eff = len(bkg_gen) / N\n",
    "# N_hist, _ = np.histogram(bkg_gen, bins=bins, range=bin_range)\n",
    "# bkg_err = np.sqrt(N_hist * eff * (1 - eff))\n",
    "\n",
    "sp.plot_mc_errors(bkg_err)\n",
    "\n",
    "counts_num, counts_den = hists[\"data_mc\"], alpha * hists[\"sig_mc\"] + hists[\"bkg_gen\"]\n",
    "counts_num_err = data_err\n",
    "counts_den_err = bkg_err\n",
    "\n",
    "sp.plot_lower_panel(counts_num, counts_den, counts_num_err, counts_den_err, ylabel=\"data$/$ML\",\n",
    "                    label_x_start=bin_range[0],\n",
    "                    label_x_end=bin_range[1], ylim=[0.5, 1.5])\n",
    "\n",
    "ax = sp.ax\n",
    "ax_lower = sp.ax_lower\n",
    "\n",
    "if use_class:\n",
    "    ax_lower.set_xlabel(\"class. output\")\n",
    "else:\n",
    "    ax_lower.set_xlabel(\"$m_{bb}$\")\n",
    "\n",
    "ax.set_ylabel('$N$')\n",
    "\n",
    "ax_lower.set_ylim(0.6, 1.4)\n",
    "\n",
    "plt.legend(loc='upper right')\n",
    "\n",
    "plt.tight_layout()\n",
    "plt.savefig(saved + f\"stacked_{N_gen}.pdf\")"
   ]
  },
  {
   "cell_type": "code",
   "execution_count": null,
   "id": "b50f6352-ef8a-4e00-b8fe-512eda1e3d18",
   "metadata": {},
   "outputs": [],
   "source": []
  }
 ],
 "metadata": {
  "kernelspec": {
   "display_name": "Python 3 (ipykernel)",
   "language": "python",
   "name": "python3"
  },
  "language_info": {
   "codemirror_mode": {
    "name": "ipython",
    "version": 3
   },
   "file_extension": ".py",
   "mimetype": "text/x-python",
   "name": "python",
   "nbconvert_exporter": "python",
   "pygments_lexer": "ipython3",
   "version": "3.11.3"
  }
 },
 "nbformat": 4,
 "nbformat_minor": 5
}
