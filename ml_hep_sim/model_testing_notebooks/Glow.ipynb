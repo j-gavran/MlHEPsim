{
 "cells": [
  {
   "cell_type": "code",
   "execution_count": null,
   "id": "b2aea793-eb2a-4096-be04-1f8ccf034c10",
   "metadata": {},
   "outputs": [],
   "source": [
    "%cd ../../../"
   ]
  },
  {
   "cell_type": "code",
   "execution_count": null,
   "id": "6e054643-4bba-4f9a-b61e-4103ba09736c",
   "metadata": {
    "tags": []
   },
   "outputs": [],
   "source": [
    "saved = \"ml_hep_sim/notebooks/article_notebooks/saved/\""
   ]
  },
  {
   "cell_type": "code",
   "execution_count": null,
   "id": "50e9ee4b-1f24-4ff7-81b2-721173883e41",
   "metadata": {
    "tags": []
   },
   "outputs": [],
   "source": [
    "from ml_hep_sim.notebooks.article_notebooks.test_runs import *\n",
    "from ml_hep_sim.pipeline.pipes import *\n",
    "from ml_hep_sim.pipeline.blocks import *\n",
    "\n",
    "from ml_hep_sim.plotting.style import style_setup, set_size\n",
    "from ml_hep_sim.stats.stat_plots import two_sample_plot\n",
    "\n",
    "from ml_hep_sim.data_utils.higgs.process_higgs_dataset import LATEX_COLNAMES, LOG_BIN_RANGES\n",
    "\n",
    "import matplotlib \n",
    "from scipy.optimize import curve_fit\n",
    "import matplotlib.pyplot as plt\n",
    "from tqdm import tqdm\n",
    "import copy\n",
    "\n",
    "set_size()\n",
    "style_setup(seaborn_pallete=True)"
   ]
  },
  {
   "cell_type": "code",
   "execution_count": null,
   "id": "1369023d-4af2-4794-b548-fa23aadaefa3",
   "metadata": {},
   "outputs": [],
   "source": [
    "num_flows = np.arange(4, 32, 2)"
   ]
  },
  {
   "cell_type": "code",
   "execution_count": null,
   "id": "f98ceb70-225f-42d4-aea9-e80c5e943cdd",
   "metadata": {},
   "outputs": [],
   "source": [
    "pipelines = run_glow_pipeline(train=False, gen=False, test=False, skip_gen_test=False)"
   ]
  },
  {
   "cell_type": "code",
   "execution_count": null,
   "id": "edc8ee7d-286e-4566-b89a-2e056c40593a",
   "metadata": {},
   "outputs": [],
   "source": [
    "pipelines[0][0].pipes[0].config"
   ]
  },
  {
   "cell_type": "code",
   "execution_count": null,
   "id": "bc63036a-15ec-4ce5-a7de-d30f576713ca",
   "metadata": {},
   "outputs": [],
   "source": [
    "results = []\n",
    "\n",
    "N = 20 # batch size (i.e. 1024 * N data points)\n",
    "\n",
    "for pipe in tqdm(pipelines):\n",
    "    x_ConfigBuilderBlock, _, _, x_ModelTrainerBlock = pipe[0].pipes\n",
    "    \n",
    "    x1 = ModelLoaderBlock()(x_ConfigBuilderBlock, x_ModelTrainerBlock)\n",
    "    x2 = DatasetBuilderBlock()(x_ConfigBuilderBlock)\n",
    "    x3 = CouplingModelTestingBlock(N, loss_cutoff=20)(x2, x1, x_ConfigBuilderBlock)\n",
    "    \n",
    "    test_pipe = Pipeline()\n",
    "    test_pipe.compose(x1, x2, x3)\n",
    "    test_pipe.fit()\n",
    "    results.append(test_pipe)"
   ]
  },
  {
   "cell_type": "code",
   "execution_count": null,
   "id": "ce73e7e1-663d-4b6e-ab72-19efecb3b7a5",
   "metadata": {},
   "outputs": [],
   "source": [
    "m_lst, s_lst = [], [] # mean and std\n",
    "\n",
    "for r in results:\n",
    "    m, s, _ = r.pipes[-1].results\n",
    "    m_lst.append(m)\n",
    "    s_lst.append(s)"
   ]
  },
  {
   "cell_type": "code",
   "execution_count": null,
   "id": "56ea42b9-827a-424b-9113-f0b7e4ee5e8b",
   "metadata": {},
   "outputs": [],
   "source": [
    "set_size(s=20)\n",
    "plt.scatter(num_flows, m_lst, s=140)\n",
    "plt.errorbar(num_flows, m_lst, yerr=s_lst, capsize=4, ls=\"none\", lw=3, capthick=4)\n",
    "plt.xlim([0, 34])\n",
    "plt.xlabel(\"Number of flow blocks\", fontsize=29)\n",
    "plt.ylabel(\"Validation loss\", fontsize=29)\n",
    "plt.savefig(saved + \"loss_vs_num_flows_glow.pdf\")\n",
    "plt.tight_layout()"
   ]
  },
  {
   "cell_type": "code",
   "execution_count": null,
   "id": "44498196-1bfa-40af-939a-1802bce60acc",
   "metadata": {},
   "outputs": [],
   "source": [
    "t = pipe[1].pipes[0].metrics[0][\"timestamp\"]"
   ]
  },
  {
   "cell_type": "code",
   "execution_count": null,
   "id": "6bb3072d-08e0-4b9d-b42d-05ac3426bab4",
   "metadata": {},
   "outputs": [],
   "source": [
    "val_losses, steps, times = [], [], []\n",
    "\n",
    "for pipe in pipelines:\n",
    "    val_loss = pipe[1].pipes[0].metrics[-1][\"val_loss\"]\n",
    "    step = pipe[1].pipes[0].metrics[-2][\"step\"]\n",
    "    t = pipe[1].pipes[0].metrics[0][\"timestamp\"].to_numpy()\n",
    "    times.append(t[-1] - t[0])\n",
    "    val_losses.append(val_loss)\n",
    "    steps.append(step)"
   ]
  },
  {
   "cell_type": "code",
   "execution_count": null,
   "id": "680542b5-446d-45c5-945e-1f48ff23b953",
   "metadata": {},
   "outputs": [],
   "source": [
    "set_size(s=20)\n",
    "plt.plot(steps[0], val_losses[0], lw=4)\n",
    "plt.plot(steps[3], val_losses[3], lw=4)\n",
    "plt.plot(steps[6], val_losses[6], lw=4)\n",
    "plt.plot(steps[-1], val_losses[-1], lw=4)\n",
    "plt.legend([\"4 blocks\", \"10 blocks\", \"16 blocks\", \"30 blocks\"], fontsize=22)\n",
    "plt.xlim([-800, 2.5*10**4])\n",
    "plt.xlabel(\"Steps (early stopping = 15 epochs)\", loc=\"left\", fontsize=29)\n",
    "plt.ylabel(\"Validation loss\", fontsize=29)\n",
    "\n",
    "plt.tight_layout()\n",
    "plt.savefig(saved + \"val_loss_vs_steps_glow.pdf\")"
   ]
  },
  {
   "cell_type": "code",
   "execution_count": null,
   "id": "5b9a59c2-0244-4ffa-8cf0-1fc456e30b9f",
   "metadata": {
    "tags": []
   },
   "outputs": [],
   "source": [
    "device = \"cuda\"\n",
    "\n",
    "r = 15 # repeats\n",
    "s = 30 # scaling plot points\n",
    "N = 10**5\n",
    "\n",
    "res_lst = []\n",
    "class_res = []\n",
    "\n",
    "for _ in range(r):\n",
    "    x_ConfigBuilderBlock, _, _, x_ModelTrainerBlock = pipelines[3][0].pipes\n",
    "    x_ConfigBuilderBlock.config[\"datasets\"][\"data_params\"][\"subset_n\"] = [250000, 100000, N]\n",
    "\n",
    "    x1 = ModelLoaderBlock(device=device)(x_ConfigBuilderBlock, x_ModelTrainerBlock)\n",
    "\n",
    "    x2 = DataGeneratorBlock(N, model_type=\"flow\", chunks=10, device=device)(x1)\n",
    "    x3 = GeneratedDataVerifierBlock(save_data=False, device=device, rescale_data=False)(x1, x2)\n",
    "\n",
    "    x4 = DatasetBuilderBlock()(x_ConfigBuilderBlock)\n",
    "    x5 = ReferenceDataLoaderBlock(rescale_reference=\"logit_normal\", device=device)(x4)\n",
    "\n",
    "    class_run_name = \"Higgs_resnet_classifier_train_pipeline\"\n",
    "    class_train_pipeline = Pipeline(pipeline_name=class_run_name, pipeline_path=\"ml_pipeline/\")\n",
    "    class_train_pipeline.load()\n",
    "\n",
    "    x6 = ModelLoaderBlock(device=device)(class_train_pipeline.pipes[0], class_train_pipeline.pipes[-1])\n",
    "    x7 = ClassifierRunnerBlock(save_data=False, device=device)(x5, x6)\n",
    "    x8 = ClassifierRunnerBlock(save_data=False, device=device)(x3, x6)\n",
    "\n",
    "    class_res.append(x7.results)\n",
    "\n",
    "    x9 = ScalingTestBlock(1000, N, s)(x7, x8)\n",
    "\n",
    "    scaling_pipe = Pipeline()\n",
    "    scaling_pipe.compose(x1, x2, x3, x4, x5, x6, x7, x8, x9)\n",
    "    scaling_pipe.fit()\n",
    "\n",
    "    res = scaling_pipe.pipes[-1].results\n",
    "\n",
    "    res_lst.append(res)"
   ]
  },
  {
   "cell_type": "code",
   "execution_count": null,
   "id": "96a9314a-96be-40b5-9bb0-5e948e336828",
   "metadata": {},
   "outputs": [],
   "source": [
    "chi2_m = np.zeros((r, s))\n",
    "ks_m = np.zeros((r, s))\n",
    "chi2_m_crit = np.zeros((r, s))\n",
    "ks_m_crit = np.zeros((r, s))\n",
    "\n",
    "for ri in range(r):\n",
    "    for si in range(s):\n",
    "        chi2, ks = res_lst[ri][si]\n",
    "        \n",
    "        chi2_m[ri, si] = chi2[\"chi2\"].to_numpy()[0]\n",
    "        ks_m[ri, si] = ks[\"ks\"].to_numpy()[0]\n",
    "        chi2_m_crit[ri, si] = chi2[\"crit\"].to_numpy()[0]\n",
    "        ks_m_crit [ri, si] = ks[\"crit\"].to_numpy()[0]"
   ]
  },
  {
   "cell_type": "code",
   "execution_count": null,
   "id": "44b7d5e4-16ed-468f-be31-6fad55af5b4b",
   "metadata": {},
   "outputs": [],
   "source": [
    "N_range = x9.N_range"
   ]
  },
  {
   "cell_type": "code",
   "execution_count": null,
   "id": "421db42c-b662-4cb1-99e2-a8ad975530b6",
   "metadata": {},
   "outputs": [],
   "source": [
    "set_size(s=20)\n",
    "\n",
    "plt.scatter(N_range, chi2_m.mean(axis=0), s=60)\n",
    "plt.plot(N_range, chi2_m_crit.mean(axis=0), ls='--', c='C1', lw=3)\n",
    "\n",
    "plt.errorbar(N_range, chi2_m.mean(axis=0), yerr=chi2_m.std(axis=0), capsize=4, ls=\"none\", lw=2, capthick=2)\n",
    "\n",
    "def func(x, k, n):\n",
    "    return k * x + n\n",
    "\n",
    "popt, pcov = curve_fit(func, N_range, chi2_m.mean(axis=0), sigma=chi2_m.std(axis=0))\n",
    "plt.plot(N_range, func(N_range, *popt), ls='--', c=\"C2\", lw=3)\n",
    "\n",
    "plt.xlim([8000, 1.05*10**5])\n",
    "plt.xlabel(\"$N$ generated\", loc=\"center\", fontsize=29)\n",
    "plt.ylabel(\"$\\chi^2$ score\", fontsize=29)\n",
    "plt.legend([\"critical\", f\"fit $kx+n$, $k=${popt[0]:.2e}\", \"result\"], fontsize=22)\n",
    "plt.title(\"Glow $\\chi^2$ test\")\n",
    "\n",
    "plt.tight_layout()\n",
    "plt.savefig(saved + \"realnvp_chi2_scaling.pdf\")"
   ]
  },
  {
   "cell_type": "code",
   "execution_count": null,
   "id": "21ba5613-d808-4511-9a3f-1797dca0a27b",
   "metadata": {},
   "outputs": [],
   "source": [
    "set_size(s=20)\n",
    "\n",
    "plt.scatter(N_range[1:], ks_m.mean(axis=0)[1:], s=80)\n",
    "plt.plot(N_range[1:], ks_m_crit.mean(axis=0)[1:], ls='--', c=\"C1\", lw=3)\n",
    "plt.errorbar(N_range[1:], ks_m.mean(axis=0)[1:], yerr=ks_m.std(axis=0)[1:], capsize=4, ls=\"none\", lw=2, capthick=2)\n",
    "\n",
    "def func(x, k, n):\n",
    "    return k * x + n\n",
    "\n",
    "popt, pcov = curve_fit(func, N_range[1:], ks_m.mean(axis=0)[1:], sigma=ks_m.std(axis=0)[1:])\n",
    "plt.plot(N_range[1:], func(N_range[1:], *popt), ls='--', c=\"C2\", lw=3)\n",
    "\n",
    "plt.xlim([7000, 1.1*10**5])\n",
    "plt.xlabel(\"$N$ generated\", loc=\"center\", fontsize=29)\n",
    "plt.ylabel(\"KS score\", fontsize=29)\n",
    "plt.legend([\"critical\", f\"fit $kx+n$, $k=${popt[0]:.2e}\", \"result\"], fontsize=22)\n",
    "plt.title(\"Glow KS test\")\n",
    "plt.tight_layout()\n",
    "plt.savefig(saved + \"realnvp_ks_scaling.pdf\")"
   ]
  },
  {
   "cell_type": "code",
   "execution_count": null,
   "id": "592bc500-c4eb-492f-b42f-80b9ca3d5f85",
   "metadata": {
    "tags": []
   },
   "outputs": [],
   "source": [
    "a = x7.results\n",
    "b = x8.results\n",
    "\n",
    "plt.hist(b, histtype=\"step\", range=(-0.5, 1.5), bins=50, lw=2)\n",
    "plt.hist(a, histtype=\"step\", range=(-0.5, 1.5), bins=50, lw=2)\n",
    "plt.xlabel(\"Classifier output\")\n",
    "plt.ylabel(\"$N,\\>$ $\\sum_i=10^5$\")\n",
    "plt.legend([\"gen\", \"MC\"])\n",
    "plt.tight_layout()\n",
    "plt.savefig(saved + \"realnvp_class_out.pdf\")"
   ]
  },
  {
   "cell_type": "code",
   "execution_count": null,
   "id": "0af75a4d-b504-4fcb-83f3-c9372ab69cc6",
   "metadata": {},
   "outputs": [],
   "source": [
    "N = 10 ** 5\n",
    "device = \"cpu\"\n",
    "\n",
    "x_ConfigBuilderBlock, _, _, x_ModelTrainerBlock = pipelines[3][0].pipes\n",
    "x_ConfigBuilderBlock.config[\"datasets\"][\"data_params\"][\"subset_n\"] = [250000, 100000, N]\n",
    "\n",
    "x1 = ModelLoaderBlock()(x_ConfigBuilderBlock, x_ModelTrainerBlock)\n",
    "\n",
    "x2 = DataGeneratorBlock(N, model_type=\"flow\", chunks=10, device=device)(x1)\n",
    "x3 = GeneratedDataVerifierBlock(save_data=False, device=device, rescale_data=True)(x1, x2)\n",
    "\n",
    "x4 = DatasetBuilderBlock()(x_ConfigBuilderBlock)\n",
    "x5 = ReferenceDataLoaderBlock()(x4)\n",
    "\n",
    "x6 = ScalingTestBlock(10000, N, 30)(x5, x3)\n",
    "\n",
    "scaling_pipe_full = Pipeline()\n",
    "scaling_pipe_full.compose(x1, x2, x3, x4, x5, x6)\n",
    "scaling_pipe_full.fit()"
   ]
  },
  {
   "cell_type": "code",
   "execution_count": null,
   "id": "772737f1-36d8-4820-954d-f421002e2445",
   "metadata": {},
   "outputs": [],
   "source": [
    "# N = 2 * 10**5\n",
    "# N_scale = 10**5\n",
    "# device = \"cpu\"\n",
    "\n",
    "# x_ConfigBuilderBlock, _, _, x_ModelTrainerBlock = pipelines[3][0].pipes\n",
    "\n",
    "# x_ConfigBuilderBlock.config[\"datasets\"][\"data_params\"][\"subset_n\"] = [250000, 100000, N]\n",
    "\n",
    "# x1 = ModelLoaderBlock()(x_ConfigBuilderBlock, x_ModelTrainerBlock)\n",
    "\n",
    "# x2 = DataGeneratorBlock(N, model_type=\"flow\", chunks=10, device=device)(x1)\n",
    "# x3 = GeneratedDataVerifierBlock(save_data=False, device=device, rescale_data=True)(x1, x2)\n",
    "\n",
    "# x4 = DatasetBuilderBlock()(x_ConfigBuilderBlock)\n",
    "# x5 = ReferenceDataLoaderBlock()(x4)\n",
    "\n",
    "# x51 = CutDataBlock(0.5, N)(x3, x5)\n",
    "\n",
    "# x6 = ScalingTestBlock(10000, N_scale, 30)(x51)\n",
    "\n",
    "# scaling_pipe_full = Pipeline()\n",
    "# scaling_pipe_full.compose(x1, x2, x3, x4, x5, x51, x6)\n",
    "# scaling_pipe_full.fit()\n",
    "\n",
    "# ref = scaling_pipe_full.pipes[-3].reference_data.numpy()\n",
    "# gen = scaling_pipe_full.pipes[2].generated_data.numpy()\n",
    "\n",
    "# plt.hist(scaling_pipe_full.pipes[-1].reference_data[:, 0], bins=30, histtype=\"step\")\n",
    "# plt.hist(scaling_pipe_full.pipes[-1].generated_data[:, 0], bins=30, histtype=\"step\")\n",
    "# plt.yscale(\"log\")"
   ]
  },
  {
   "cell_type": "code",
   "execution_count": null,
   "id": "5233e056-4ee2-4747-8d70-9d2c10a2fa89",
   "metadata": {},
   "outputs": [],
   "source": [
    "ref = scaling_pipe_full.pipes[-2].reference_data.numpy()\n",
    "gen = scaling_pipe_full.pipes[2].generated_data.numpy()"
   ]
  },
  {
   "cell_type": "code",
   "execution_count": null,
   "id": "10d4c3e9-4108-4551-b485-cbfe7df7ea85",
   "metadata": {},
   "outputs": [],
   "source": [
    "N_range = x6.N_range"
   ]
  },
  {
   "cell_type": "code",
   "execution_count": null,
   "id": "73a6954b-c19c-468d-a3c3-4204f79cb7a7",
   "metadata": {},
   "outputs": [],
   "source": [
    "plt.hist(gen[:, 0], histtype=\"step\", range=(-1, 12), bins=30)\n",
    "plt.hist(ref[:, 0], histtype=\"step\", range=(-1, 12), bins=30)\n",
    "# plt.yscale(\"log\")\n",
    "plt.tight_layout()"
   ]
  },
  {
   "cell_type": "code",
   "execution_count": null,
   "id": "8ce0e2c7-9173-41e8-86a6-4499b1fc0b60",
   "metadata": {},
   "outputs": [],
   "source": [
    "res = scaling_pipe_full.pipes[-1].results"
   ]
  },
  {
   "cell_type": "code",
   "execution_count": null,
   "id": "04400768-3b38-4ab2-9a45-b2f04e183fe7",
   "metadata": {},
   "outputs": [],
   "source": [
    "s_chi2 = np.zeros((18, len(res)))\n",
    "s_chi2_crit = np.zeros((18, len(res)))\n",
    "s_ks = np.zeros((18, len(res)))\n",
    "s_ks_crit = np.zeros((18, len(res)))"
   ]
  },
  {
   "cell_type": "code",
   "execution_count": null,
   "id": "0f9c3cfc-a8ac-452d-9f1c-c2e19d5ed5dd",
   "metadata": {},
   "outputs": [],
   "source": [
    "for i, r in enumerate(res):\n",
    "    chi2, ks = r\n",
    "    s_chi2[:, i] = chi2[\"chi2\"].to_numpy()\n",
    "    s_ks[:, i] = ks[\"ks\"].to_numpy()\n",
    "    s_chi2_crit[:, i] = chi2[\"crit\"].to_numpy()\n",
    "    s_ks_crit[:, i] = ks[\"crit\"].to_numpy()"
   ]
  },
  {
   "cell_type": "code",
   "execution_count": null,
   "id": "f09c54f9-0eb2-4bbb-89b8-467daff5c880",
   "metadata": {},
   "outputs": [],
   "source": [
    "from mpl_toolkits.axes_grid1 import make_axes_locatable\n",
    "\n",
    "set_size(18)\n",
    "plt.figure()\n",
    "ax = plt.gca()\n",
    "\n",
    "im = ax.imshow(np.log10(s_chi2 / s_chi2_crit))\n",
    "# im = ax.imshow(s_chi2 / s_chi2_crit)\n",
    "im.set_clim(-0.4, 0.8)\n",
    "\n",
    "ax.set_yticks(np.arange(0, 18, 1))\n",
    "ax.set_yticklabels(LATEX_COLNAMES)\n",
    "\n",
    "ax.minorticks_off()\n",
    "              \n",
    "ax.set_xticks(np.arange(0, 30, 1)[1::5])\n",
    "ax.set_xticklabels(N_range[1::5])          \n",
    "              \n",
    "ax.set_xlabel(\"$N$ generated\", loc=\"center\")\n",
    "\n",
    "divider = make_axes_locatable(ax)\n",
    "cax = divider.append_axes(\"right\", size=\"5%\", pad=0.2)\n",
    "cbar = plt.colorbar(im, cax=cax)\n",
    "cax.set_xlabel('log $\\chi^2/\\chi^2_c$', loc=\"center\")\n",
    "ax.set_title(\"Glow $\\chi^2$ test\")\n",
    "\n",
    "plt.tight_layout()\n",
    "plt.savefig(saved + \"imshow_realnvp_chi2.pdf\")"
   ]
  },
  {
   "cell_type": "code",
   "execution_count": null,
   "id": "df1fc8e1-5c57-40c6-af96-ab497d733fb5",
   "metadata": {},
   "outputs": [],
   "source": [
    "set_size(18)\n",
    "plt.figure()\n",
    "ax = plt.gca()\n",
    "\n",
    "# im = ax.imshow(np.log10(s_ks / s_ks_crit))\n",
    "im = ax.imshow(s_ks / s_ks_crit)\n",
    "#im.set_clim(-0.4, 0.8)\n",
    "\n",
    "ax.set_yticks(np.arange(0, 18, 1))\n",
    "ax.set_yticklabels(LATEX_COLNAMES)\n",
    "\n",
    "ax.minorticks_off()\n",
    "              \n",
    "ax.set_xticks(np.arange(0, 30, 1)[1::5])\n",
    "ax.set_xticklabels(N_range[1::5])\n",
    "              \n",
    "ax.set_xlabel(\"$N$ generated\", loc=\"center\")\n",
    "\n",
    "divider = make_axes_locatable(ax)\n",
    "cax = divider.append_axes(\"right\", size=\"5%\", pad=0.2)\n",
    "cbar = plt.colorbar(im, cax=cax)\n",
    "cax.set_xlabel('log KS$/$KS$_c$', loc=\"center\")\n",
    "ax.set_title(\"Glow KS test\")\n",
    "\n",
    "plt.tight_layout()\n",
    "plt.savefig(saved + \"imshow_realnvp_ks.pdf\")"
   ]
  },
  {
   "cell_type": "code",
   "execution_count": null,
   "id": "9de7ff32-75dc-4047-aa7e-d5bb5bcbb9ff",
   "metadata": {},
   "outputs": [],
   "source": [
    "run_name = \"Higgs_Glow\"\n",
    "n = 10\n",
    "\n",
    "pipeline_path = f\"ml_pipeline/{run_name}/\"\n",
    "pipeline_sig_name = run_name + f\"_flow_blocks_{n}_sig_train_pipe\"\n",
    "pipeline_bkg_name = run_name + f\"_flow_blocks_{n}_train_pipe\"\n",
    "\n",
    "pipe_sig = Pipeline(pipeline_name=pipeline_sig_name, pipeline_path=pipeline_path).load().pipes\n",
    "pipe_bkg = Pipeline(pipeline_name=pipeline_bkg_name, pipeline_path=pipeline_path).load().pipes"
   ]
  },
  {
   "cell_type": "code",
   "execution_count": null,
   "id": "d7535fa3-366b-428b-b8b9-e81d9dd769a4",
   "metadata": {},
   "outputs": [],
   "source": [
    "pipe_bkg"
   ]
  },
  {
   "cell_type": "code",
   "execution_count": null,
   "id": "477610b6-e6f2-4037-924b-e53b46f75ee5",
   "metadata": {},
   "outputs": [],
   "source": [
    "N = 50\n",
    "\n",
    "x1 = ModelLoaderBlock()(pipe_sig[0], pipe_sig[-1], pipe_sig[1])\n",
    "x2 = ModelLoaderBlock()(pipe_bkg[0], pipe_bkg[-1], pipe_bkg[1])\n",
    "\n",
    "x3 = DatasetBuilderBlock()(pipe_sig[0])\n",
    "x4 = DatasetBuilderBlock()(pipe_bkg[0])\n",
    "\n",
    "x5 = CouplingModelTestingBlock(N, mean=False)(x4, x1, pipe_sig[0])\n",
    "x6 = CouplingModelTestingBlock(N, mean=False)(x4, x2, pipe_bkg[0])"
   ]
  },
  {
   "cell_type": "code",
   "execution_count": null,
   "id": "889b4927-d060-4231-b53d-75409dc37e3f",
   "metadata": {},
   "outputs": [],
   "source": [
    "pipe = Pipeline()\n",
    "pipe.compose(x1, x2, x3, x4, x5, x6)\n",
    "pipe.fit()"
   ]
  },
  {
   "cell_type": "code",
   "execution_count": null,
   "id": "4255add2-d456-42c0-937d-7e91c8cca2be",
   "metadata": {},
   "outputs": [],
   "source": [
    "sig_dist = pipe.pipes[-2].results[-1].flatten().numpy()\n",
    "bkg_dist = pipe.pipes[-1].results[-1].flatten().numpy()"
   ]
  },
  {
   "cell_type": "code",
   "execution_count": null,
   "id": "423e7894-87b6-4a0a-b42e-800dcd11569d",
   "metadata": {
    "tags": []
   },
   "outputs": [],
   "source": [
    "plt.hist(sig_dist, histtype=\"step\", bins=40, range=(0, 80), lw=2)\n",
    "plt.hist(bkg_dist, histtype=\"step\", bins=40, range=(0, 80), lw=2)\n",
    "plt.yscale(\"log\")\n",
    "plt.xlabel(\"NLL\")\n",
    "plt.ylabel(\"log $N$\")\n",
    "plt.legend([\"sig (trained)\", \"bkg\"])\n",
    "plt.savefig(saved + \"flow_class_realnvp_log.pdf\")\n",
    "plt.tight_layout()"
   ]
  },
  {
   "cell_type": "code",
   "execution_count": null,
   "id": "3cf35d00-84a3-4617-8556-b0fd967f6ae5",
   "metadata": {
    "tags": []
   },
   "outputs": [],
   "source": [
    "plt.hist(sig_dist, histtype=\"step\", bins=40, range=(0, 40), lw=2)\n",
    "plt.hist(bkg_dist, histtype=\"step\", bins=40, range=(0, 40), lw=2)\n",
    "plt.xlabel(\"NLL\")\n",
    "plt.ylabel(\"$N$\")\n",
    "plt.legend([\"sig (trained)\", \"bkg\"])\n",
    "plt.savefig(saved + \"flow_class_realnvp.pdf\")\n",
    "plt.tight_layout()"
   ]
  },
  {
   "cell_type": "code",
   "execution_count": null,
   "id": "e332ee60-daf0-4010-be3a-db82b9ff8734",
   "metadata": {},
   "outputs": [],
   "source": [
    "run_name = \"Higgs_Glow\"\n",
    "n = 10\n",
    "\n",
    "pipeline_path = f\"ml_pipeline/{run_name}/\"\n",
    "pipeline_sig_name = run_name + f\"_flow_blocks_{n}_sig_train_pipe\"\n",
    "pipeline_bkg_name = run_name + f\"_flow_blocks_{n}_train_pipe\"\n",
    "\n",
    "pipe_sig = Pipeline(pipeline_name=pipeline_sig_name, pipeline_path=pipeline_path).load().pipes\n",
    "pipe_bkg = Pipeline(pipeline_name=pipeline_bkg_name, pipeline_path=pipeline_path).load().pipes"
   ]
  },
  {
   "cell_type": "code",
   "execution_count": null,
   "id": "13d5dc6d-cf00-4ff2-92fb-76f5310a8b31",
   "metadata": {},
   "outputs": [],
   "source": [
    "N = 10**5\n",
    "device = \"cpu\"\n",
    "\n",
    "x1 = ModelLoaderBlock()(pipe_sig[0], pipe_sig[-1], pipe_sig[1])\n",
    "x2 = ModelLoaderBlock()(pipe_bkg[0], pipe_bkg[-1], pipe_bkg[1])\n",
    "\n",
    "x3 = DataGeneratorBlock(N, model_type=\"flow\", chunks=10, device=device)(x1)\n",
    "x4 = GeneratedDataVerifierBlock(save_data=False, device=device, rescale_data=False)(x1, x3)\n",
    "\n",
    "x5 = DataGeneratorBlock(N, model_type=\"flow\", chunks=10, device=device)(x2)\n",
    "x6 = GeneratedDataVerifierBlock(save_data=False, device=device, rescale_data=False)(x2, x5)\n",
    "\n",
    "config = copy.deepcopy(pipe_sig[0].config)\n",
    "config[\"datasets\"][\"data_name\"] = \"higgs_bkg\"\n",
    "config[\"datasets\"][\"data_params\"][\"subset_n\"] = [10 ** 5, 10 ** 5, 10 ** 6]\n",
    "\n",
    "x71 = DatasetBuilderBlock(config=config)()\n",
    "x81 = ReferenceDataLoaderBlock(rescale_reference=\"logit_normal\")(x71)\n",
    "\n",
    "config = copy.deepcopy(pipe_sig[0].config)\n",
    "config[\"datasets\"][\"data_name\"] = \"higgs_sig\"\n",
    "config[\"datasets\"][\"data_params\"][\"subset_n\"] = [10 ** 5, 10 ** 5, 10 ** 6]\n",
    "\n",
    "x72 = DatasetBuilderBlock(config=config)()\n",
    "x82 = ReferenceDataLoaderBlock(rescale_reference=\"logit_normal\")(x72)\n",
    "\n",
    "class_run_name = \"Higgs_resnet_classifier_train_pipeline\"\n",
    "class_train_pipeline = Pipeline(pipeline_name=class_run_name, pipeline_path=\"ml_pipeline/\")\n",
    "class_train_pipeline.load()\n",
    "\n",
    "x9 = ModelLoaderBlock(device=device)(class_train_pipeline.pipes[0], class_train_pipeline.pipes[-1])\n",
    "x10 = ClassifierRunnerBlock(save_data=False)(x4, x9) # sig gen\n",
    "x11 = ClassifierRunnerBlock(save_data=False)(x6, x9) # bkg gen\n",
    "\n",
    "x12 = ClassifierRunnerBlock(save_data=False)(x81, x9) # MC bkg\n",
    "x13 = ClassifierRunnerBlock(save_data=False)(x82, x9) # MC sig"
   ]
  },
  {
   "cell_type": "code",
   "execution_count": null,
   "id": "25e343a9-0b02-4719-8c91-9eb8ac7dcf04",
   "metadata": {},
   "outputs": [],
   "source": [
    "pipe = Pipeline()\n",
    "pipe.compose(x1, x2, x3, x4, x5, x6, x71, x81, x72, x82, x9, x10, x11, x12, x13)\n",
    "pipe.fit()"
   ]
  },
  {
   "cell_type": "code",
   "execution_count": null,
   "id": "076810b2-f792-4e44-bb8f-19c3fcae4db5",
   "metadata": {},
   "outputs": [],
   "source": [
    "sig_gen = pipe.pipes[-4].results\n",
    "bkg_gen = pipe.pipes[-3].results\n",
    "sig_mc = pipe.pipes[-1].results[:len(sig_gen)]\n",
    "bkg_mc = pipe.pipes[-2].results[:len(sig_gen)]"
   ]
  },
  {
   "cell_type": "code",
   "execution_count": null,
   "id": "8a22c0b1-6c3f-4420-afd4-d91eca3e41da",
   "metadata": {
    "tags": []
   },
   "outputs": [],
   "source": [
    "set_size(s=20)\n",
    "\n",
    "plt.hist(sig_gen, histtype=\"step\", bins=30, range=(-0.6, 1.2), lw=3)\n",
    "plt.hist(bkg_gen, histtype=\"step\", bins=30, range=(-0.6, 1.2), lw=3)\n",
    "plt.hist(sig_mc, histtype=\"step\", bins=30, range=(-0.6, 1.2), lw=3)\n",
    "plt.hist(bkg_mc, histtype=\"step\", bins=30, range=(-0.6, 1.2), lw=3)\n",
    "\n",
    "plt.legend([\"sig gen\", \"bkg gen\", \"sig MC\", \"bkg MC\"], loc=\"upper left\")\n",
    "plt.axvline(0.5, c=\"k\", ls='--')\n",
    "plt.ylabel(\"$N$\", fontsize=29)\n",
    "plt.xlabel(\"Classifier output\", fontsize=29)\n",
    "plt.tight_layout()\n",
    "plt.savefig(saved + \"class_gen_mc.pdf\")"
   ]
  },
  {
   "cell_type": "code",
   "execution_count": null,
   "id": "a9493e4e-ac49-4223-9a7a-ea320073d95a",
   "metadata": {},
   "outputs": [],
   "source": [
    "N = len(sig_gen)\n",
    "sig_per = 0.2\n",
    "N_sig = int(N * sig_per)\n",
    "\n",
    "sig_gen = sig_gen[:N_sig]\n",
    "sig_mc = sig_mc[:N_sig]"
   ]
  },
  {
   "cell_type": "code",
   "execution_count": null,
   "id": "a71cfddb-6998-4e77-a3e9-455f6504774b",
   "metadata": {},
   "outputs": [],
   "source": [
    "sig_bkg_gen = np.concatenate([sig_gen, bkg_gen])\n",
    "sig_bkg_mc = np.concatenate([sig_mc, bkg_mc])"
   ]
  },
  {
   "cell_type": "code",
   "execution_count": null,
   "id": "040af56a-d8c8-424c-8702-dd521864f432",
   "metadata": {
    "tags": []
   },
   "outputs": [],
   "source": [
    "plt.hist(sig_gen, histtype=\"step\", bins=30, range=(-0.6, 1.5), lw=2)\n",
    "plt.hist(bkg_gen, histtype=\"step\", bins=30, range=(-0.6, 1.5), lw=2)\n",
    "plt.hist(sig_mc, histtype=\"step\", bins=30, range=(-0.6, 1.5), lw=2)\n",
    "plt.hist(bkg_mc, histtype=\"step\", bins=30, range=(-0.6, 1.5), lw=2)\n",
    "\n",
    "plt.hist(sig_bkg_gen, histtype=\"step\", bins=30, range=(-0.6, 1.2), lw=2)\n",
    "plt.hist(sig_bkg_mc, histtype=\"step\", bins=30, range=(-0.6, 1.2), lw=2)\n",
    "\n",
    "plt.legend([\"gen sig\", \"gen bkg\", \"mc sig\", \"mc bkg\", \"gen sig+bkg\", \"mc sig+bkg\"], loc=\"upper left\")\n",
    "plt.axvline(0.5, c=\"k\", ls='--')\n",
    "plt.ylabel(\"$N$\")\n",
    "plt.xlabel(\"Classifier output\")\n",
    "plt.tight_layout()\n",
    "plt.savefig(saved + \"class_gen_mc_comp.pdf\")"
   ]
  },
  {
   "cell_type": "code",
   "execution_count": null,
   "id": "87ad4fe7-917a-4f5b-89ac-17708caf548c",
   "metadata": {
    "tags": []
   },
   "outputs": [],
   "source": [
    "plt.hist(sig_bkg_gen, histtype=\"step\", bins=30, range=(-0.6, 1.5), lw=2)\n",
    "plt.hist(sig_bkg_mc, histtype=\"step\", bins=30, range=(-0.6, 1.5), lw=2)\n",
    "\n",
    "plt.legend([\"gen sig+bkg\", \"mc sig+bkg\"], loc=\"upper left\")\n",
    "plt.axvline(0.5, c=\"k\", ls='--')\n",
    "plt.ylabel(\"$N$\")\n",
    "plt.xlabel(\"Classifier output\")\n",
    "plt.tight_layout()"
   ]
  },
  {
   "cell_type": "code",
   "execution_count": null,
   "id": "393b560d-0051-4832-81ee-b7442a54bf8a",
   "metadata": {},
   "outputs": [],
   "source": []
  },
  {
   "cell_type": "code",
   "execution_count": null,
   "id": "d48d2c52-faf3-46cd-9a2e-d7b993c827d2",
   "metadata": {},
   "outputs": [],
   "source": []
  }
 ],
 "metadata": {
  "kernelspec": {
   "display_name": "Python 3 (ipykernel)",
   "language": "python",
   "name": "python3"
  },
  "language_info": {
   "codemirror_mode": {
    "name": "ipython",
    "version": 3
   },
   "file_extension": ".py",
   "mimetype": "text/x-python",
   "name": "python",
   "nbconvert_exporter": "python",
   "pygments_lexer": "ipython3",
   "version": "3.8.7"
  }
 },
 "nbformat": 4,
 "nbformat_minor": 5
}
