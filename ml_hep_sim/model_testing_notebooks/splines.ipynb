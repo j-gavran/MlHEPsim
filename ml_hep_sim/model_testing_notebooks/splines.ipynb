{
 "cells": [
  {
   "cell_type": "code",
   "execution_count": null,
   "id": "d6463a47-2048-41eb-9974-102ab1b6d432",
   "metadata": {},
   "outputs": [],
   "source": [
    "import numpy as np"
   ]
  },
  {
   "cell_type": "code",
   "execution_count": null,
   "id": "ac470e89-d6d4-4fb9-a128-5ac2c0522b8c",
   "metadata": {},
   "outputs": [],
   "source": [
    "%cd ../../../"
   ]
  },
  {
   "cell_type": "code",
   "execution_count": null,
   "id": "2ad75a03-e9c5-4fc1-afd5-4bad508a6bd9",
   "metadata": {},
   "outputs": [],
   "source": [
    "saved = \"ml_hep_sim/notebooks/article_notebooks/saved/\""
   ]
  },
  {
   "cell_type": "code",
   "execution_count": null,
   "id": "9704eba6-d02e-47d2-a359-ed943bed5603",
   "metadata": {},
   "outputs": [],
   "source": [
    "from ml_hep_sim.notebooks.article_notebooks.test_runs import *\n",
    "from ml_hep_sim.pipeline.pipes import *\n",
    "from ml_hep_sim.pipeline.blocks import *\n",
    "\n",
    "from ml_hep_sim.plotting.style import style_setup, set_size\n",
    "from ml_hep_sim.stats.stat_plots import two_sample_plot\n",
    "\n",
    "from ml_hep_sim.data_utils.higgs.process_higgs_dataset import LATEX_COLNAMES, LOG_BIN_RANGES\n",
    "\n",
    "import matplotlib \n",
    "from scipy.optimize import curve_fit\n",
    "import matplotlib.pyplot as plt\n",
    "from tqdm import tqdm\n",
    "import copy\n",
    "\n",
    "set_size()\n",
    "style_setup(seaborn_pallete=True)"
   ]
  },
  {
   "cell_type": "code",
   "execution_count": null,
   "id": "6b17ba61-5727-484a-ba18-5e29ee422e5e",
   "metadata": {},
   "outputs": [],
   "source": [
    "num_splines = [4, 8, 12, 32]"
   ]
  },
  {
   "cell_type": "code",
   "execution_count": null,
   "id": "a3402401-eaf9-468a-b38b-fb5dc85e83da",
   "metadata": {},
   "outputs": [],
   "source": [
    "pipelines = run_spline_pipeline(train=False, gen=False, test=False, num_splines=num_splines)"
   ]
  },
  {
   "cell_type": "code",
   "execution_count": null,
   "id": "a2f0b6d9-44e5-441d-a416-61d2345b3b1d",
   "metadata": {},
   "outputs": [],
   "source": [
    "val_losses, steps, times = [], [], []\n",
    "\n",
    "for pipeline in pipelines:\n",
    "    pipes = pipeline.pipes\n",
    "    x1 = ModelLoaderBlock()(*pipes)._run()\n",
    "    metrics = x1.metrics\n",
    "    \n",
    "    val_loss =metrics[-1][\"val_loss\"]\n",
    "    step = metrics[-2][\"step\"]\n",
    "    t = metrics[0][\"timestamp\"].to_numpy()\n",
    "    times.append(t[-1] - t[0])\n",
    "    val_losses.append(val_loss)\n",
    "    steps.append(step)"
   ]
  },
  {
   "cell_type": "code",
   "execution_count": null,
   "id": "30c2117f-0ab0-41ad-aaea-d764e5b8ba62",
   "metadata": {},
   "outputs": [],
   "source": [
    "set_size(s=20)\n",
    "\n",
    "plt.plot(steps[0], val_losses[0], lw=4)\n",
    "plt.plot(steps[1], val_losses[1], lw=4)\n",
    "plt.plot(steps[2], val_losses[2], lw=4)\n",
    "plt.plot(steps[3], val_losses[3], lw=4)\n",
    "\n",
    "plt.legend([\"4 bins\", \"8 bins\", \"12 bins\", \"32 bins\"], fontsize=22)\n",
    "plt.xlim([-800, 2.5*10**4])\n",
    "plt.xlabel(\"Steps\", loc=\"center\", fontsize=29)\n",
    "plt.ylabel(\"Validation loss\", fontsize=29)\n",
    "\n",
    "plt.tight_layout()\n",
    "plt.savefig(saved + \"val_loss_vs_steps_splines.pdf\")"
   ]
  },
  {
   "cell_type": "code",
   "execution_count": null,
   "id": "15a8bf3e-c1dc-4f38-b405-6fc6e23bee2e",
   "metadata": {},
   "outputs": [],
   "source": [
    "# pipeline = run_spline_pipeline(train=False, gen=False, test=False, num_splines=[32])[0]\n",
    "\n",
    "pipeline = run_spline_pipeline(\n",
    "        False,\n",
    "        False,\n",
    "        False,\n",
    "        sig=False,\n",
    "        num_splines=[32],\n",
    "        name_str=\"\",\n",
    "        num_train=np.logspace(4, 6, 10).astype(int),\n",
    "    )[-1]"
   ]
  },
  {
   "cell_type": "code",
   "execution_count": null,
   "id": "9e4b52e5-debd-4342-be65-672077205568",
   "metadata": {},
   "outputs": [],
   "source": [
    "pipeline"
   ]
  },
  {
   "cell_type": "code",
   "execution_count": null,
   "id": "c1c2048f-fb8a-41bc-8261-5053f9c97f88",
   "metadata": {
    "tags": []
   },
   "outputs": [],
   "source": [
    "device = \"cuda\"\n",
    "\n",
    "r = 15 # repeats\n",
    "s = 30 # scaling plot points\n",
    "N = 10**5\n",
    "\n",
    "res_lst = []\n",
    "class_res = []\n",
    "\n",
    "for _ in range(r):\n",
    "    x_ConfigBuilderBlock, _, _, x_ModelTrainerBlock = pipeline.pipes\n",
    "    x_ConfigBuilderBlock.config[\"datasets\"][\"data_params\"][\"subset_n\"] = [250000, 100000, N]\n",
    "\n",
    "    x1 = ModelLoaderBlock(device=device)(x_ConfigBuilderBlock, x_ModelTrainerBlock)\n",
    "\n",
    "    x2 = DataGeneratorBlock(N, model_type=\"flow\", chunks=10, device=device)(x1)\n",
    "    x3 = GeneratedDataVerifierBlock(save_data=False, device=device, rescale_data=False)(x1, x2)\n",
    "\n",
    "    x4 = DatasetBuilderBlock()(x_ConfigBuilderBlock)\n",
    "    x5 = ReferenceDataLoaderBlock(rescale_reference=\"logit_normal\", device=device)(x4)\n",
    "\n",
    "    class_run_name = \"Higgs_resnet_classifier_train_pipeline\"\n",
    "    class_train_pipeline = Pipeline(pipeline_name=class_run_name, pipeline_path=\"ml_pipeline/\")\n",
    "    class_train_pipeline.load()\n",
    "\n",
    "    x6 = ModelLoaderBlock(device=device)(class_train_pipeline.pipes[0], class_train_pipeline.pipes[-1])\n",
    "    x7 = ClassifierRunnerBlock(save_data=False, device=device)(x5, x6)\n",
    "    x8 = ClassifierRunnerBlock(save_data=False, device=device)(x3, x6)\n",
    "\n",
    "    class_res.append(x7.results)\n",
    "\n",
    "    x9 = ScalingTestBlock(1000, N, s)(x7, x8)\n",
    "\n",
    "    scaling_pipe = Pipeline()\n",
    "    scaling_pipe.compose(x1, x2, x3, x4, x5, x6, x7, x8, x9)\n",
    "    scaling_pipe.fit()\n",
    "\n",
    "    res = scaling_pipe.pipes[-1].results\n",
    "\n",
    "    res_lst.append(res)"
   ]
  },
  {
   "cell_type": "code",
   "execution_count": null,
   "id": "19a671bb-6f44-442e-989e-85766a44f812",
   "metadata": {},
   "outputs": [],
   "source": [
    "chi2_m = np.zeros((r, s))\n",
    "ks_m = np.zeros((r, s))\n",
    "chi2_m_crit = np.zeros((r, s))\n",
    "ks_m_crit = np.zeros((r, s))\n",
    "\n",
    "for ri in range(r):\n",
    "    for si in range(s):\n",
    "        chi2, ks = res_lst[ri][si]\n",
    "        \n",
    "        chi2_m[ri, si] = chi2[\"chi2\"].to_numpy()[0]\n",
    "        ks_m[ri, si] = ks[\"ks\"].to_numpy()[0]\n",
    "        chi2_m_crit[ri, si] = chi2[\"crit\"].to_numpy()[0]\n",
    "        ks_m_crit [ri, si] = ks[\"crit\"].to_numpy()[0]"
   ]
  },
  {
   "cell_type": "code",
   "execution_count": null,
   "id": "59d9c89f-151b-4a9e-a0db-caf5638d1440",
   "metadata": {},
   "outputs": [],
   "source": [
    "N_range = x9.N_range"
   ]
  },
  {
   "cell_type": "code",
   "execution_count": null,
   "id": "877c0db2-3e13-47e5-a555-142ff656b8d5",
   "metadata": {},
   "outputs": [],
   "source": [
    "set_size(20)\n",
    "\n",
    "plt.scatter(N_range, chi2_m.mean(axis=0), s=60)\n",
    "plt.plot(N_range, chi2_m_crit.mean(axis=0), ls='--', c='C1', lw=3)\n",
    "\n",
    "plt.errorbar(N_range, chi2_m.mean(axis=0), yerr=chi2_m.std(axis=0), capsize=4, ls=\"none\", lw=2, capthick=2)\n",
    "\n",
    "def func(x, k, n):\n",
    "    return k * x + n\n",
    "\n",
    "popt, pcov = curve_fit(func, N_range, chi2_m.mean(axis=0), sigma=chi2_m.std(axis=0))\n",
    "plt.plot(N_range, func(N_range, *popt), ls='--', c=\"C2\", lw=3)\n",
    "\n",
    "plt.xlim([-2000, 1.05*10**5])\n",
    "plt.xlabel(\"$N$ generated\", loc=\"center\", fontsize=29)\n",
    "plt.ylabel(\"$\\chi^2$ score\", fontsize=29)\n",
    "plt.legend([\"critical\", f\"fit $kx+n$, $k=${popt[0]:.2e}\", \"result\"], fontsize=22)\n",
    "plt.title(\"RQS $\\chi^2$ test\")\n",
    "\n",
    "plt.tight_layout()\n",
    "plt.savefig(saved + \"rqs_chi2_scaling.pdf\")"
   ]
  },
  {
   "cell_type": "code",
   "execution_count": null,
   "id": "f9f83735-7557-4bd3-8dc8-0f0b69c47090",
   "metadata": {},
   "outputs": [],
   "source": [
    "set_size(20)\n",
    "\n",
    "plt.scatter(N_range[1:], ks_m.mean(axis=0)[1:], s=80)\n",
    "plt.plot(N_range[1:], ks_m_crit.mean(axis=0)[1:], ls='--', c=\"C1\", lw=3)\n",
    "plt.errorbar(N_range[1:], ks_m.mean(axis=0)[1:], yerr=ks_m.std(axis=0)[1:], capsize=4, ls=\"none\", lw=2, capthick=2)\n",
    "\n",
    "def func(x, k, n):\n",
    "    return k * x + n\n",
    "\n",
    "popt, pcov = curve_fit(func, N_range[1:], ks_m.mean(axis=0)[1:], sigma=ks_m.std(axis=0)[1:])\n",
    "plt.plot(N_range[1:], func(N_range[1:], *popt), ls='--', c=\"C2\", lw=3)\n",
    "\n",
    "plt.xlim([1000, 1.1*10**5])\n",
    "plt.ylim([0, 3.4*10**(-2)])\n",
    "plt.xlabel(\"$N$ generated\", loc=\"center\", fontsize=29)\n",
    "plt.ylabel(\"KS score\", fontsize=29)\n",
    "plt.legend([\"critical\", f\"fit $kx+n$, $k=${popt[0]:.2e}\", \"result\"], fontsize=22, loc=\"upper right\")\n",
    "plt.title(\"RQS KS test\")\n",
    "plt.tight_layout()\n",
    "plt.savefig(saved + \"rqs_ks_scaling.pdf\")"
   ]
  },
  {
   "cell_type": "code",
   "execution_count": null,
   "id": "af150287-59af-430f-85dd-f614bf718c85",
   "metadata": {},
   "outputs": [],
   "source": [
    "N = 10 ** 5\n",
    "device = \"cuda\"\n",
    "\n",
    "x_ConfigBuilderBlock, _, _, x_ModelTrainerBlock = pipeline.pipes\n",
    "\n",
    "x1 = ModelLoaderBlock(device=device)(x_ConfigBuilderBlock, x_ModelTrainerBlock)\n",
    "\n",
    "x2 = DataGeneratorBlock(N, model_type=\"flow\", chunks=10, device=device)(x1)\n",
    "x3 = GeneratedDataVerifierBlock(save_data=False, device=device)(x1, x2)\n",
    "\n",
    "x4 = DatasetBuilderBlock()(x_ConfigBuilderBlock)\n",
    "x5 = ReferenceDataLoaderBlock(device=device)(x4)\n",
    "\n",
    "x6 = ScalingTestBlock(10000, N, 30)(x5, x3)\n",
    "\n",
    "scaling_pipe_full = Pipeline()\n",
    "scaling_pipe_full.compose(x1, x2, x3, x4, x5, x6)\n",
    "scaling_pipe_full.fit()"
   ]
  },
  {
   "cell_type": "code",
   "execution_count": null,
   "id": "9abf3693-ccd6-4bb4-9920-c5c85041fff4",
   "metadata": {},
   "outputs": [],
   "source": [
    "N_range = x6.N_range"
   ]
  },
  {
   "cell_type": "code",
   "execution_count": null,
   "id": "9a1d6dc5-92e3-43c7-ba54-5efd9c8896bd",
   "metadata": {},
   "outputs": [],
   "source": [
    "res = scaling_pipe_full.pipes[-1].results"
   ]
  },
  {
   "cell_type": "code",
   "execution_count": null,
   "id": "fd3e140c-7fbb-4349-bfb9-531ad2266f27",
   "metadata": {},
   "outputs": [],
   "source": [
    "s_chi2 = np.zeros((18, len(res)))\n",
    "s_chi2_crit = np.zeros((18, len(res)))\n",
    "s_ks = np.zeros((18, len(res)))\n",
    "s_ks_crit = np.zeros((18, len(res)))"
   ]
  },
  {
   "cell_type": "code",
   "execution_count": null,
   "id": "e9cc5678-b318-41ca-a834-bfab9f69e0b2",
   "metadata": {},
   "outputs": [],
   "source": [
    "for i, r in enumerate(res):\n",
    "    chi2, ks = r\n",
    "    s_chi2[:, i] = chi2[\"chi2\"].to_numpy()\n",
    "    s_ks[:, i] = ks[\"ks\"].to_numpy()\n",
    "    s_chi2_crit[:, i] = chi2[\"crit\"].to_numpy()\n",
    "    s_ks_crit[:, i] = ks[\"crit\"].to_numpy()"
   ]
  },
  {
   "cell_type": "code",
   "execution_count": null,
   "id": "72d455f3-bacc-4726-94bd-139fa2cf5e1d",
   "metadata": {},
   "outputs": [],
   "source": [
    "from mpl_toolkits.axes_grid1 import make_axes_locatable\n",
    "\n",
    "set_size(18)\n",
    "\n",
    "plt.figure()\n",
    "ax = plt.gca()\n",
    "\n",
    "im = ax.imshow(np.log10(s_chi2 / s_chi2_crit))\n",
    "im.set_clim(-0.4, 0.8)\n",
    "\n",
    "ax.set_yticks(np.arange(0, 18, 1))\n",
    "ax.set_yticklabels(LATEX_COLNAMES)\n",
    "\n",
    "ax.minorticks_off()\n",
    "              \n",
    "ax.set_xticks(np.arange(0, 30, 1)[1::5])\n",
    "ax.set_xticklabels(N_range[1::5])          \n",
    "              \n",
    "ax.set_xlabel(\"$N$ generated\", loc=\"center\")\n",
    "\n",
    "divider = make_axes_locatable(ax)\n",
    "cax = divider.append_axes(\"right\", size=\"5%\", pad=0.2)\n",
    "cbar = plt.colorbar(im, cax=cax)\n",
    "cax.set_xlabel('log $\\chi^2/\\chi^2_c$', loc=\"center\")\n",
    "ax.set_title(\"RQS $\\chi^2$ test\")\n",
    "\n",
    "plt.tight_layout()\n",
    "plt.savefig(saved + \"imshow_rqs_chi2.pdf\")"
   ]
  },
  {
   "cell_type": "code",
   "execution_count": null,
   "id": "6ed27160-732a-4dd2-8e6a-d833c40fb86a",
   "metadata": {},
   "outputs": [],
   "source": [
    "set_size(18)\n",
    "\n",
    "plt.figure()\n",
    "ax = plt.gca()\n",
    "\n",
    "im = ax.imshow(np.log10(s_ks / s_ks_crit))\n",
    "im.set_clim(-0.4, 0.8)\n",
    "\n",
    "ax.set_yticks(np.arange(0, 18, 1))\n",
    "ax.set_yticklabels(LATEX_COLNAMES)\n",
    "\n",
    "ax.minorticks_off()\n",
    "              \n",
    "ax.set_xticks(np.arange(0, 30, 1)[1::5])\n",
    "ax.set_xticklabels(N_range[1::5])\n",
    "              \n",
    "ax.set_xlabel(\"$N$ generated\", loc=\"center\")\n",
    "\n",
    "divider = make_axes_locatable(ax)\n",
    "cax = divider.append_axes(\"right\", size=\"5%\", pad=0.2)\n",
    "cbar = plt.colorbar(im, cax=cax)\n",
    "cax.set_xlabel('log KS$/$KS$_c$', loc=\"center\")\n",
    "ax.set_title(\"RQS KS test\")\n",
    "\n",
    "plt.tight_layout()\n",
    "plt.savefig(saved + \"imshow_rqs_ks.pdf\")"
   ]
  },
  {
   "cell_type": "code",
   "execution_count": null,
   "id": "2cc217ae-a8d7-4e99-924f-57b0e226ce23",
   "metadata": {},
   "outputs": [],
   "source": []
  },
  {
   "cell_type": "code",
   "execution_count": null,
   "id": "73e2625c-80ef-4ac0-9a26-918d667e971b",
   "metadata": {},
   "outputs": [],
   "source": []
  }
 ],
 "metadata": {
  "kernelspec": {
   "display_name": "Python 3 (ipykernel)",
   "language": "python",
   "name": "python3"
  },
  "language_info": {
   "codemirror_mode": {
    "name": "ipython",
    "version": 3
   },
   "file_extension": ".py",
   "mimetype": "text/x-python",
   "name": "python",
   "nbconvert_exporter": "python",
   "pygments_lexer": "ipython3",
   "version": "3.8.7"
  }
 },
 "nbformat": 4,
 "nbformat_minor": 5
}
