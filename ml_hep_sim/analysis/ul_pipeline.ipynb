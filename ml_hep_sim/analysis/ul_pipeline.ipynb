{
 "cells": [
  {
   "cell_type": "code",
   "execution_count": null,
   "id": "c0a13cbf-03d6-465c-9670-c2a5aac5f369",
   "metadata": {},
   "outputs": [],
   "source": [
    "%cd ../.."
   ]
  },
  {
   "cell_type": "code",
   "execution_count": null,
   "id": "8fddfb14-4e1c-4fd4-8aea-a233a3178f2b",
   "metadata": {},
   "outputs": [],
   "source": [
    "saved = \"v31_results/\" # \"ml_hep_sim/analysis/results/ul/\""
   ]
  },
  {
   "cell_type": "markdown",
   "id": "2d03d7cc-0012-43cc-83a1-4af4154b095e",
   "metadata": {},
   "source": [
    "# Get hists pipeline"
   ]
  },
  {
   "cell_type": "code",
   "execution_count": null,
   "id": "07dabeb7-b7d2-45f0-a348-6ae71e4fee80",
   "metadata": {},
   "outputs": [],
   "source": [
    "from ml_hep_sim.analysis.hists_pipeline import get_hists_pipeline"
   ]
  },
  {
   "cell_type": "code",
   "execution_count": null,
   "id": "98f4c7a7-00ec-42a4-a591-bedc2c6f4845",
   "metadata": {},
   "outputs": [],
   "source": [
    "use_class = False\n",
    "\n",
    "hists_pipeline = get_hists_pipeline(use_classifier=use_class)\n",
    "hists_pipeline.pipes = hists_pipeline.pipes[:-1] # this one only makes 1 hist"
   ]
  },
  {
   "cell_type": "code",
   "execution_count": null,
   "id": "808fe935-befd-4207-af8e-9d676b7aacec",
   "metadata": {},
   "outputs": [],
   "source": [
    "if use_class:\n",
    "    saved += \"class_\"\n",
    "else:\n",
    "    saved += \"mbb_\""
   ]
  },
  {
   "cell_type": "code",
   "execution_count": null,
   "id": "fbe1599e-9e25-405e-912c-593c451ca8d4",
   "metadata": {},
   "outputs": [],
   "source": [
    "# import logging\n",
    "\n",
    "# logger = logging.getLogger()\n",
    "# logger.disabled = True"
   ]
  },
  {
   "cell_type": "code",
   "execution_count": null,
   "id": "cd69b57f-5716-4f47-bd21-0fdf814eccd1",
   "metadata": {},
   "outputs": [],
   "source": [
    "saved"
   ]
  },
  {
   "cell_type": "markdown",
   "id": "8a60e50d-993c-4357-8fc7-f2b8d766491b",
   "metadata": {},
   "source": [
    "# Make many hists"
   ]
  },
  {
   "cell_type": "code",
   "execution_count": null,
   "id": "acda6870-95ee-401a-b04a-fbca62f3d6c8",
   "metadata": {},
   "outputs": [],
   "source": [
    "from ml_hep_sim.analysis.hists_pipeline import MakeHistsFromSamplesLumi\n",
    "from ml_hep_sim.analysis.ul_pipeline import UpperLimitScannerBlock\n",
    "import numpy as np"
   ]
  },
  {
   "cell_type": "code",
   "execution_count": null,
   "id": "39486355-009d-40f4-8083-27fa3de80afa",
   "metadata": {},
   "outputs": [],
   "source": [
    "lumi_start, lumi_end, lumi_step = 100, 1000, 24\n",
    "lumi = [lumi_start, lumi_end, lumi_step]\n",
    "\n",
    "sig_frac = 0.1\n",
    "xsec = 10"
   ]
  },
  {
   "cell_type": "markdown",
   "id": "ff2693c8-50a3-4d8e-aae8-e4ba6700dd3f",
   "metadata": {},
   "source": [
    "## Lumi table"
   ]
  },
  {
   "cell_type": "code",
   "execution_count": null,
   "id": "8432e39e-733d-4d92-8293-32e15a10f669",
   "metadata": {},
   "outputs": [],
   "source": [
    "_sig, _bkg = [], []\n",
    "\n",
    "for l in np.linspace(*lumi):\n",
    "    _sig.append(l * xsec * sig_frac)\n",
    "    _bkg.append(l * xsec)\n",
    "    print(f\"lumi: {l} sig: {_sig[-1]}, bkg: {_bkg[-1]}\")"
   ]
  },
  {
   "cell_type": "markdown",
   "id": "ccf6b288-bbd8-4489-be93-2a9ec7870a2a",
   "metadata": {},
   "source": [
    "# UL setup"
   ]
  },
  {
   "cell_type": "code",
   "execution_count": null,
   "id": "77d54afd-9f9b-489b-948e-3c620fe9bf7a",
   "metadata": {},
   "outputs": [],
   "source": [
    "b_sig_bkg = hists_pipeline.pipes[-1]"
   ]
  },
  {
   "cell_type": "code",
   "execution_count": null,
   "id": "4301af17",
   "metadata": {},
   "outputs": [],
   "source": [
    "sig_fracs = np.linspace(0.01, 0.1, 6) # do different signal fraction (injections)"
   ]
  },
  {
   "cell_type": "code",
   "execution_count": null,
   "id": "c08c78e6-6df0-4499-a9c5-30e9925e3d79",
   "metadata": {},
   "outputs": [],
   "source": [
    "sig_fracs"
   ]
  },
  {
   "cell_type": "code",
   "execution_count": null,
   "id": "b1011e71",
   "metadata": {},
   "outputs": [],
   "source": [
    "# set mu and gamma (mc correction) bounds\n",
    "poi_bound = (0.0, 2.0)\n",
    "gamma_bound = (1e-10, 2.0)\n",
    "\n",
    "N_gen = 10**6\n",
    "bkg_err = 0.1 # sys error\n",
    "bins = 30\n",
    "bounds = []\n",
    "\n",
    "for b in range(2*bins+1):\n",
    "    if b == 0:\n",
    "        bounds.append(poi_bound)\n",
    "    else:\n",
    "        bounds.append(gamma_bound)"
   ]
  },
  {
   "cell_type": "code",
   "execution_count": null,
   "id": "88551220-e3bd-4aa3-ab52-5b147c323412",
   "metadata": {},
   "outputs": [],
   "source": [
    "if use_class:\n",
    "    bin_range = (0.5, 1.1)\n",
    "else:\n",
    "    bin_range = (0.01, 3.0)\n",
    "\n",
    "hists_ul_blocks = []\n",
    "\n",
    "for sf in sig_fracs:\n",
    "    hists_block = MakeHistsFromSamplesLumi(bin_range=bin_range, N_gen=N_gen, \n",
    "                                           bins=bins, alpha=sf, lumi=lumi, xsec=xsec)(b_sig_bkg)\n",
    "    \n",
    "    ul_block = UpperLimitScannerBlock(bkg_err=bkg_err, workers=24, par_bounds=bounds, mc_test=False)(hists_block)\n",
    "\n",
    "    hists_ul_blocks.append(hists_block)\n",
    "    hists_ul_blocks.append(ul_block)\n",
    "\n",
    "for sf in sig_fracs:\n",
    "    hists_block = MakeHistsFromSamplesLumi(bin_range=bin_range, N_gen=N_gen,\n",
    "                                           bins=bins, alpha=sf, lumi=lumi, xsec=xsec)(b_sig_bkg)\n",
    "    ul_block = UpperLimitScannerBlock(bkg_err=bkg_err, workers=24, par_bounds=bounds, mc_test=True)(hists_block)\n",
    "\n",
    "    hists_ul_blocks.append(hists_block)\n",
    "    hists_ul_blocks.append(ul_block)"
   ]
  },
  {
   "cell_type": "markdown",
   "id": "2bd0ae68-27f2-4936-be5b-1c0527b8fddc",
   "metadata": {},
   "source": [
    "# Build pipeline"
   ]
  },
  {
   "cell_type": "code",
   "execution_count": null,
   "id": "323714ee-55ab-4067-bd36-6b95942f5798",
   "metadata": {
    "tags": []
   },
   "outputs": [],
   "source": [
    "from ml_hep_sim.pipeline.pipes import Pipeline\n",
    "\n",
    "pipe = Pipeline()\n",
    "pipe.compose(hists_pipeline, hists_ul_blocks)\n",
    "pipe.fit()"
   ]
  },
  {
   "cell_type": "code",
   "execution_count": null,
   "id": "e11e8771-758e-476c-9e5d-941e49216d85",
   "metadata": {},
   "outputs": [],
   "source": [
    "# idx for results from pipeline\n",
    "idxs_gen = [-1, -3, -5, -7, -9, -11]\n",
    "idxs_mc = [-13, -15, -17, -19, -21, -23]"
   ]
  },
  {
   "cell_type": "code",
   "execution_count": null,
   "id": "d8aefa8d",
   "metadata": {},
   "outputs": [],
   "source": [
    "sig_fracs"
   ]
  },
  {
   "cell_type": "markdown",
   "id": "91045404-622d-4c68-bf9c-fe1a6688f92a",
   "metadata": {},
   "source": [
    "# Plot UL"
   ]
  },
  {
   "cell_type": "code",
   "execution_count": null,
   "id": "a2dd519d-624b-4fb5-bf85-f8f5809b3fd4",
   "metadata": {},
   "outputs": [],
   "source": [
    "import matplotlib.pyplot as plt\n",
    "from ml_hep_sim.plotting.style import style_setup, set_size\n",
    "\n",
    "set_size()\n",
    "style_setup(seaborn_pallete=True)"
   ]
  },
  {
   "cell_type": "code",
   "execution_count": null,
   "id": "9c4a633c-5440-43ff-9619-4c6fb967bca0",
   "metadata": {},
   "outputs": [],
   "source": [
    "for i, (idx_gen, idx_mc) in enumerate(zip(idxs_gen, idxs_mc)):\n",
    "\n",
    "    res_gen = pipe.pipes[idx_gen].results\n",
    "    res_mc = pipe.pipes[idx_mc].results\n",
    "\n",
    "    plt.fill_between(res_mc.N, res_mc.minus_sigma_2, res_mc.plus_sigma_2, color=\"yellow\", label=\"$\\pm 2\\sigma$\")\n",
    "    plt.fill_between(res_mc.N, res_mc.minus_sigma_1, res_mc.plus_sigma_1, color=\"green\", label=\"$\\pm 1\\sigma$\")\n",
    "\n",
    "    plt.plot(res_mc.N, res_mc.minus_sigma_1, c='k', ls='dotted')\n",
    "    plt.plot(res_mc.N, res_mc.minus_sigma_2, c='k', ls='dotted')\n",
    "\n",
    "    plt.plot(res_mc.N, res_mc.plus_sigma_1, c='k', ls='dotted')\n",
    "    plt.plot(res_mc.N, res_mc.plus_sigma_2, c='k', ls='dotted')\n",
    "\n",
    "    plt.plot(res_mc.N, res_mc.cls_obs, zorder=20, color='k', label=\"$\\mu$ MC obs\")\n",
    "    plt.plot(res_mc.N, res_mc.cls_exp, color='k', ls='--', label=\"$\\mu$ exp\")\n",
    "\n",
    "    plt.plot(res_gen.N, res_gen.cls_obs, zorder=20, color='r', label=\"$\\mu$ ML obs\")\n",
    "    \n",
    "    # plt.plot(res_gen.N, res_gen.cls_exp, color='r', ls='--', label=\"$\\mu$ exp\") # off\n",
    "\n",
    "    # plt.xlabel(\"$N_{gen}^{bkg}$\", loc=\"center\")\n",
    "    plt.xlabel(\"$L$ [fb$^{-1}$]\")\n",
    "    plt.ylabel(\"UL $\\mu$\")\n",
    "\n",
    "    # plt.xscale(\"log\")\n",
    "\n",
    "    plt.title(r\"Signal fraction:\" + \"{:.1f} %\".format(sig_fracs[::-1][i] * 100))\n",
    "\n",
    "\n",
    "    plt.legend()\n",
    "    plt.tight_layout()\n",
    "    plt.savefig(saved + f\"ul_mu_alpha{i+1}.pdf\")\n",
    "    plt.show()"
   ]
  },
  {
   "cell_type": "code",
   "execution_count": null,
   "id": "ad07acb7-fb07-4fb0-89c3-df2f278963b0",
   "metadata": {},
   "outputs": [],
   "source": [
    "for i, (idx_gen, idx_mc) in enumerate(zip(idxs_gen, idxs_mc)):\n",
    "    res_gen = pipe.pipes[idx_gen].results\n",
    "    res_mc = pipe.pipes[idx_mc].results\n",
    "\n",
    "    y = res_mc.cls_obs - res_mc.cls_exp\n",
    "\n",
    "    plt.fill_between(res_mc.N, res_mc.minus_sigma_2 + y, res_mc.plus_sigma_2 + y, color=\"yellow\", label=\"$\\pm 2\\sigma$\")\n",
    "    plt.fill_between(res_mc.N, res_mc.minus_sigma_1 + y, res_mc.plus_sigma_1 + y, color=\"green\", label=\"$\\pm 1\\sigma$\")\n",
    "\n",
    "    plt.plot(res_mc.N, res_mc.minus_sigma_1 + y, c='k', ls='dotted')\n",
    "\n",
    "    plt.plot(res_mc.N, res_mc.plus_sigma_1 + y, c='k', ls='dotted')\n",
    "    \n",
    "    plt.plot(res_mc.N, res_mc.minus_sigma_2 + y, c='k', ls='dotted')\n",
    "    plt.plot(res_mc.N, res_mc.plus_sigma_2 + y, c='k', ls='dotted')\n",
    "\n",
    "    plt.plot(res_mc.N, res_mc.cls_obs, zorder=20, color='k', label=\"$\\mu$ MC obs\")\n",
    "    # plt.plot(res_mc.N, res_mc.cls_exp, color='k', ls='--', label=\"$\\mu$ exp\")\n",
    "\n",
    "    plt.plot(res_gen.N, res_gen.cls_obs, zorder=20, color='r', label=\"$\\mu$ ML obs\")\n",
    "    \n",
    "    # plt.xlabel(\"$N_{gen}^{bkg}$\", loc=\"center\")\n",
    "    plt.xlabel(\"$L$ [fb$^{-1}$]\")\n",
    "    plt.ylabel(\"UL $\\mu$\")\n",
    "\n",
    "    plt.title(r\"Signal fraction:\" + \"{:.1f} %\".format(sig_fracs[::-1][i] * 100))\n",
    "\n",
    "    plt.legend()\n",
    "    plt.tight_layout()\n",
    "    plt.savefig(saved + f\"ul_mu_alpha{i+1}_new.pdf\")\n",
    "    plt.show()"
   ]
  },
  {
   "cell_type": "code",
   "execution_count": null,
   "id": "72250a7c-c4a5-4d85-904a-852e6651b026",
   "metadata": {},
   "outputs": [],
   "source": []
  }
 ],
 "metadata": {
  "kernelspec": {
   "display_name": "Python 3 (ipykernel)",
   "language": "python",
   "name": "python3"
  },
  "language_info": {
   "codemirror_mode": {
    "name": "ipython",
    "version": 3
   },
   "file_extension": ".py",
   "mimetype": "text/x-python",
   "name": "python",
   "nbconvert_exporter": "python",
   "pygments_lexer": "ipython3",
   "version": "3.11.3"
  }
 },
 "nbformat": 4,
 "nbformat_minor": 5
}
