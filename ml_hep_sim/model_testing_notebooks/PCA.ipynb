{
 "cells": [
  {
   "cell_type": "code",
   "execution_count": null,
   "id": "45854975-a85c-4110-9e4d-4d29dbe3a52e",
   "metadata": {},
   "outputs": [],
   "source": [
    "%cd ../../../"
   ]
  },
  {
   "cell_type": "code",
   "execution_count": null,
   "id": "cce592d7-e326-4333-8048-544443e0ba2a",
   "metadata": {},
   "outputs": [],
   "source": [
    "saved = \"ml_hep_sim/notebooks/article_notebooks/saved/\""
   ]
  },
  {
   "cell_type": "code",
   "execution_count": null,
   "id": "8922df52-7df5-4bd9-8d20-9cfff25a9095",
   "metadata": {},
   "outputs": [],
   "source": [
    "from ml_hep_sim.pipeline.blocks import *\n",
    "from ml_hep_sim.pipeline.pipes import *\n",
    "from ml_hep_sim.plotting.style import style_setup\n",
    "\n",
    "import matplotlib.pyplot as plt\n",
    "\n",
    "style_setup(seaborn_pallete=True)"
   ]
  },
  {
   "cell_type": "code",
   "execution_count": null,
   "id": "eec7d860-fd00-4feb-8521-8c720cdbbe86",
   "metadata": {},
   "outputs": [],
   "source": [
    "data_name = \"higgs_sig\"\n",
    "\n",
    "x1 = ConfigBuilderBlock(\n",
    "    override_config={\n",
    "        \"datasets\": {\n",
    "            \"data_name\": data_name,\n",
    "            \"data_params\": {\n",
    "                \"subset_n\": [10 ** 5, 10 ** 5, 10 ** 5],\n",
    "                \"batch_size\": 1024,\n",
    "                \"rescale\": None,\n",
    "                \"to_gpu\": False,\n",
    "                \"shuffle_data\": True,\n",
    "            },\n",
    "        },\n",
    "    },\n",
    "    model_name=\"\",\n",
    ")()\n",
    "x2 = DatasetBuilderBlock()(x1)\n",
    "x3 = ReferenceDataLoaderBlock()(x2)\n",
    "x4 = PCARunnerBlock(save_data=False)(x3)"
   ]
  },
  {
   "cell_type": "code",
   "execution_count": null,
   "id": "086d644f-b6a7-4f05-8c24-6e7f1be7914d",
   "metadata": {},
   "outputs": [],
   "source": [
    "pipe = Pipeline(pipeline_name=f\"PCA_test_pipe\", pipeline_path=\"ml_pipeline/\")"
   ]
  },
  {
   "cell_type": "code",
   "execution_count": null,
   "id": "537ba7fa-17d1-4727-b8fb-892eb72b80e5",
   "metadata": {},
   "outputs": [],
   "source": [
    "pipe.compose(x1, x2, x3, x4)\n",
    "pipe.fit()"
   ]
  },
  {
   "cell_type": "code",
   "execution_count": null,
   "id": "06356d9c-b923-4d85-aa35-aed4999ce275",
   "metadata": {},
   "outputs": [],
   "source": [
    "# res = pipe.pipes[-1].results\n",
    "# pickle_save(saved, f\"PCA_test_{data_name}.p\", res)"
   ]
  },
  {
   "cell_type": "code",
   "execution_count": null,
   "id": "fdbef8a7-eccd-4e42-9b71-f781ec75cdb5",
   "metadata": {},
   "outputs": [],
   "source": [
    "save = [\"PCA_test_higgs_bkg.p\", \"PCA_test_higgs_sig.p\"]"
   ]
  },
  {
   "cell_type": "code",
   "execution_count": null,
   "id": "8fcb05fe-ac5a-4492-b259-d5df668b7d57",
   "metadata": {},
   "outputs": [],
   "source": [
    "for s in save:\n",
    "    plt.hist(pickle_load(saved, s), bins=30, histtype=\"step\", density=True, range=[-4.5, 4.5], lw=2)\n",
    "\n",
    "plt.xlabel(\"PCA output\")\n",
    "plt.ylabel(\"PDF\")\n",
    "plt.legend([\"bkg\", \"sig\"])\n",
    "plt.tight_layout()\n",
    "plt.savefig(saved + \"PCA_pdf.pdf\")"
   ]
  },
  {
   "cell_type": "code",
   "execution_count": null,
   "id": "fc4d7265-d341-4a14-a044-9da8912fb9b6",
   "metadata": {},
   "outputs": [],
   "source": []
  }
 ],
 "metadata": {
  "kernelspec": {
   "display_name": "Python 3 (ipykernel)",
   "language": "python",
   "name": "python3"
  },
  "language_info": {
   "codemirror_mode": {
    "name": "ipython",
    "version": 3
   },
   "file_extension": ".py",
   "mimetype": "text/x-python",
   "name": "python",
   "nbconvert_exporter": "python",
   "pygments_lexer": "ipython3",
   "version": "3.8.7"
  }
 },
 "nbformat": 4,
 "nbformat_minor": 5
}
