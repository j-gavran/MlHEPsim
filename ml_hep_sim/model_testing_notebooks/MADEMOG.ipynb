{
 "cells": [
  {
   "cell_type": "code",
   "execution_count": null,
   "id": "6065ee2a-6698-4a75-85fd-a41750a8f08c",
   "metadata": {},
   "outputs": [],
   "source": [
    "%cd ../../../"
   ]
  },
  {
   "cell_type": "code",
   "execution_count": null,
   "id": "1d27eb0f-c99f-477d-8123-9aa4f31aea79",
   "metadata": {},
   "outputs": [],
   "source": [
    "saved = \"ml_hep_sim/notebooks/article_notebooks/saved/\""
   ]
  },
  {
   "cell_type": "code",
   "execution_count": null,
   "id": "4e739f21-def4-4402-bb2e-64a64665f6b3",
   "metadata": {},
   "outputs": [],
   "source": [
    "from ml_hep_sim.notebooks.article_notebooks.test_runs import *\n",
    "from ml_hep_sim.pipeline.pipes import *\n",
    "from ml_hep_sim.pipeline.blocks import *\n",
    "\n",
    "from ml_hep_sim.plotting.style import style_setup, set_size\n",
    "from ml_hep_sim.stats.stat_plots import two_sample_plot\n",
    "\n",
    "from ml_hep_sim.data_utils.higgs.process_higgs_dataset import LATEX_COLNAMES, LOG_BIN_RANGES\n",
    "\n",
    "import numpy as np\n",
    "from scipy.optimize import curve_fit\n",
    "import matplotlib.pyplot as plt\n",
    "from tqdm import tqdm\n",
    "import copy\n",
    "\n",
    "style_setup(seaborn_pallete=True)"
   ]
  },
  {
   "cell_type": "code",
   "execution_count": null,
   "id": "c912125d-e775-4b2d-980b-203c2a1f0f7f",
   "metadata": {},
   "outputs": [],
   "source": [
    "num_mogs_made = np.concatenate([[1], np.arange(2, 22, 2)])"
   ]
  },
  {
   "cell_type": "code",
   "execution_count": null,
   "id": "6aed585d-c8a8-4769-aed0-0c42f1417bd3",
   "metadata": {},
   "outputs": [],
   "source": [
    "pipelines = run_maf_pipeline(train=False, gen=False, test=False, use_mog=True, use_maf=False, num_mogs=num_mogs_made)#, name_str=\"new_implementation\")"
   ]
  },
  {
   "cell_type": "code",
   "execution_count": null,
   "id": "f22e5637-46a7-4555-aa53-d058b133b442",
   "metadata": {
    "tags": []
   },
   "outputs": [],
   "source": [
    "results = []\n",
    "\n",
    "N = 40 # batch size (i.e. 1024 * N data points)\n",
    "\n",
    "for pipe in tqdm(pipelines):\n",
    "    x_ConfigBuilderBlock, _, _, x_ModelTrainerBlock = pipe.pipes\n",
    "    \n",
    "    x1 = ModelLoaderBlock()(x_ConfigBuilderBlock, x_ModelTrainerBlock)\n",
    "    x2 = DatasetBuilderBlock()(x_ConfigBuilderBlock)\n",
    "    x3 = MADEMOGModelTestingBlock(N, loss_cutoff=20)(x2, x1, x_ConfigBuilderBlock)\n",
    "    \n",
    "    test_pipe = Pipeline()\n",
    "    test_pipe.compose(x1, x2, x3)\n",
    "    test_pipe.fit()\n",
    "    results.append(test_pipe)"
   ]
  },
  {
   "cell_type": "code",
   "execution_count": null,
   "id": "79d18713-c213-4d76-aa1f-73c5d1a2932c",
   "metadata": {},
   "outputs": [],
   "source": [
    "m_lst, s_lst = [], [] # mean and std\n",
    "\n",
    "for r in results:\n",
    "    m, s, _ = r.pipes[-1].results\n",
    "    m_lst.append(m)\n",
    "    s_lst.append(s)"
   ]
  },
  {
   "cell_type": "code",
   "execution_count": null,
   "id": "ad98fe78-08e9-427f-ad64-07f425aa6fde",
   "metadata": {},
   "outputs": [],
   "source": [
    "set_size(20)\n",
    "plt.scatter(num_mogs_made, m_lst, s=100)\n",
    "plt.errorbar(num_mogs_made, m_lst, yerr=s_lst, capsize=4, ls=\"none\", lw=3, capthick=3)\n",
    "plt.xlim([0, 21])\n",
    "plt.xlabel(\"Number of Gaussians\", fontsize=29)\n",
    "plt.ylabel(\"Validation loss\", fontsize=29)\n",
    "plt.xticks(num_mogs_made[::2], num_mogs_made[::2])\n",
    "#plt.minorticks_off()\n",
    "plt.tight_layout()\n",
    "plt.savefig(saved + \"num_mogs.pdf\")"
   ]
  },
  {
   "cell_type": "code",
   "execution_count": null,
   "id": "845ac162-a10a-4311-8556-d6d63a455dd6",
   "metadata": {},
   "outputs": [],
   "source": [
    "# pipeline = run_maf_pipeline(train=False, gen=False, test=False, use_mog=True, use_maf=False, \n",
    "#                              num_mogs=[10], name_str=\"_rerun_10\")[0]\n",
    "\n",
    "# pipeline = run_maf_pipeline(train=False, gen=False, test=False, use_mog=True, use_maf=False, \n",
    "#                                        num_mogs=[18], name_str=\"_rerun_10_3\")[0]\n",
    "\n",
    "pipeline = run_maf_pipeline(\n",
    "        False,\n",
    "        False,\n",
    "        False,\n",
    "        sig=False,\n",
    "        use_mog=True,\n",
    "        use_maf=True,\n",
    "        num_mogs=[10],\n",
    "        num_train=np.logspace(4, 6, 10).astype(int),\n",
    "    )[-1]"
   ]
  },
  {
   "cell_type": "code",
   "execution_count": null,
   "id": "65be7991-488b-4b08-894b-84791e61aa6d",
   "metadata": {
    "tags": []
   },
   "outputs": [],
   "source": [
    "# if the classifier training data rescaling and ref/generated reference rescaling do not match we get a better result?\n",
    "device = \"cuda\"\n",
    "\n",
    "r = 15 # repeats\n",
    "s = 30 # scaling plot points\n",
    "N = 10**5\n",
    "\n",
    "res_lst = []\n",
    "class_res = []\n",
    "\n",
    "for _ in range(r):\n",
    "    x_ConfigBuilderBlock, _, _, x_ModelTrainerBlock = pipeline.pipes\n",
    "    x_ConfigBuilderBlock.config[\"datasets\"][\"data_params\"][\"subset_n\"] = [250000, 100000, N]\n",
    "\n",
    "    x1 = ModelLoaderBlock(device=device)(x_ConfigBuilderBlock, x_ModelTrainerBlock)\n",
    "\n",
    "    x2 = DataGeneratorBlock(N, model_type=\"flow\", chunks=10, device=device)(x1)\n",
    "    x3 = GeneratedDataVerifierBlock(save_data=False, device=device, rescale_data=False)(x1, x2)\n",
    "\n",
    "    x4 = DatasetBuilderBlock()(x_ConfigBuilderBlock)\n",
    "    x5 = ReferenceDataLoaderBlock(rescale_reference=\"logit_normal\", device=device)(x4)\n",
    "\n",
    "    class_run_name = \"Higgs_resnet_classifier_train_pipeline\"\n",
    "    class_train_pipeline = Pipeline(pipeline_name=class_run_name, pipeline_path=\"ml_pipeline/\")\n",
    "    class_train_pipeline.load()\n",
    "\n",
    "    x6 = ModelLoaderBlock(device=device)(class_train_pipeline.pipes[0], class_train_pipeline.pipes[-1])\n",
    "    x7 = ClassifierRunnerBlock(save_data=False, device=device)(x5, x6)\n",
    "    x8 = ClassifierRunnerBlock(save_data=False, device=device)(x3, x6)\n",
    "\n",
    "    class_res.append(x7.results)\n",
    "\n",
    "    x9 = ScalingTestBlock(1000, N, s)(x7, x8)\n",
    "\n",
    "    scaling_pipe = Pipeline()\n",
    "    scaling_pipe.compose(x1, x2, x3, x4, x5, x6, x7, x8, x9)\n",
    "    scaling_pipe.fit()\n",
    "\n",
    "    res = scaling_pipe.pipes[-1].results\n",
    "\n",
    "    res_lst.append(res)"
   ]
  },
  {
   "cell_type": "code",
   "execution_count": null,
   "id": "c190a73f-76e5-4468-9b40-6b7541b2ede7",
   "metadata": {},
   "outputs": [],
   "source": [
    "chi2_m = np.zeros((r, s))\n",
    "ks_m = np.zeros((r, s))\n",
    "chi2_m_crit = np.zeros((r, s))\n",
    "ks_m_crit = np.zeros((r, s))\n",
    "\n",
    "for ri in range(r):\n",
    "    for si in range(s):\n",
    "        chi2, ks = res_lst[ri][si]\n",
    "        \n",
    "        chi2_m[ri, si] = chi2[\"chi2\"].to_numpy()[0]\n",
    "        ks_m[ri, si] = ks[\"ks\"].to_numpy()[0]\n",
    "        chi2_m_crit[ri, si] = chi2[\"crit\"].to_numpy()[0]\n",
    "        ks_m_crit [ri, si] = ks[\"crit\"].to_numpy()[0]"
   ]
  },
  {
   "cell_type": "code",
   "execution_count": null,
   "id": "9d20887c-ccb7-499a-9252-3d16c31c41a5",
   "metadata": {},
   "outputs": [],
   "source": [
    "N_range = x9.N_range"
   ]
  },
  {
   "cell_type": "code",
   "execution_count": null,
   "id": "160ec94b-2c1c-4efa-9f89-4f068218b84d",
   "metadata": {},
   "outputs": [],
   "source": [
    "set_size(20)\n",
    "\n",
    "plt.scatter(N_range, chi2_m.mean(axis=0), s=60)\n",
    "plt.plot(N_range, chi2_m_crit.mean(axis=0), ls='--', c='C1', lw=3)\n",
    "\n",
    "plt.errorbar(N_range, chi2_m.mean(axis=0), yerr=chi2_m.std(axis=0), capsize=4, ls=\"none\", lw=2, capthick=2)\n",
    "\n",
    "def func(x, k, n):\n",
    "    return k * x + n\n",
    "\n",
    "popt, pcov = curve_fit(func, N_range, chi2_m.mean(axis=0), sigma=chi2_m.std(axis=0))\n",
    "plt.plot(N_range, func(N_range, *popt), ls='--', c=\"C2\", lw=3)\n",
    "\n",
    "plt.xlim([-2000, 1.05*10**5])\n",
    "plt.xlabel(\"$N$ generated\", loc=\"center\", fontsize=29)\n",
    "plt.ylabel(\"$\\chi^2$ score\", fontsize=29)\n",
    "plt.legend([\"critical\", f\"fit $kx+n$, $k=${popt[0]:.2e}\", \"result\"], fontsize=22)\n",
    "plt.title(\"MAFMADEMOG $\\chi^2$ test\")\n",
    "\n",
    "plt.tight_layout()\n",
    "plt.savefig(saved + \"mafmademog_chi2_scaling.pdf\")"
   ]
  },
  {
   "cell_type": "code",
   "execution_count": null,
   "id": "5fc2fcd0-4982-4cbe-a9a3-8df020269c5b",
   "metadata": {},
   "outputs": [],
   "source": [
    "np.diag(pcov)**(1/2)"
   ]
  },
  {
   "cell_type": "code",
   "execution_count": null,
   "id": "b4821269-4d15-4b3c-8772-4eb345213e78",
   "metadata": {},
   "outputs": [],
   "source": [
    "set_size(20)\n",
    "\n",
    "plt.scatter(N_range[1:], ks_m.mean(axis=0)[1:], s=80)\n",
    "plt.plot(N_range[1:], ks_m_crit.mean(axis=0)[1:], ls='--', c=\"C1\", lw=3)\n",
    "plt.errorbar(N_range[1:], ks_m.mean(axis=0)[1:], yerr=ks_m.std(axis=0)[1:], capsize=4, ls=\"none\", lw=2, capthick=2)\n",
    "\n",
    "def func(x, k, n):\n",
    "    return k * x + n\n",
    "\n",
    "popt, pcov = curve_fit(func, N_range[1:], ks_m.mean(axis=0)[1:], sigma=ks_m.std(axis=0)[1:])\n",
    "plt.plot(N_range[1:], func(N_range[1:], *popt), ls='--', c=\"C2\", lw=3)\n",
    "\n",
    "plt.xlim([1000, 1.1*10**5])\n",
    "plt.ylim([0, 3.4*10**(-2)])\n",
    "plt.xlabel(\"$N$ generated\", loc=\"center\", fontsize=29)\n",
    "plt.ylabel(\"KS score\", fontsize=29)\n",
    "plt.legend([\"critical\", f\"fit $kx+n$, $k=${popt[0]:.2e}\", \"result\"], fontsize=22, loc=\"upper right\")\n",
    "plt.title(\"MAFMADEMOG KS test\")\n",
    "plt.tight_layout()\n",
    "plt.savefig(saved + \"mafmademog_ks_scaling.pdf\")"
   ]
  },
  {
   "cell_type": "code",
   "execution_count": null,
   "id": "942dd650-2200-466e-96b6-f41ab586f113",
   "metadata": {},
   "outputs": [],
   "source": [
    "np.diag(pcov)**(1/2)"
   ]
  },
  {
   "cell_type": "code",
   "execution_count": null,
   "id": "0b134ad6-fabe-4fab-922e-a28274715c8b",
   "metadata": {},
   "outputs": [],
   "source": [
    "a = x7.results\n",
    "b = x8.results\n",
    "\n",
    "plt.hist(b, histtype=\"step\", range=(-0.5, 1.5), bins=50, lw=2)\n",
    "plt.hist(a, histtype=\"step\", range=(-0.5, 1.5), bins=50, lw=2)\n",
    "plt.xlabel(\"Classifier output\")\n",
    "plt.ylabel(\"$N,\\>$ $\\sum_i=10^5$\")\n",
    "plt.legend([\"gen\", \"MC\"])\n",
    "plt.tight_layout()\n",
    "plt.savefig(saved + \"mafmademog_class_out.pdf\")"
   ]
  },
  {
   "cell_type": "code",
   "execution_count": null,
   "id": "95612577-d196-4973-b817-faba85d52c8a",
   "metadata": {},
   "outputs": [],
   "source": [
    "# N = 10 ** 5\n",
    "# device = \"cpu\"\n",
    "\n",
    "# x_ConfigBuilderBlock, _, _, x_ModelTrainerBlock = pipeline.pipes\n",
    "\n",
    "# x1 = ModelLoaderBlock()(x_ConfigBuilderBlock, x_ModelTrainerBlock)\n",
    "\n",
    "# x2 = DataGeneratorBlock(N, model_type=\"flow\", chunks=10, device=device)(x1)\n",
    "# x3 = GeneratedDataVerifierBlock(save_data=False, device=device)(x1, x2)\n",
    "\n",
    "# x4 = DatasetBuilderBlock()(x_ConfigBuilderBlock)\n",
    "# x5 = ReferenceDataLoaderBlock()(x4)\n",
    "\n",
    "# x6 = ScalingTestBlock(10000, N, 30)(x5, x3)\n",
    "\n",
    "# scaling_pipe_full = Pipeline()\n",
    "# scaling_pipe_full.compose(x1, x2, x3, x4, x5, x6)\n",
    "# scaling_pipe_full.fit()"
   ]
  },
  {
   "cell_type": "code",
   "execution_count": null,
   "id": "a120de1a-8bdb-49a8-8ff2-c458f3fd610a",
   "metadata": {},
   "outputs": [],
   "source": [
    "N = 2 * 10**5\n",
    "rat = 0.9999999\n",
    "device = \"cpu\"\n",
    "\n",
    "x_ConfigBuilderBlock, _, _, x_ModelTrainerBlock = pipeline.pipes\n",
    "\n",
    "x_ConfigBuilderBlock.config[\"datasets\"][\"data_params\"][\"subset_n\"] = [N, N, N]\n",
    "\n",
    "x1 = ModelLoaderBlock()(x_ConfigBuilderBlock, x_ModelTrainerBlock)\n",
    "\n",
    "x2 = DataGeneratorBlock(N, model_type=\"flow\", chunks=10, device=device)(x1)\n",
    "x3 = GeneratedDataVerifierBlock(save_data=False, device=device, rescale_data=True)(x1, x2)\n",
    "\n",
    "x4 = DatasetBuilderBlock()(x_ConfigBuilderBlock)\n",
    "x5 = ReferenceDataLoaderBlock()(x4)\n",
    "\n",
    "x51 = CutDataBlock(rat, N)(x3, x5)\n",
    "x6 = ScalingTestBlock(10000, int(N * rat), 30)(x51)\n",
    "\n",
    "# x6 = ScalingTestBlock(10000, N, 30)(x5, x3)\n",
    "\n",
    "scaling_pipe_full = Pipeline()\n",
    "scaling_pipe_full.compose(x1, x2, x3, x4, x5, x51, x6)\n",
    "# scaling_pipe_full.compose(x1, x2, x3, x4, x5, x6)\n",
    "scaling_pipe_full.fit()\n",
    "\n",
    "ref = scaling_pipe_full.pipes[-3].reference_data.numpy()\n",
    "gen = scaling_pipe_full.pipes[2].generated_data.numpy()\n",
    "\n",
    "plt.hist(scaling_pipe_full.pipes[-1].reference_data[:, 0], bins=30, histtype=\"step\")\n",
    "plt.hist(scaling_pipe_full.pipes[-1].generated_data[:, 0], bins=30, histtype=\"step\")\n",
    "plt.yscale(\"log\")"
   ]
  },
  {
   "cell_type": "code",
   "execution_count": null,
   "id": "1488db09-6e81-42ad-86f4-31b00e2f87a2",
   "metadata": {},
   "outputs": [],
   "source": [
    "N_range = x6.N_range"
   ]
  },
  {
   "cell_type": "code",
   "execution_count": null,
   "id": "80edd40f-d612-4527-aa83-cdc4eaa7e81e",
   "metadata": {},
   "outputs": [],
   "source": [
    "res = scaling_pipe_full.pipes[-1].results"
   ]
  },
  {
   "cell_type": "code",
   "execution_count": null,
   "id": "0def4e30-72e5-4364-8c68-8189ad64fc5a",
   "metadata": {},
   "outputs": [],
   "source": [
    "scaling_pipe_full.pipes[-2].reference_data.shape"
   ]
  },
  {
   "cell_type": "code",
   "execution_count": null,
   "id": "7030a5d2-90c2-4773-bcba-bd05f05aa7bb",
   "metadata": {},
   "outputs": [],
   "source": [
    "s_chi2 = np.zeros((18, len(res)))\n",
    "s_chi2_crit = np.zeros((18, len(res)))\n",
    "s_ks = np.zeros((18, len(res)))\n",
    "s_ks_crit = np.zeros((18, len(res)))"
   ]
  },
  {
   "cell_type": "code",
   "execution_count": null,
   "id": "10a23e4b-cbbe-4f8d-a762-beac8ea087e5",
   "metadata": {},
   "outputs": [],
   "source": [
    "for i, r in enumerate(res):\n",
    "    chi2, ks = r\n",
    "    s_chi2[:, i] = chi2[\"chi2\"].to_numpy()\n",
    "    s_ks[:, i] = ks[\"ks\"].to_numpy()\n",
    "    s_chi2_crit[:, i] = chi2[\"crit\"].to_numpy()\n",
    "    s_ks_crit[:, i] = ks[\"crit\"].to_numpy()"
   ]
  },
  {
   "cell_type": "code",
   "execution_count": null,
   "id": "4cf7c52a-a88f-4d25-b088-bbf4255f4a08",
   "metadata": {
    "tags": []
   },
   "outputs": [],
   "source": [
    "from mpl_toolkits.axes_grid1 import make_axes_locatable\n",
    "\n",
    "set_size(18)\n",
    "\n",
    "plt.figure()\n",
    "ax = plt.gca()\n",
    "\n",
    "im = ax.imshow(np.log10(s_chi2 / s_chi2_crit))\n",
    "im.set_clim(-0.4, 0.8)\n",
    "\n",
    "ax.set_yticks(np.arange(0, 18, 1))\n",
    "ax.set_yticklabels(LATEX_COLNAMES)\n",
    "\n",
    "ax.minorticks_off()\n",
    "\n",
    "ax.set_xticks(np.arange(0, 30, 1)[1::5])\n",
    "ax.set_xticklabels(N_range[1::5])          \n",
    "\n",
    "ax.set_xlabel(\"$N$ generated\", loc=\"center\")\n",
    "\n",
    "divider = make_axes_locatable(ax)\n",
    "cax = divider.append_axes(\"right\", size=\"5%\", pad=0.2)\n",
    "cbar = plt.colorbar(im, cax=cax)\n",
    "cax.set_xlabel('log $\\chi^2/\\chi^2_c$', loc=\"center\")\n",
    "ax.set_title(\"MAFMADEMOG $\\chi^2$ test\")\n",
    "\n",
    "plt.tight_layout()\n",
    "plt.savefig(saved + \"imshow_mafmademog_chi2.pdf\")"
   ]
  },
  {
   "cell_type": "code",
   "execution_count": null,
   "id": "eabb5724-26ff-4331-81bf-98398e83b806",
   "metadata": {
    "tags": []
   },
   "outputs": [],
   "source": [
    "set_size(18)\n",
    "\n",
    "plt.figure()\n",
    "ax = plt.gca()\n",
    "\n",
    "im = ax.imshow(np.log10(s_ks / s_ks_crit))\n",
    "im.set_clim(-0.4, 0.8)\n",
    "\n",
    "ax.set_yticks(np.arange(0, 18, 1))\n",
    "ax.set_yticklabels(LATEX_COLNAMES)\n",
    "\n",
    "ax.minorticks_off()\n",
    "              \n",
    "ax.set_xticks(np.arange(0, 30, 1)[1::5])\n",
    "ax.set_xticklabels(N_range[1::5])\n",
    "              \n",
    "ax.set_xlabel(\"$N$ generated\", loc=\"center\")\n",
    "\n",
    "divider = make_axes_locatable(ax)\n",
    "cax = divider.append_axes(\"right\", size=\"5%\", pad=0.2)\n",
    "cbar = plt.colorbar(im, cax=cax)\n",
    "cax.set_xlabel('log KS$/$KS$_c$', loc=\"center\")\n",
    "ax.set_title(\"MAFMADEMOG KS test\")\n",
    "\n",
    "plt.tight_layout()\n",
    "plt.savefig(saved + \"imshow_mafmademog_ks.pdf\")"
   ]
  },
  {
   "cell_type": "code",
   "execution_count": null,
   "id": "235ade39-2237-4704-ba15-1604292c2e49",
   "metadata": {},
   "outputs": [],
   "source": [
    "pipeline_mademog = run_maf_pipeline(train=False, gen=False, test=False, use_mog=True, use_maf=False, \n",
    "                                    num_mogs=[10], name_str=\"_rerun_10\")[0]"
   ]
  },
  {
   "cell_type": "code",
   "execution_count": null,
   "id": "8d8a9ce1-7d30-465f-acc2-fcaaf6083534",
   "metadata": {},
   "outputs": [],
   "source": [
    "pipeline_mafmademog = run_maf_pipeline(train=False, gen=False, test=False, use_mog=True, use_maf=True, \n",
    "                                       num_mogs=[10], name_str=\"_rerun_10_2\")[0]"
   ]
  },
  {
   "cell_type": "code",
   "execution_count": null,
   "id": "3e8f84d9-1015-4575-b8e0-c0c26a0a2960",
   "metadata": {},
   "outputs": [],
   "source": [
    "pipeline_maf = run_maf_pipeline(train=False, gen=False, test=False, use_mog=False, use_maf=True, \n",
    "                                num_mogs=[10], name_str=\"_MAF_only_10\")"
   ]
  },
  {
   "cell_type": "code",
   "execution_count": null,
   "id": "82c4d8cb-fc80-4745-b0f3-cb8e71a1e3be",
   "metadata": {},
   "outputs": [],
   "source": [
    "pipelines = [pipeline_maf, pipeline_mafmademog, pipeline_mademog]"
   ]
  },
  {
   "cell_type": "code",
   "execution_count": null,
   "id": "e8e782b0-a21a-4163-aa1e-512d40a6955d",
   "metadata": {},
   "outputs": [],
   "source": [
    "val_losses, steps, times = [], [], []\n",
    "\n",
    "for pipeline in pipelines:\n",
    "    pipes = pipeline.pipes\n",
    "    x1 = ModelLoaderBlock()(*pipes)._run()\n",
    "    metrics = x1.metrics\n",
    "    \n",
    "    val_loss =metrics[-1][\"val_loss\"]\n",
    "    step = metrics[-2][\"step\"]\n",
    "    t = metrics[0][\"timestamp\"].to_numpy()\n",
    "    times.append(t[-1] - t[0])\n",
    "    val_losses.append(val_loss)\n",
    "    steps.append(step)"
   ]
  },
  {
   "cell_type": "code",
   "execution_count": null,
   "id": "3f57703e-2212-4c1f-bc23-67cfd915fc76",
   "metadata": {},
   "outputs": [],
   "source": [
    "set_size(s=20)\n",
    "\n",
    "plt.plot(steps[0], val_losses[0], lw=4)\n",
    "plt.plot(steps[1], val_losses[1], lw=4)\n",
    "plt.plot(steps[2], val_losses[2], lw=4)\n",
    "\n",
    "plt.legend([\"MAF\", \"MAFMADEMOG\", \"MADEMOG\"], fontsize=22)\n",
    "plt.xlim([-800, 2.5*10**4])\n",
    "plt.xlabel(\"Steps\", loc=\"center\", fontsize=29)\n",
    "plt.ylabel(\"Validation loss\", fontsize=29)\n",
    "\n",
    "plt.tight_layout()\n",
    "plt.savefig(saved + \"val_loss_vs_steps_mades.pdf\")"
   ]
  },
  {
   "cell_type": "code",
   "execution_count": null,
   "id": "92bc4ae9-c613-469a-8672-c0239954b1f8",
   "metadata": {},
   "outputs": [],
   "source": []
  },
  {
   "cell_type": "code",
   "execution_count": null,
   "id": "ae827bad-bbdb-43d7-9355-0abae3c87378",
   "metadata": {},
   "outputs": [],
   "source": []
  }
 ],
 "metadata": {
  "kernelspec": {
   "display_name": "Python 3 (ipykernel)",
   "language": "python",
   "name": "python3"
  },
  "language_info": {
   "codemirror_mode": {
    "name": "ipython",
    "version": 3
   },
   "file_extension": ".py",
   "mimetype": "text/x-python",
   "name": "python",
   "nbconvert_exporter": "python",
   "pygments_lexer": "ipython3",
   "version": "3.11.3"
  }
 },
 "nbformat": 4,
 "nbformat_minor": 5
}
